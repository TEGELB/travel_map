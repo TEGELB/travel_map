{
 "cells": [
  {
   "cell_type": "code",
   "execution_count": 52,
   "id": "initial_id",
   "metadata": {
    "ExecuteTime": {
     "end_time": "2025-05-24T16:09:12.741086Z",
     "start_time": "2025-05-24T16:09:12.697953Z"
    },
    "collapsed": true,
    "jupyter": {
     "outputs_hidden": true
    }
   },
   "outputs": [],
   "source": [
    "import pandas as pd\n",
    "from datetime import datetime\n",
    "import marko\n",
    "from marko.block import Heading\n",
    "from marko.inline import RawText\n",
    "from typing import Union, List\n",
    "\n",
    "def extract_text(node) -> str:\n",
    "    \"\"\"\n",
    "    Recursively extracts plain text from a marko node (including inline formatting).\n",
    "    \"\"\"\n",
    "    if isinstance(node, RawText):\n",
    "        return node.children\n",
    "    if hasattr(node, 'children'):\n",
    "        return ''.join(extract_text(child) for child in node.children)\n",
    "    return ''\n",
    "\n",
    "def parse_markdown(filepath: str, skip_first_heading: bool = False, column_map: dict = None) -> pd.DataFrame:\n",
    "    \"\"\"\n",
    "    Parses a Markdown travel log file using marko to extract travel durations grouped by country and city.\n",
    "    Splits visits to the same location into multiple entries if they appear non-consecutively.\n",
    "\n",
    "    Parameters:\n",
    "        filepath (str): Path to the .md file.\n",
    "        skip_first_heading (bool): Whether to skip the first heading (e.g., title or introduction).\n",
    "        column_map (dict): Optional mapping of output column names, e.g., {'country': 'Country', 'city': 'City', ...}\n",
    "\n",
    "    Returns:\n",
    "        pd.DataFrame: A DataFrame with columns [Country, City, Start, End, Duration] by default.\n",
    "    \"\"\"\n",
    "    with open(filepath, encoding=\"utf-8\") as f:\n",
    "        content = f.read()\n",
    "\n",
    "    ast = marko.parse(content)\n",
    "\n",
    "    country = city = None\n",
    "    date_entries = []\n",
    "    heading_count = 0\n",
    "\n",
    "    for node in ast.children:\n",
    "        if not isinstance(node, Heading):\n",
    "            continue\n",
    "\n",
    "        heading_count += 1\n",
    "        if skip_first_heading and heading_count == 1:\n",
    "            continue\n",
    "\n",
    "        level = node.level\n",
    "        text = extract_text(node).strip()\n",
    "\n",
    "        if level == 1:\n",
    "            country = text\n",
    "            city = None  # reset city\n",
    "        elif level == 2:\n",
    "            city = text\n",
    "        elif level == 3:\n",
    "            parts = text.split(\", \")\n",
    "            if len(parts) == 2:\n",
    "                try:\n",
    "                    date = datetime.strptime(parts[1], \"%d.%m.%Y\").date()\n",
    "                    effective_city = city if city else country\n",
    "                    date_entries.append({\n",
    "                        \"country\": country,\n",
    "                        \"city\": effective_city,\n",
    "                        \"date\": date\n",
    "                    })\n",
    "                except ValueError:\n",
    "                    continue  # malformed date\n",
    "\n",
    "    # Sentry date entry\n",
    "\n",
    "    # Sort by date to ensure order\n",
    "    date_entries.sort(key=lambda x: x[\"date\"])\n",
    "\n",
    "    # Track city/country transitions\n",
    "    visits = []\n",
    "    if not date_entries:\n",
    "        return pd.DataFrame(columns=column_map.values() if column_map else [])\n",
    "\n",
    "    prev = date_entries[0]\n",
    "    start_date = end_date = prev[\"date\"]\n",
    "\n",
    "    for i in range(1, len(date_entries)):\n",
    "        entry = date_entries[i]\n",
    "        is_last = i == len(date_entries) - 1\n",
    "\n",
    "        if entry[\"country\"] == prev[\"country\"] and entry[\"city\"] == prev[\"city\"] and not is_last:\n",
    "            end_date = entry[\"date\"]  # extend visit\n",
    "        else:\n",
    "            visits.append({\n",
    "                \"country\": prev[\"country\"],\n",
    "                \"city\": prev[\"city\"],\n",
    "                \"start\": start_date,\n",
    "                \"end\": end_date,\n",
    "                \"duration\": (end_date - start_date).days + 1\n",
    "            })\n",
    "            prev = entry\n",
    "            start_date = end_date = entry[\"date\"]\n",
    "\n",
    "    # Default column mapping\n",
    "    default_columns = {\n",
    "        \"country\": \"Country\",\n",
    "        \"city\": \"City\",\n",
    "        \"start\": \"Start\",\n",
    "        \"end\": \"End\",\n",
    "        \"duration\": \"Duration\"\n",
    "    }\n",
    "\n",
    "    if column_map:\n",
    "        columns = column_map\n",
    "    else:\n",
    "        columns = default_columns\n",
    "\n",
    "    # Build DataFrame using column map\n",
    "    df = pd.DataFrame([\n",
    "        {\n",
    "            columns[\"country\"]: visit[\"country\"],\n",
    "            columns[\"city\"]: visit[\"city\"],\n",
    "            columns[\"start\"]: visit[\"start\"],\n",
    "            columns[\"end\"]: visit[\"end\"],\n",
    "            columns[\"duration\"]: visit[\"duration\"]\n",
    "        }\n",
    "        for visit in visits\n",
    "    ])\n",
    "\n",
    "    return df\n",
    "\n",
    "def summarize_travel(df: pd.DataFrame, column_map: dict = None, show_total: bool = True) -> pd.DataFrame:\n",
    "    \"\"\"\n",
    "    Summarizes travel statistics per country:\n",
    "    - Total duration (sum of days)\n",
    "    - Number of unique cities visited\n",
    "    - First date of entry\n",
    "    - Last date of exit\n",
    "    - (Optional) Total row with overall stats\n",
    "\n",
    "    Parameters:\n",
    "        df (pd.DataFrame): The travel DataFrame returned by parse_markdown.\n",
    "        column_map (dict): Optional mapping of DataFrame column names.\n",
    "        show_total (bool): Whether to include a final row with totals.\n",
    "\n",
    "    Returns:\n",
    "        pd.DataFrame: Summary table with optional total row.\n",
    "    \"\"\"\n",
    "    default_columns = {\n",
    "        \"country\": \"Country\",\n",
    "        \"city\": \"City\",\n",
    "        \"duration\": \"Duration\",\n",
    "        \"start\": \"Start\",\n",
    "        \"end\": \"End\"\n",
    "    }\n",
    "\n",
    "    columns = column_map if column_map else default_columns\n",
    "\n",
    "    summary = df.groupby(columns[\"country\"]).agg(\n",
    "        Total_Days=(columns[\"duration\"], \"sum\"),\n",
    "        Cities_Visited=(columns[\"city\"], pd.Series.nunique),\n",
    "        Entry_Date=(columns[\"start\"], \"min\"),\n",
    "        Exit_Date=(columns[\"end\"], \"max\")\n",
    "    ).reset_index()\n",
    "\n",
    "    # Sort by Entry_Date\n",
    "    summary = summary.sort_values(by=\"Entry_Date\").reset_index(drop=True)\n",
    "\n",
    "    if show_total:\n",
    "        total_row = {\n",
    "            columns[\"country\"]: \"TOTAL\",\n",
    "            \"Total_Days\": summary[\"Total_Days\"].sum(),\n",
    "            \"Cities_Visited\": summary[\"Cities_Visited\"].sum(),\n",
    "            \"Entry_Date\": summary[\"Entry_Date\"].min(),\n",
    "            \"Exit_Date\": summary[\"Exit_Date\"].max()\n",
    "        }\n",
    "        summary = pd.concat([summary, pd.DataFrame([total_row])], ignore_index=True)\n",
    "\n",
    "    return summary\n",
    "\n",
    "from geopy.geocoders import Nominatim\n",
    "from geopy.exc import GeocoderUnavailable, GeocoderTimedOut\n",
    "import time\n",
    "\n",
    "def map_cities_to_coords(df: pd.DataFrame, city_col=\"City\", country_col=\"Country\", user_agent=\"city-geocoder\") -> pd.DataFrame:\n",
    "    \"\"\"\n",
    "    Adds 'Latitude' and 'Longitude' columns to the DataFrame by geocoding city and country.\n",
    "    If a city cannot be geocoded, sets both to None.\n",
    "\n",
    "    Parameters:\n",
    "        df (pd.DataFrame): Input DataFrame with city and country columns.\n",
    "        city_col (str): Name of the column containing city names.\n",
    "        country_col (str): Name of the column containing country names.\n",
    "        user_agent (str): Identifier for the Nominatim geocoder.\n",
    "\n",
    "    Returns:\n",
    "        pd.DataFrame: DataFrame with additional 'Latitude' and 'Longitude' columns.\n",
    "    \"\"\"\n",
    "    geolocator = Nominatim(user_agent=user_agent)\n",
    "    latitudes, longitudes = [], []\n",
    "\n",
    "    for _, row in df.iterrows():\n",
    "        location_str = f\"{row[city_col]}, {row[country_col]}\"\n",
    "        try:\n",
    "            location = geolocator.geocode(location_str, timeout=10)\n",
    "            if location:\n",
    "                latitudes.append(location.latitude)\n",
    "                longitudes.append(location.longitude)\n",
    "            else:\n",
    "                latitudes.append(None)\n",
    "                longitudes.append(None)\n",
    "        except (GeocoderTimedOut, GeocoderUnavailable):\n",
    "            latitudes.append(None)\n",
    "            longitudes.append(None)\n",
    "        time.sleep(0.25)  # Be polite to the API\n",
    "\n",
    "    df[\"Latitude\"] = latitudes\n",
    "    df[\"Longitude\"] = longitudes\n",
    "    return df\n",
    "\n",
    "def get_unmapped_locations(df: pd.DataFrame, lat_col=\"Latitude\", lon_col=\"Longitude\") -> pd.DataFrame:\n",
    "    \"\"\"\n",
    "    Returns a DataFrame of all entries where latitude or longitude is None.\n",
    "\n",
    "    Parameters:\n",
    "        df (pd.DataFrame): The DataFrame with geolocation columns.\n",
    "        lat_col (str): Name of the latitude column.\n",
    "        lon_col (str): Name of the longitude column.\n",
    "\n",
    "    Returns:\n",
    "        pd.DataFrame: Rows where coordinates are missing.\n",
    "    \"\"\"\n",
    "    return df[df[lat_col].isna() | df[lon_col].isna()]\n",
    "\n",
    "from typing import Union, List\n",
    "\n",
    "def set_manual_coordinates_by_index(\n",
    "    df: pd.DataFrame,\n",
    "    updates: Union[List[Union[int, float]], List[List[Union[int, float]]]],\n",
    "    lat_col: str = \"Latitude\",\n",
    "    lon_col: str = \"Longitude\"\n",
    ") -> pd.DataFrame:\n",
    "    \"\"\"\n",
    "    Manually sets latitude and longitude for rows identified by their index.\n",
    "\n",
    "    Parameters:\n",
    "        df (pd.DataFrame): DataFrame to update.\n",
    "        updates (list): Either a single update [index, lat, lon] or a list of such updates.\n",
    "        lat_col (str): Name of the latitude column.\n",
    "        lon_col (str): Name of the longitude column.\n",
    "\n",
    "    Returns:\n",
    "        pd.DataFrame: Updated DataFrame with manual coordinates set.\n",
    "    \"\"\"\n",
    "    if isinstance(updates[0], (int, float)):\n",
    "        updates = [updates]  # single update case\n",
    "\n",
    "    for idx, lat, lon in updates:\n",
    "        if idx in df.index:\n",
    "            df.at[idx, lat_col] = lat\n",
    "            df.at[idx, lon_col] = lon\n",
    "\n",
    "    return df"
   ]
  },
  {
   "cell_type": "code",
   "execution_count": 40,
   "id": "121e9a9c38816050",
   "metadata": {
    "ExecuteTime": {
     "end_time": "2025-05-24T15:59:03.597346Z",
     "start_time": "2025-05-24T15:59:03.524055Z"
    }
   },
   "outputs": [
    {
     "data": {
      "text/html": [
       "<div>\n",
       "<style scoped>\n",
       "    .dataframe tbody tr th:only-of-type {\n",
       "        vertical-align: middle;\n",
       "    }\n",
       "\n",
       "    .dataframe tbody tr th {\n",
       "        vertical-align: top;\n",
       "    }\n",
       "\n",
       "    .dataframe thead th {\n",
       "        text-align: right;\n",
       "    }\n",
       "</style>\n",
       "<table border=\"1\" class=\"dataframe\">\n",
       "  <thead>\n",
       "    <tr style=\"text-align: right;\">\n",
       "      <th></th>\n",
       "      <th>Country</th>\n",
       "      <th>City</th>\n",
       "      <th>Start</th>\n",
       "      <th>End</th>\n",
       "      <th>Duration</th>\n",
       "    </tr>\n",
       "  </thead>\n",
       "  <tbody>\n",
       "    <tr>\n",
       "      <th>0</th>\n",
       "      <td>Singapur</td>\n",
       "      <td>Singapur</td>\n",
       "      <td>2024-08-08</td>\n",
       "      <td>2024-08-13</td>\n",
       "      <td>6</td>\n",
       "    </tr>\n",
       "    <tr>\n",
       "      <th>1</th>\n",
       "      <td>Indonesien</td>\n",
       "      <td>Malang</td>\n",
       "      <td>2024-08-14</td>\n",
       "      <td>2024-08-16</td>\n",
       "      <td>3</td>\n",
       "    </tr>\n",
       "    <tr>\n",
       "      <th>2</th>\n",
       "      <td>Indonesien</td>\n",
       "      <td>Yogyakarta</td>\n",
       "      <td>2024-08-19</td>\n",
       "      <td>2024-08-24</td>\n",
       "      <td>6</td>\n",
       "    </tr>\n",
       "    <tr>\n",
       "      <th>3</th>\n",
       "      <td>Indonesien</td>\n",
       "      <td>Bandung</td>\n",
       "      <td>2024-08-25</td>\n",
       "      <td>2024-08-27</td>\n",
       "      <td>3</td>\n",
       "    </tr>\n",
       "    <tr>\n",
       "      <th>4</th>\n",
       "      <td>Indonesien</td>\n",
       "      <td>Jakarta</td>\n",
       "      <td>2024-08-28</td>\n",
       "      <td>2024-08-28</td>\n",
       "      <td>1</td>\n",
       "    </tr>\n",
       "    <tr>\n",
       "      <th>5</th>\n",
       "      <td>Japan</td>\n",
       "      <td>Tokio</td>\n",
       "      <td>2024-08-29</td>\n",
       "      <td>2024-09-08</td>\n",
       "      <td>11</td>\n",
       "    </tr>\n",
       "    <tr>\n",
       "      <th>6</th>\n",
       "      <td>Japan</td>\n",
       "      <td>Fuji</td>\n",
       "      <td>2024-09-09</td>\n",
       "      <td>2024-09-13</td>\n",
       "      <td>5</td>\n",
       "    </tr>\n",
       "    <tr>\n",
       "      <th>7</th>\n",
       "      <td>Japan</td>\n",
       "      <td>Takayama</td>\n",
       "      <td>2024-09-14</td>\n",
       "      <td>2024-09-18</td>\n",
       "      <td>5</td>\n",
       "    </tr>\n",
       "    <tr>\n",
       "      <th>8</th>\n",
       "      <td>Japan</td>\n",
       "      <td>Kanazawa</td>\n",
       "      <td>2024-09-19</td>\n",
       "      <td>2024-09-20</td>\n",
       "      <td>2</td>\n",
       "    </tr>\n",
       "    <tr>\n",
       "      <th>9</th>\n",
       "      <td>Japan</td>\n",
       "      <td>Tottori</td>\n",
       "      <td>2024-09-21</td>\n",
       "      <td>2024-09-22</td>\n",
       "      <td>2</td>\n",
       "    </tr>\n",
       "    <tr>\n",
       "      <th>10</th>\n",
       "      <td>Japan</td>\n",
       "      <td>Takeda Castle &amp; Himeji</td>\n",
       "      <td>2024-09-23</td>\n",
       "      <td>2024-09-24</td>\n",
       "      <td>2</td>\n",
       "    </tr>\n",
       "    <tr>\n",
       "      <th>11</th>\n",
       "      <td>Japan</td>\n",
       "      <td>Kyoto</td>\n",
       "      <td>2024-09-25</td>\n",
       "      <td>2024-10-03</td>\n",
       "      <td>9</td>\n",
       "    </tr>\n",
       "    <tr>\n",
       "      <th>12</th>\n",
       "      <td>Japan</td>\n",
       "      <td>Osaka</td>\n",
       "      <td>2024-10-04</td>\n",
       "      <td>2024-10-07</td>\n",
       "      <td>4</td>\n",
       "    </tr>\n",
       "    <tr>\n",
       "      <th>13</th>\n",
       "      <td>Japan</td>\n",
       "      <td>Okayama</td>\n",
       "      <td>2024-10-08</td>\n",
       "      <td>2024-10-08</td>\n",
       "      <td>1</td>\n",
       "    </tr>\n",
       "    <tr>\n",
       "      <th>14</th>\n",
       "      <td>Japan</td>\n",
       "      <td>Onomichi</td>\n",
       "      <td>2024-10-09</td>\n",
       "      <td>2024-10-10</td>\n",
       "      <td>2</td>\n",
       "    </tr>\n",
       "    <tr>\n",
       "      <th>15</th>\n",
       "      <td>Japan</td>\n",
       "      <td>Hiroshima</td>\n",
       "      <td>2024-10-11</td>\n",
       "      <td>2024-10-15</td>\n",
       "      <td>5</td>\n",
       "    </tr>\n",
       "    <tr>\n",
       "      <th>16</th>\n",
       "      <td>Japan</td>\n",
       "      <td>Fukuoka</td>\n",
       "      <td>2024-10-16</td>\n",
       "      <td>2024-10-18</td>\n",
       "      <td>3</td>\n",
       "    </tr>\n",
       "    <tr>\n",
       "      <th>17</th>\n",
       "      <td>Japan</td>\n",
       "      <td>Karatsu</td>\n",
       "      <td>2024-10-19</td>\n",
       "      <td>2024-10-21</td>\n",
       "      <td>3</td>\n",
       "    </tr>\n",
       "    <tr>\n",
       "      <th>18</th>\n",
       "      <td>Japan</td>\n",
       "      <td>Nagasaki</td>\n",
       "      <td>2024-10-22</td>\n",
       "      <td>2024-10-25</td>\n",
       "      <td>4</td>\n",
       "    </tr>\n",
       "    <tr>\n",
       "      <th>19</th>\n",
       "      <td>Japan</td>\n",
       "      <td>Kumamoto</td>\n",
       "      <td>2024-10-26</td>\n",
       "      <td>2024-10-27</td>\n",
       "      <td>2</td>\n",
       "    </tr>\n",
       "    <tr>\n",
       "      <th>20</th>\n",
       "      <td>Japan</td>\n",
       "      <td>Kurokawa Onsen</td>\n",
       "      <td>2024-10-28</td>\n",
       "      <td>2024-10-28</td>\n",
       "      <td>1</td>\n",
       "    </tr>\n",
       "    <tr>\n",
       "      <th>21</th>\n",
       "      <td>Japan</td>\n",
       "      <td>Beppu</td>\n",
       "      <td>2024-10-29</td>\n",
       "      <td>2024-11-03</td>\n",
       "      <td>6</td>\n",
       "    </tr>\n",
       "    <tr>\n",
       "      <th>22</th>\n",
       "      <td>Japan</td>\n",
       "      <td>Kumamoto</td>\n",
       "      <td>2024-11-04</td>\n",
       "      <td>2024-11-04</td>\n",
       "      <td>1</td>\n",
       "    </tr>\n",
       "    <tr>\n",
       "      <th>23</th>\n",
       "      <td>Japan</td>\n",
       "      <td>Kagoshima</td>\n",
       "      <td>2024-11-05</td>\n",
       "      <td>2024-11-09</td>\n",
       "      <td>5</td>\n",
       "    </tr>\n",
       "    <tr>\n",
       "      <th>24</th>\n",
       "      <td>Japan</td>\n",
       "      <td>Ibusuki</td>\n",
       "      <td>2024-11-10</td>\n",
       "      <td>2024-11-13</td>\n",
       "      <td>4</td>\n",
       "    </tr>\n",
       "    <tr>\n",
       "      <th>25</th>\n",
       "      <td>Korea</td>\n",
       "      <td>Seoul</td>\n",
       "      <td>2024-11-14</td>\n",
       "      <td>2024-11-25</td>\n",
       "      <td>12</td>\n",
       "    </tr>\n",
       "    <tr>\n",
       "      <th>26</th>\n",
       "      <td>Korea</td>\n",
       "      <td>Gyeongju</td>\n",
       "      <td>2024-11-26</td>\n",
       "      <td>2024-11-27</td>\n",
       "      <td>2</td>\n",
       "    </tr>\n",
       "    <tr>\n",
       "      <th>27</th>\n",
       "      <td>Korea</td>\n",
       "      <td>Ulsan</td>\n",
       "      <td>2024-11-28</td>\n",
       "      <td>2024-11-29</td>\n",
       "      <td>2</td>\n",
       "    </tr>\n",
       "    <tr>\n",
       "      <th>28</th>\n",
       "      <td>Korea</td>\n",
       "      <td>Busan</td>\n",
       "      <td>2024-11-30</td>\n",
       "      <td>2024-12-01</td>\n",
       "      <td>2</td>\n",
       "    </tr>\n",
       "    <tr>\n",
       "      <th>29</th>\n",
       "      <td>Korea</td>\n",
       "      <td>Jeju Island</td>\n",
       "      <td>2024-12-02</td>\n",
       "      <td>2024-12-07</td>\n",
       "      <td>6</td>\n",
       "    </tr>\n",
       "    <tr>\n",
       "      <th>30</th>\n",
       "      <td>Taiwan</td>\n",
       "      <td>Taipei</td>\n",
       "      <td>2024-12-08</td>\n",
       "      <td>2024-12-13</td>\n",
       "      <td>6</td>\n",
       "    </tr>\n",
       "    <tr>\n",
       "      <th>31</th>\n",
       "      <td>Taiwan</td>\n",
       "      <td>Jiufen</td>\n",
       "      <td>2024-12-14</td>\n",
       "      <td>2024-12-15</td>\n",
       "      <td>2</td>\n",
       "    </tr>\n",
       "    <tr>\n",
       "      <th>32</th>\n",
       "      <td>Taiwan</td>\n",
       "      <td>Keelung</td>\n",
       "      <td>2024-12-16</td>\n",
       "      <td>2024-12-19</td>\n",
       "      <td>4</td>\n",
       "    </tr>\n",
       "    <tr>\n",
       "      <th>33</th>\n",
       "      <td>Taiwan</td>\n",
       "      <td>Taichung</td>\n",
       "      <td>2024-12-20</td>\n",
       "      <td>2024-12-22</td>\n",
       "      <td>3</td>\n",
       "    </tr>\n",
       "    <tr>\n",
       "      <th>34</th>\n",
       "      <td>Taiwan</td>\n",
       "      <td>Sun Moon Lake</td>\n",
       "      <td>2024-12-23</td>\n",
       "      <td>2024-12-26</td>\n",
       "      <td>4</td>\n",
       "    </tr>\n",
       "    <tr>\n",
       "      <th>35</th>\n",
       "      <td>Taiwan</td>\n",
       "      <td>Chiayi</td>\n",
       "      <td>2024-12-27</td>\n",
       "      <td>2025-01-01</td>\n",
       "      <td>6</td>\n",
       "    </tr>\n",
       "    <tr>\n",
       "      <th>36</th>\n",
       "      <td>Taiwan</td>\n",
       "      <td>Tainan</td>\n",
       "      <td>2025-01-02</td>\n",
       "      <td>2025-01-03</td>\n",
       "      <td>2</td>\n",
       "    </tr>\n",
       "    <tr>\n",
       "      <th>37</th>\n",
       "      <td>Thailand</td>\n",
       "      <td>Bangkok</td>\n",
       "      <td>2025-01-06</td>\n",
       "      <td>2025-01-11</td>\n",
       "      <td>6</td>\n",
       "    </tr>\n",
       "    <tr>\n",
       "      <th>38</th>\n",
       "      <td>Thailand</td>\n",
       "      <td>Pai</td>\n",
       "      <td>2025-01-13</td>\n",
       "      <td>2025-01-14</td>\n",
       "      <td>2</td>\n",
       "    </tr>\n",
       "    <tr>\n",
       "      <th>39</th>\n",
       "      <td>Thailand</td>\n",
       "      <td>Chiang Mai</td>\n",
       "      <td>2025-01-15</td>\n",
       "      <td>2025-01-20</td>\n",
       "      <td>6</td>\n",
       "    </tr>\n",
       "    <tr>\n",
       "      <th>40</th>\n",
       "      <td>Laos</td>\n",
       "      <td>Luang Prabang</td>\n",
       "      <td>2025-01-21</td>\n",
       "      <td>2025-01-21</td>\n",
       "      <td>1</td>\n",
       "    </tr>\n",
       "    <tr>\n",
       "      <th>41</th>\n",
       "      <td>Laos</td>\n",
       "      <td>Vang Vieng</td>\n",
       "      <td>2025-01-22</td>\n",
       "      <td>2025-01-23</td>\n",
       "      <td>2</td>\n",
       "    </tr>\n",
       "    <tr>\n",
       "      <th>42</th>\n",
       "      <td>Laos</td>\n",
       "      <td>Vientiane</td>\n",
       "      <td>2025-01-24</td>\n",
       "      <td>2025-01-28</td>\n",
       "      <td>5</td>\n",
       "    </tr>\n",
       "    <tr>\n",
       "      <th>43</th>\n",
       "      <td>Laos</td>\n",
       "      <td>Vang Vieng</td>\n",
       "      <td>2025-01-29</td>\n",
       "      <td>2025-02-06</td>\n",
       "      <td>9</td>\n",
       "    </tr>\n",
       "    <tr>\n",
       "      <th>44</th>\n",
       "      <td>Laos</td>\n",
       "      <td>Thakek</td>\n",
       "      <td>2025-02-07</td>\n",
       "      <td>2025-02-12</td>\n",
       "      <td>6</td>\n",
       "    </tr>\n",
       "    <tr>\n",
       "      <th>45</th>\n",
       "      <td>Thailand</td>\n",
       "      <td>Bangkok</td>\n",
       "      <td>2025-02-13</td>\n",
       "      <td>2025-02-13</td>\n",
       "      <td>1</td>\n",
       "    </tr>\n",
       "  </tbody>\n",
       "</table>\n",
       "</div>"
      ],
      "text/plain": [
       "       Country                    City       Start         End  Duration\n",
       "0     Singapur                Singapur  2024-08-08  2024-08-13         6\n",
       "1   Indonesien                  Malang  2024-08-14  2024-08-16         3\n",
       "2   Indonesien              Yogyakarta  2024-08-19  2024-08-24         6\n",
       "3   Indonesien                 Bandung  2024-08-25  2024-08-27         3\n",
       "4   Indonesien                 Jakarta  2024-08-28  2024-08-28         1\n",
       "5        Japan                   Tokio  2024-08-29  2024-09-08        11\n",
       "6        Japan                    Fuji  2024-09-09  2024-09-13         5\n",
       "7        Japan                Takayama  2024-09-14  2024-09-18         5\n",
       "8        Japan                Kanazawa  2024-09-19  2024-09-20         2\n",
       "9        Japan                 Tottori  2024-09-21  2024-09-22         2\n",
       "10       Japan  Takeda Castle & Himeji  2024-09-23  2024-09-24         2\n",
       "11       Japan                   Kyoto  2024-09-25  2024-10-03         9\n",
       "12       Japan                   Osaka  2024-10-04  2024-10-07         4\n",
       "13       Japan                 Okayama  2024-10-08  2024-10-08         1\n",
       "14       Japan                Onomichi  2024-10-09  2024-10-10         2\n",
       "15       Japan               Hiroshima  2024-10-11  2024-10-15         5\n",
       "16       Japan                 Fukuoka  2024-10-16  2024-10-18         3\n",
       "17       Japan                 Karatsu  2024-10-19  2024-10-21         3\n",
       "18       Japan                Nagasaki  2024-10-22  2024-10-25         4\n",
       "19       Japan                Kumamoto  2024-10-26  2024-10-27         2\n",
       "20       Japan          Kurokawa Onsen  2024-10-28  2024-10-28         1\n",
       "21       Japan                   Beppu  2024-10-29  2024-11-03         6\n",
       "22       Japan                Kumamoto  2024-11-04  2024-11-04         1\n",
       "23       Japan               Kagoshima  2024-11-05  2024-11-09         5\n",
       "24       Japan                 Ibusuki  2024-11-10  2024-11-13         4\n",
       "25       Korea                   Seoul  2024-11-14  2024-11-25        12\n",
       "26       Korea                Gyeongju  2024-11-26  2024-11-27         2\n",
       "27       Korea                   Ulsan  2024-11-28  2024-11-29         2\n",
       "28       Korea                   Busan  2024-11-30  2024-12-01         2\n",
       "29       Korea             Jeju Island  2024-12-02  2024-12-07         6\n",
       "30      Taiwan                  Taipei  2024-12-08  2024-12-13         6\n",
       "31      Taiwan                  Jiufen  2024-12-14  2024-12-15         2\n",
       "32      Taiwan                 Keelung  2024-12-16  2024-12-19         4\n",
       "33      Taiwan                Taichung  2024-12-20  2024-12-22         3\n",
       "34      Taiwan           Sun Moon Lake  2024-12-23  2024-12-26         4\n",
       "35      Taiwan                  Chiayi  2024-12-27  2025-01-01         6\n",
       "36      Taiwan                  Tainan  2025-01-02  2025-01-03         2\n",
       "37    Thailand                 Bangkok  2025-01-06  2025-01-11         6\n",
       "38    Thailand                     Pai  2025-01-13  2025-01-14         2\n",
       "39    Thailand              Chiang Mai  2025-01-15  2025-01-20         6\n",
       "40        Laos           Luang Prabang  2025-01-21  2025-01-21         1\n",
       "41        Laos              Vang Vieng  2025-01-22  2025-01-23         2\n",
       "42        Laos               Vientiane  2025-01-24  2025-01-28         5\n",
       "43        Laos              Vang Vieng  2025-01-29  2025-02-06         9\n",
       "44        Laos                  Thakek  2025-02-07  2025-02-12         6\n",
       "45    Thailand                 Bangkok  2025-02-13  2025-02-13         1"
      ]
     },
     "execution_count": 40,
     "metadata": {},
     "output_type": "execute_result"
    }
   ],
   "source": [
    "df = parse_markdown(\"reise.md\", skip_first_heading=True)\n",
    "df"
   ]
  },
  {
   "cell_type": "code",
   "execution_count": 41,
   "id": "e675003e4c26e6e",
   "metadata": {
    "ExecuteTime": {
     "end_time": "2025-05-24T15:59:09.141528Z",
     "start_time": "2025-05-24T15:59:09.006123Z"
    }
   },
   "outputs": [
    {
     "data": {
      "text/html": [
       "<div>\n",
       "<style scoped>\n",
       "    .dataframe tbody tr th:only-of-type {\n",
       "        vertical-align: middle;\n",
       "    }\n",
       "\n",
       "    .dataframe tbody tr th {\n",
       "        vertical-align: top;\n",
       "    }\n",
       "\n",
       "    .dataframe thead th {\n",
       "        text-align: right;\n",
       "    }\n",
       "</style>\n",
       "<table border=\"1\" class=\"dataframe\">\n",
       "  <thead>\n",
       "    <tr style=\"text-align: right;\">\n",
       "      <th></th>\n",
       "      <th>Country</th>\n",
       "      <th>Total_Days</th>\n",
       "      <th>Cities_Visited</th>\n",
       "      <th>Entry_Date</th>\n",
       "      <th>Exit_Date</th>\n",
       "    </tr>\n",
       "  </thead>\n",
       "  <tbody>\n",
       "    <tr>\n",
       "      <th>0</th>\n",
       "      <td>Singapur</td>\n",
       "      <td>6</td>\n",
       "      <td>1</td>\n",
       "      <td>2024-08-08</td>\n",
       "      <td>2024-08-13</td>\n",
       "    </tr>\n",
       "    <tr>\n",
       "      <th>1</th>\n",
       "      <td>Indonesien</td>\n",
       "      <td>13</td>\n",
       "      <td>4</td>\n",
       "      <td>2024-08-14</td>\n",
       "      <td>2024-08-28</td>\n",
       "    </tr>\n",
       "    <tr>\n",
       "      <th>2</th>\n",
       "      <td>Japan</td>\n",
       "      <td>77</td>\n",
       "      <td>19</td>\n",
       "      <td>2024-08-29</td>\n",
       "      <td>2024-11-13</td>\n",
       "    </tr>\n",
       "    <tr>\n",
       "      <th>3</th>\n",
       "      <td>Korea</td>\n",
       "      <td>24</td>\n",
       "      <td>5</td>\n",
       "      <td>2024-11-14</td>\n",
       "      <td>2024-12-07</td>\n",
       "    </tr>\n",
       "    <tr>\n",
       "      <th>4</th>\n",
       "      <td>Taiwan</td>\n",
       "      <td>27</td>\n",
       "      <td>7</td>\n",
       "      <td>2024-12-08</td>\n",
       "      <td>2025-01-03</td>\n",
       "    </tr>\n",
       "    <tr>\n",
       "      <th>5</th>\n",
       "      <td>Thailand</td>\n",
       "      <td>15</td>\n",
       "      <td>3</td>\n",
       "      <td>2025-01-06</td>\n",
       "      <td>2025-02-13</td>\n",
       "    </tr>\n",
       "    <tr>\n",
       "      <th>6</th>\n",
       "      <td>Laos</td>\n",
       "      <td>23</td>\n",
       "      <td>4</td>\n",
       "      <td>2025-01-21</td>\n",
       "      <td>2025-02-12</td>\n",
       "    </tr>\n",
       "    <tr>\n",
       "      <th>7</th>\n",
       "      <td>TOTAL</td>\n",
       "      <td>185</td>\n",
       "      <td>43</td>\n",
       "      <td>2024-08-08</td>\n",
       "      <td>2025-02-13</td>\n",
       "    </tr>\n",
       "  </tbody>\n",
       "</table>\n",
       "</div>"
      ],
      "text/plain": [
       "      Country  Total_Days  Cities_Visited  Entry_Date   Exit_Date\n",
       "0    Singapur           6               1  2024-08-08  2024-08-13\n",
       "1  Indonesien          13               4  2024-08-14  2024-08-28\n",
       "2       Japan          77              19  2024-08-29  2024-11-13\n",
       "3       Korea          24               5  2024-11-14  2024-12-07\n",
       "4      Taiwan          27               7  2024-12-08  2025-01-03\n",
       "5    Thailand          15               3  2025-01-06  2025-02-13\n",
       "6        Laos          23               4  2025-01-21  2025-02-12\n",
       "7       TOTAL         185              43  2024-08-08  2025-02-13"
      ]
     },
     "execution_count": 41,
     "metadata": {},
     "output_type": "execute_result"
    }
   ],
   "source": [
    "df_summary=summarize_travel(df)\n",
    "df_summary"
   ]
  },
  {
   "cell_type": "code",
   "execution_count": 42,
   "id": "5c178f012ed2cf51",
   "metadata": {
    "ExecuteTime": {
     "end_time": "2025-05-24T16:00:11.407880Z",
     "start_time": "2025-05-24T15:59:23.386376Z"
    }
   },
   "outputs": [
    {
     "data": {
      "text/html": [
       "<div>\n",
       "<style scoped>\n",
       "    .dataframe tbody tr th:only-of-type {\n",
       "        vertical-align: middle;\n",
       "    }\n",
       "\n",
       "    .dataframe tbody tr th {\n",
       "        vertical-align: top;\n",
       "    }\n",
       "\n",
       "    .dataframe thead th {\n",
       "        text-align: right;\n",
       "    }\n",
       "</style>\n",
       "<table border=\"1\" class=\"dataframe\">\n",
       "  <thead>\n",
       "    <tr style=\"text-align: right;\">\n",
       "      <th></th>\n",
       "      <th>Country</th>\n",
       "      <th>City</th>\n",
       "      <th>Start</th>\n",
       "      <th>End</th>\n",
       "      <th>Duration</th>\n",
       "      <th>Latitude</th>\n",
       "      <th>Longitude</th>\n",
       "    </tr>\n",
       "  </thead>\n",
       "  <tbody>\n",
       "    <tr>\n",
       "      <th>0</th>\n",
       "      <td>Singapur</td>\n",
       "      <td>Singapur</td>\n",
       "      <td>2024-08-08</td>\n",
       "      <td>2024-08-13</td>\n",
       "      <td>6</td>\n",
       "      <td>1.289918</td>\n",
       "      <td>103.851907</td>\n",
       "    </tr>\n",
       "    <tr>\n",
       "      <th>1</th>\n",
       "      <td>Indonesien</td>\n",
       "      <td>Malang</td>\n",
       "      <td>2024-08-14</td>\n",
       "      <td>2024-08-16</td>\n",
       "      <td>3</td>\n",
       "      <td>-7.977131</td>\n",
       "      <td>112.634027</td>\n",
       "    </tr>\n",
       "    <tr>\n",
       "      <th>2</th>\n",
       "      <td>Indonesien</td>\n",
       "      <td>Yogyakarta</td>\n",
       "      <td>2024-08-19</td>\n",
       "      <td>2024-08-24</td>\n",
       "      <td>6</td>\n",
       "      <td>-7.801265</td>\n",
       "      <td>110.364686</td>\n",
       "    </tr>\n",
       "    <tr>\n",
       "      <th>3</th>\n",
       "      <td>Indonesien</td>\n",
       "      <td>Bandung</td>\n",
       "      <td>2024-08-25</td>\n",
       "      <td>2024-08-27</td>\n",
       "      <td>3</td>\n",
       "      <td>-6.921553</td>\n",
       "      <td>107.611021</td>\n",
       "    </tr>\n",
       "    <tr>\n",
       "      <th>4</th>\n",
       "      <td>Indonesien</td>\n",
       "      <td>Jakarta</td>\n",
       "      <td>2024-08-28</td>\n",
       "      <td>2024-08-28</td>\n",
       "      <td>1</td>\n",
       "      <td>-6.175405</td>\n",
       "      <td>106.827168</td>\n",
       "    </tr>\n",
       "    <tr>\n",
       "      <th>5</th>\n",
       "      <td>Japan</td>\n",
       "      <td>Tokio</td>\n",
       "      <td>2024-08-29</td>\n",
       "      <td>2024-09-08</td>\n",
       "      <td>11</td>\n",
       "      <td>35.676860</td>\n",
       "      <td>139.763895</td>\n",
       "    </tr>\n",
       "    <tr>\n",
       "      <th>6</th>\n",
       "      <td>Japan</td>\n",
       "      <td>Fuji</td>\n",
       "      <td>2024-09-09</td>\n",
       "      <td>2024-09-13</td>\n",
       "      <td>5</td>\n",
       "      <td>35.362799</td>\n",
       "      <td>138.730781</td>\n",
       "    </tr>\n",
       "    <tr>\n",
       "      <th>7</th>\n",
       "      <td>Japan</td>\n",
       "      <td>Takayama</td>\n",
       "      <td>2024-09-14</td>\n",
       "      <td>2024-09-18</td>\n",
       "      <td>5</td>\n",
       "      <td>36.139625</td>\n",
       "      <td>137.251032</td>\n",
       "    </tr>\n",
       "    <tr>\n",
       "      <th>8</th>\n",
       "      <td>Japan</td>\n",
       "      <td>Kanazawa</td>\n",
       "      <td>2024-09-19</td>\n",
       "      <td>2024-09-20</td>\n",
       "      <td>2</td>\n",
       "      <td>36.561627</td>\n",
       "      <td>136.656882</td>\n",
       "    </tr>\n",
       "    <tr>\n",
       "      <th>9</th>\n",
       "      <td>Japan</td>\n",
       "      <td>Tottori</td>\n",
       "      <td>2024-09-21</td>\n",
       "      <td>2024-09-22</td>\n",
       "      <td>2</td>\n",
       "      <td>35.355508</td>\n",
       "      <td>133.867852</td>\n",
       "    </tr>\n",
       "    <tr>\n",
       "      <th>10</th>\n",
       "      <td>Japan</td>\n",
       "      <td>Takeda Castle &amp; Himeji</td>\n",
       "      <td>2024-09-23</td>\n",
       "      <td>2024-09-24</td>\n",
       "      <td>2</td>\n",
       "      <td>NaN</td>\n",
       "      <td>NaN</td>\n",
       "    </tr>\n",
       "    <tr>\n",
       "      <th>11</th>\n",
       "      <td>Japan</td>\n",
       "      <td>Kyoto</td>\n",
       "      <td>2024-09-25</td>\n",
       "      <td>2024-10-03</td>\n",
       "      <td>9</td>\n",
       "      <td>35.011575</td>\n",
       "      <td>135.768144</td>\n",
       "    </tr>\n",
       "    <tr>\n",
       "      <th>12</th>\n",
       "      <td>Japan</td>\n",
       "      <td>Osaka</td>\n",
       "      <td>2024-10-04</td>\n",
       "      <td>2024-10-07</td>\n",
       "      <td>4</td>\n",
       "      <td>34.693757</td>\n",
       "      <td>135.501454</td>\n",
       "    </tr>\n",
       "    <tr>\n",
       "      <th>13</th>\n",
       "      <td>Japan</td>\n",
       "      <td>Okayama</td>\n",
       "      <td>2024-10-08</td>\n",
       "      <td>2024-10-08</td>\n",
       "      <td>1</td>\n",
       "      <td>34.858133</td>\n",
       "      <td>133.775926</td>\n",
       "    </tr>\n",
       "    <tr>\n",
       "      <th>14</th>\n",
       "      <td>Japan</td>\n",
       "      <td>Onomichi</td>\n",
       "      <td>2024-10-09</td>\n",
       "      <td>2024-10-10</td>\n",
       "      <td>2</td>\n",
       "      <td>34.408852</td>\n",
       "      <td>133.205155</td>\n",
       "    </tr>\n",
       "    <tr>\n",
       "      <th>15</th>\n",
       "      <td>Japan</td>\n",
       "      <td>Hiroshima</td>\n",
       "      <td>2024-10-11</td>\n",
       "      <td>2024-10-15</td>\n",
       "      <td>5</td>\n",
       "      <td>34.391724</td>\n",
       "      <td>132.451759</td>\n",
       "    </tr>\n",
       "    <tr>\n",
       "      <th>16</th>\n",
       "      <td>Japan</td>\n",
       "      <td>Fukuoka</td>\n",
       "      <td>2024-10-16</td>\n",
       "      <td>2024-10-18</td>\n",
       "      <td>3</td>\n",
       "      <td>33.625124</td>\n",
       "      <td>130.618002</td>\n",
       "    </tr>\n",
       "    <tr>\n",
       "      <th>17</th>\n",
       "      <td>Japan</td>\n",
       "      <td>Karatsu</td>\n",
       "      <td>2024-10-19</td>\n",
       "      <td>2024-10-21</td>\n",
       "      <td>3</td>\n",
       "      <td>33.450341</td>\n",
       "      <td>129.967935</td>\n",
       "    </tr>\n",
       "    <tr>\n",
       "      <th>18</th>\n",
       "      <td>Japan</td>\n",
       "      <td>Nagasaki</td>\n",
       "      <td>2024-10-22</td>\n",
       "      <td>2024-10-25</td>\n",
       "      <td>4</td>\n",
       "      <td>33.115468</td>\n",
       "      <td>129.787434</td>\n",
       "    </tr>\n",
       "    <tr>\n",
       "      <th>19</th>\n",
       "      <td>Japan</td>\n",
       "      <td>Kumamoto</td>\n",
       "      <td>2024-10-26</td>\n",
       "      <td>2024-10-27</td>\n",
       "      <td>2</td>\n",
       "      <td>32.645047</td>\n",
       "      <td>130.634134</td>\n",
       "    </tr>\n",
       "    <tr>\n",
       "      <th>20</th>\n",
       "      <td>Japan</td>\n",
       "      <td>Kurokawa Onsen</td>\n",
       "      <td>2024-10-28</td>\n",
       "      <td>2024-10-28</td>\n",
       "      <td>1</td>\n",
       "      <td>33.077713</td>\n",
       "      <td>131.141938</td>\n",
       "    </tr>\n",
       "    <tr>\n",
       "      <th>21</th>\n",
       "      <td>Japan</td>\n",
       "      <td>Beppu</td>\n",
       "      <td>2024-10-29</td>\n",
       "      <td>2024-11-03</td>\n",
       "      <td>6</td>\n",
       "      <td>33.284575</td>\n",
       "      <td>131.491306</td>\n",
       "    </tr>\n",
       "    <tr>\n",
       "      <th>22</th>\n",
       "      <td>Japan</td>\n",
       "      <td>Kumamoto</td>\n",
       "      <td>2024-11-04</td>\n",
       "      <td>2024-11-04</td>\n",
       "      <td>1</td>\n",
       "      <td>32.645047</td>\n",
       "      <td>130.634134</td>\n",
       "    </tr>\n",
       "    <tr>\n",
       "      <th>23</th>\n",
       "      <td>Japan</td>\n",
       "      <td>Kagoshima</td>\n",
       "      <td>2024-11-05</td>\n",
       "      <td>2024-11-09</td>\n",
       "      <td>5</td>\n",
       "      <td>31.521587</td>\n",
       "      <td>130.547408</td>\n",
       "    </tr>\n",
       "    <tr>\n",
       "      <th>24</th>\n",
       "      <td>Japan</td>\n",
       "      <td>Ibusuki</td>\n",
       "      <td>2024-11-10</td>\n",
       "      <td>2024-11-13</td>\n",
       "      <td>4</td>\n",
       "      <td>31.252795</td>\n",
       "      <td>130.633310</td>\n",
       "    </tr>\n",
       "    <tr>\n",
       "      <th>25</th>\n",
       "      <td>Korea</td>\n",
       "      <td>Seoul</td>\n",
       "      <td>2024-11-14</td>\n",
       "      <td>2024-11-25</td>\n",
       "      <td>12</td>\n",
       "      <td>37.566679</td>\n",
       "      <td>126.978291</td>\n",
       "    </tr>\n",
       "    <tr>\n",
       "      <th>26</th>\n",
       "      <td>Korea</td>\n",
       "      <td>Gyeongju</td>\n",
       "      <td>2024-11-26</td>\n",
       "      <td>2024-11-27</td>\n",
       "      <td>2</td>\n",
       "      <td>35.855671</td>\n",
       "      <td>129.224881</td>\n",
       "    </tr>\n",
       "    <tr>\n",
       "      <th>27</th>\n",
       "      <td>Korea</td>\n",
       "      <td>Ulsan</td>\n",
       "      <td>2024-11-28</td>\n",
       "      <td>2024-11-29</td>\n",
       "      <td>2</td>\n",
       "      <td>35.539170</td>\n",
       "      <td>129.311914</td>\n",
       "    </tr>\n",
       "    <tr>\n",
       "      <th>28</th>\n",
       "      <td>Korea</td>\n",
       "      <td>Busan</td>\n",
       "      <td>2024-11-30</td>\n",
       "      <td>2024-12-01</td>\n",
       "      <td>2</td>\n",
       "      <td>35.179953</td>\n",
       "      <td>129.075236</td>\n",
       "    </tr>\n",
       "    <tr>\n",
       "      <th>29</th>\n",
       "      <td>Korea</td>\n",
       "      <td>Jeju Island</td>\n",
       "      <td>2024-12-02</td>\n",
       "      <td>2024-12-07</td>\n",
       "      <td>6</td>\n",
       "      <td>33.380347</td>\n",
       "      <td>126.548254</td>\n",
       "    </tr>\n",
       "    <tr>\n",
       "      <th>30</th>\n",
       "      <td>Taiwan</td>\n",
       "      <td>Taipei</td>\n",
       "      <td>2024-12-08</td>\n",
       "      <td>2024-12-13</td>\n",
       "      <td>6</td>\n",
       "      <td>25.037520</td>\n",
       "      <td>121.563680</td>\n",
       "    </tr>\n",
       "    <tr>\n",
       "      <th>31</th>\n",
       "      <td>Taiwan</td>\n",
       "      <td>Jiufen</td>\n",
       "      <td>2024-12-14</td>\n",
       "      <td>2024-12-15</td>\n",
       "      <td>2</td>\n",
       "      <td>25.111656</td>\n",
       "      <td>121.845069</td>\n",
       "    </tr>\n",
       "    <tr>\n",
       "      <th>32</th>\n",
       "      <td>Taiwan</td>\n",
       "      <td>Keelung</td>\n",
       "      <td>2024-12-16</td>\n",
       "      <td>2024-12-19</td>\n",
       "      <td>4</td>\n",
       "      <td>25.131723</td>\n",
       "      <td>121.744652</td>\n",
       "    </tr>\n",
       "    <tr>\n",
       "      <th>33</th>\n",
       "      <td>Taiwan</td>\n",
       "      <td>Taichung</td>\n",
       "      <td>2024-12-20</td>\n",
       "      <td>2024-12-22</td>\n",
       "      <td>3</td>\n",
       "      <td>24.163162</td>\n",
       "      <td>120.647828</td>\n",
       "    </tr>\n",
       "    <tr>\n",
       "      <th>34</th>\n",
       "      <td>Taiwan</td>\n",
       "      <td>Sun Moon Lake</td>\n",
       "      <td>2024-12-23</td>\n",
       "      <td>2024-12-26</td>\n",
       "      <td>4</td>\n",
       "      <td>23.852328</td>\n",
       "      <td>120.928607</td>\n",
       "    </tr>\n",
       "    <tr>\n",
       "      <th>35</th>\n",
       "      <td>Taiwan</td>\n",
       "      <td>Chiayi</td>\n",
       "      <td>2024-12-27</td>\n",
       "      <td>2025-01-01</td>\n",
       "      <td>6</td>\n",
       "      <td>23.459166</td>\n",
       "      <td>120.293000</td>\n",
       "    </tr>\n",
       "    <tr>\n",
       "      <th>36</th>\n",
       "      <td>Taiwan</td>\n",
       "      <td>Tainan</td>\n",
       "      <td>2025-01-02</td>\n",
       "      <td>2025-01-03</td>\n",
       "      <td>2</td>\n",
       "      <td>22.991235</td>\n",
       "      <td>120.184982</td>\n",
       "    </tr>\n",
       "    <tr>\n",
       "      <th>37</th>\n",
       "      <td>Thailand</td>\n",
       "      <td>Bangkok</td>\n",
       "      <td>2025-01-06</td>\n",
       "      <td>2025-01-11</td>\n",
       "      <td>6</td>\n",
       "      <td>13.752494</td>\n",
       "      <td>100.493509</td>\n",
       "    </tr>\n",
       "    <tr>\n",
       "      <th>38</th>\n",
       "      <td>Thailand</td>\n",
       "      <td>Pai</td>\n",
       "      <td>2025-01-13</td>\n",
       "      <td>2025-01-14</td>\n",
       "      <td>2</td>\n",
       "      <td>19.358106</td>\n",
       "      <td>98.440579</td>\n",
       "    </tr>\n",
       "    <tr>\n",
       "      <th>39</th>\n",
       "      <td>Thailand</td>\n",
       "      <td>Chiang Mai</td>\n",
       "      <td>2025-01-15</td>\n",
       "      <td>2025-01-20</td>\n",
       "      <td>6</td>\n",
       "      <td>18.788278</td>\n",
       "      <td>98.985880</td>\n",
       "    </tr>\n",
       "    <tr>\n",
       "      <th>40</th>\n",
       "      <td>Laos</td>\n",
       "      <td>Luang Prabang</td>\n",
       "      <td>2025-01-21</td>\n",
       "      <td>2025-01-21</td>\n",
       "      <td>1</td>\n",
       "      <td>19.888744</td>\n",
       "      <td>102.135898</td>\n",
       "    </tr>\n",
       "    <tr>\n",
       "      <th>41</th>\n",
       "      <td>Laos</td>\n",
       "      <td>Vang Vieng</td>\n",
       "      <td>2025-01-22</td>\n",
       "      <td>2025-01-23</td>\n",
       "      <td>2</td>\n",
       "      <td>18.953896</td>\n",
       "      <td>102.456391</td>\n",
       "    </tr>\n",
       "    <tr>\n",
       "      <th>42</th>\n",
       "      <td>Laos</td>\n",
       "      <td>Vientiane</td>\n",
       "      <td>2025-01-24</td>\n",
       "      <td>2025-01-28</td>\n",
       "      <td>5</td>\n",
       "      <td>17.964099</td>\n",
       "      <td>102.613371</td>\n",
       "    </tr>\n",
       "    <tr>\n",
       "      <th>43</th>\n",
       "      <td>Laos</td>\n",
       "      <td>Vang Vieng</td>\n",
       "      <td>2025-01-29</td>\n",
       "      <td>2025-02-06</td>\n",
       "      <td>9</td>\n",
       "      <td>18.953896</td>\n",
       "      <td>102.456391</td>\n",
       "    </tr>\n",
       "    <tr>\n",
       "      <th>44</th>\n",
       "      <td>Laos</td>\n",
       "      <td>Thakek</td>\n",
       "      <td>2025-02-07</td>\n",
       "      <td>2025-02-12</td>\n",
       "      <td>6</td>\n",
       "      <td>17.397470</td>\n",
       "      <td>104.825301</td>\n",
       "    </tr>\n",
       "    <tr>\n",
       "      <th>45</th>\n",
       "      <td>Thailand</td>\n",
       "      <td>Bangkok</td>\n",
       "      <td>2025-02-13</td>\n",
       "      <td>2025-02-13</td>\n",
       "      <td>1</td>\n",
       "      <td>13.752494</td>\n",
       "      <td>100.493509</td>\n",
       "    </tr>\n",
       "  </tbody>\n",
       "</table>\n",
       "</div>"
      ],
      "text/plain": [
       "       Country                    City       Start         End  Duration  \\\n",
       "0     Singapur                Singapur  2024-08-08  2024-08-13         6   \n",
       "1   Indonesien                  Malang  2024-08-14  2024-08-16         3   \n",
       "2   Indonesien              Yogyakarta  2024-08-19  2024-08-24         6   \n",
       "3   Indonesien                 Bandung  2024-08-25  2024-08-27         3   \n",
       "4   Indonesien                 Jakarta  2024-08-28  2024-08-28         1   \n",
       "5        Japan                   Tokio  2024-08-29  2024-09-08        11   \n",
       "6        Japan                    Fuji  2024-09-09  2024-09-13         5   \n",
       "7        Japan                Takayama  2024-09-14  2024-09-18         5   \n",
       "8        Japan                Kanazawa  2024-09-19  2024-09-20         2   \n",
       "9        Japan                 Tottori  2024-09-21  2024-09-22         2   \n",
       "10       Japan  Takeda Castle & Himeji  2024-09-23  2024-09-24         2   \n",
       "11       Japan                   Kyoto  2024-09-25  2024-10-03         9   \n",
       "12       Japan                   Osaka  2024-10-04  2024-10-07         4   \n",
       "13       Japan                 Okayama  2024-10-08  2024-10-08         1   \n",
       "14       Japan                Onomichi  2024-10-09  2024-10-10         2   \n",
       "15       Japan               Hiroshima  2024-10-11  2024-10-15         5   \n",
       "16       Japan                 Fukuoka  2024-10-16  2024-10-18         3   \n",
       "17       Japan                 Karatsu  2024-10-19  2024-10-21         3   \n",
       "18       Japan                Nagasaki  2024-10-22  2024-10-25         4   \n",
       "19       Japan                Kumamoto  2024-10-26  2024-10-27         2   \n",
       "20       Japan          Kurokawa Onsen  2024-10-28  2024-10-28         1   \n",
       "21       Japan                   Beppu  2024-10-29  2024-11-03         6   \n",
       "22       Japan                Kumamoto  2024-11-04  2024-11-04         1   \n",
       "23       Japan               Kagoshima  2024-11-05  2024-11-09         5   \n",
       "24       Japan                 Ibusuki  2024-11-10  2024-11-13         4   \n",
       "25       Korea                   Seoul  2024-11-14  2024-11-25        12   \n",
       "26       Korea                Gyeongju  2024-11-26  2024-11-27         2   \n",
       "27       Korea                   Ulsan  2024-11-28  2024-11-29         2   \n",
       "28       Korea                   Busan  2024-11-30  2024-12-01         2   \n",
       "29       Korea             Jeju Island  2024-12-02  2024-12-07         6   \n",
       "30      Taiwan                  Taipei  2024-12-08  2024-12-13         6   \n",
       "31      Taiwan                  Jiufen  2024-12-14  2024-12-15         2   \n",
       "32      Taiwan                 Keelung  2024-12-16  2024-12-19         4   \n",
       "33      Taiwan                Taichung  2024-12-20  2024-12-22         3   \n",
       "34      Taiwan           Sun Moon Lake  2024-12-23  2024-12-26         4   \n",
       "35      Taiwan                  Chiayi  2024-12-27  2025-01-01         6   \n",
       "36      Taiwan                  Tainan  2025-01-02  2025-01-03         2   \n",
       "37    Thailand                 Bangkok  2025-01-06  2025-01-11         6   \n",
       "38    Thailand                     Pai  2025-01-13  2025-01-14         2   \n",
       "39    Thailand              Chiang Mai  2025-01-15  2025-01-20         6   \n",
       "40        Laos           Luang Prabang  2025-01-21  2025-01-21         1   \n",
       "41        Laos              Vang Vieng  2025-01-22  2025-01-23         2   \n",
       "42        Laos               Vientiane  2025-01-24  2025-01-28         5   \n",
       "43        Laos              Vang Vieng  2025-01-29  2025-02-06         9   \n",
       "44        Laos                  Thakek  2025-02-07  2025-02-12         6   \n",
       "45    Thailand                 Bangkok  2025-02-13  2025-02-13         1   \n",
       "\n",
       "     Latitude   Longitude  \n",
       "0    1.289918  103.851907  \n",
       "1   -7.977131  112.634027  \n",
       "2   -7.801265  110.364686  \n",
       "3   -6.921553  107.611021  \n",
       "4   -6.175405  106.827168  \n",
       "5   35.676860  139.763895  \n",
       "6   35.362799  138.730781  \n",
       "7   36.139625  137.251032  \n",
       "8   36.561627  136.656882  \n",
       "9   35.355508  133.867852  \n",
       "10        NaN         NaN  \n",
       "11  35.011575  135.768144  \n",
       "12  34.693757  135.501454  \n",
       "13  34.858133  133.775926  \n",
       "14  34.408852  133.205155  \n",
       "15  34.391724  132.451759  \n",
       "16  33.625124  130.618002  \n",
       "17  33.450341  129.967935  \n",
       "18  33.115468  129.787434  \n",
       "19  32.645047  130.634134  \n",
       "20  33.077713  131.141938  \n",
       "21  33.284575  131.491306  \n",
       "22  32.645047  130.634134  \n",
       "23  31.521587  130.547408  \n",
       "24  31.252795  130.633310  \n",
       "25  37.566679  126.978291  \n",
       "26  35.855671  129.224881  \n",
       "27  35.539170  129.311914  \n",
       "28  35.179953  129.075236  \n",
       "29  33.380347  126.548254  \n",
       "30  25.037520  121.563680  \n",
       "31  25.111656  121.845069  \n",
       "32  25.131723  121.744652  \n",
       "33  24.163162  120.647828  \n",
       "34  23.852328  120.928607  \n",
       "35  23.459166  120.293000  \n",
       "36  22.991235  120.184982  \n",
       "37  13.752494  100.493509  \n",
       "38  19.358106   98.440579  \n",
       "39  18.788278   98.985880  \n",
       "40  19.888744  102.135898  \n",
       "41  18.953896  102.456391  \n",
       "42  17.964099  102.613371  \n",
       "43  18.953896  102.456391  \n",
       "44  17.397470  104.825301  \n",
       "45  13.752494  100.493509  "
      ]
     },
     "execution_count": 42,
     "metadata": {},
     "output_type": "execute_result"
    }
   ],
   "source": [
    "df_geo=map_cities_to_coords(df, city_col=\"City\", country_col=\"Country\")\n",
    "df_geo"
   ]
  },
  {
   "cell_type": "code",
   "execution_count": 55,
   "id": "291c22eb363ba7c2",
   "metadata": {
    "ExecuteTime": {
     "end_time": "2025-05-24T16:09:56.014215Z",
     "start_time": "2025-05-24T16:09:55.997948Z"
    }
   },
   "outputs": [
    {
     "data": {
      "text/html": [
       "<div>\n",
       "<style scoped>\n",
       "    .dataframe tbody tr th:only-of-type {\n",
       "        vertical-align: middle;\n",
       "    }\n",
       "\n",
       "    .dataframe tbody tr th {\n",
       "        vertical-align: top;\n",
       "    }\n",
       "\n",
       "    .dataframe thead th {\n",
       "        text-align: right;\n",
       "    }\n",
       "</style>\n",
       "<table border=\"1\" class=\"dataframe\">\n",
       "  <thead>\n",
       "    <tr style=\"text-align: right;\">\n",
       "      <th></th>\n",
       "      <th>Country</th>\n",
       "      <th>City</th>\n",
       "      <th>Start</th>\n",
       "      <th>End</th>\n",
       "      <th>Duration</th>\n",
       "      <th>Latitude</th>\n",
       "      <th>Longitude</th>\n",
       "    </tr>\n",
       "  </thead>\n",
       "  <tbody>\n",
       "  </tbody>\n",
       "</table>\n",
       "</div>"
      ],
      "text/plain": [
       "Empty DataFrame\n",
       "Columns: [Country, City, Start, End, Duration, Latitude, Longitude]\n",
       "Index: []"
      ]
     },
     "execution_count": 55,
     "metadata": {},
     "output_type": "execute_result"
    }
   ],
   "source": [
    "unmapped=get_unmapped_locations(df_geo)\n",
    "unmapped"
   ]
  },
  {
   "cell_type": "code",
   "execution_count": 54,
   "id": "70a73a08779d525f",
   "metadata": {
    "ExecuteTime": {
     "end_time": "2025-05-24T16:09:50.867024Z",
     "start_time": "2025-05-24T16:09:50.860242Z"
    }
   },
   "outputs": [],
   "source": [
    "updates=[10,34.816667, 134.683333 ]\n",
    "df_geo=set_manual_coordinates_by_index(df_geo,updates)"
   ]
  },
  {
   "cell_type": "code",
   "execution_count": 56,
   "id": "f47ec95b6b180430",
   "metadata": {
    "ExecuteTime": {
     "end_time": "2025-05-24T16:10:02.572432Z",
     "start_time": "2025-05-24T16:10:02.547619Z"
    }
   },
   "outputs": [
    {
     "data": {
      "text/html": [
       "<div>\n",
       "<style scoped>\n",
       "    .dataframe tbody tr th:only-of-type {\n",
       "        vertical-align: middle;\n",
       "    }\n",
       "\n",
       "    .dataframe tbody tr th {\n",
       "        vertical-align: top;\n",
       "    }\n",
       "\n",
       "    .dataframe thead th {\n",
       "        text-align: right;\n",
       "    }\n",
       "</style>\n",
       "<table border=\"1\" class=\"dataframe\">\n",
       "  <thead>\n",
       "    <tr style=\"text-align: right;\">\n",
       "      <th></th>\n",
       "      <th>Country</th>\n",
       "      <th>City</th>\n",
       "      <th>Start</th>\n",
       "      <th>End</th>\n",
       "      <th>Duration</th>\n",
       "      <th>Latitude</th>\n",
       "      <th>Longitude</th>\n",
       "    </tr>\n",
       "  </thead>\n",
       "  <tbody>\n",
       "    <tr>\n",
       "      <th>0</th>\n",
       "      <td>Singapur</td>\n",
       "      <td>Singapur</td>\n",
       "      <td>2024-08-08</td>\n",
       "      <td>2024-08-13</td>\n",
       "      <td>6</td>\n",
       "      <td>1.289918</td>\n",
       "      <td>103.851907</td>\n",
       "    </tr>\n",
       "    <tr>\n",
       "      <th>1</th>\n",
       "      <td>Indonesien</td>\n",
       "      <td>Malang</td>\n",
       "      <td>2024-08-14</td>\n",
       "      <td>2024-08-16</td>\n",
       "      <td>3</td>\n",
       "      <td>-7.977131</td>\n",
       "      <td>112.634027</td>\n",
       "    </tr>\n",
       "    <tr>\n",
       "      <th>2</th>\n",
       "      <td>Indonesien</td>\n",
       "      <td>Yogyakarta</td>\n",
       "      <td>2024-08-19</td>\n",
       "      <td>2024-08-24</td>\n",
       "      <td>6</td>\n",
       "      <td>-7.801265</td>\n",
       "      <td>110.364686</td>\n",
       "    </tr>\n",
       "    <tr>\n",
       "      <th>3</th>\n",
       "      <td>Indonesien</td>\n",
       "      <td>Bandung</td>\n",
       "      <td>2024-08-25</td>\n",
       "      <td>2024-08-27</td>\n",
       "      <td>3</td>\n",
       "      <td>-6.921553</td>\n",
       "      <td>107.611021</td>\n",
       "    </tr>\n",
       "    <tr>\n",
       "      <th>4</th>\n",
       "      <td>Indonesien</td>\n",
       "      <td>Jakarta</td>\n",
       "      <td>2024-08-28</td>\n",
       "      <td>2024-08-28</td>\n",
       "      <td>1</td>\n",
       "      <td>-6.175405</td>\n",
       "      <td>106.827168</td>\n",
       "    </tr>\n",
       "    <tr>\n",
       "      <th>5</th>\n",
       "      <td>Japan</td>\n",
       "      <td>Tokio</td>\n",
       "      <td>2024-08-29</td>\n",
       "      <td>2024-09-08</td>\n",
       "      <td>11</td>\n",
       "      <td>35.676860</td>\n",
       "      <td>139.763895</td>\n",
       "    </tr>\n",
       "    <tr>\n",
       "      <th>6</th>\n",
       "      <td>Japan</td>\n",
       "      <td>Fuji</td>\n",
       "      <td>2024-09-09</td>\n",
       "      <td>2024-09-13</td>\n",
       "      <td>5</td>\n",
       "      <td>35.362799</td>\n",
       "      <td>138.730781</td>\n",
       "    </tr>\n",
       "    <tr>\n",
       "      <th>7</th>\n",
       "      <td>Japan</td>\n",
       "      <td>Takayama</td>\n",
       "      <td>2024-09-14</td>\n",
       "      <td>2024-09-18</td>\n",
       "      <td>5</td>\n",
       "      <td>36.139625</td>\n",
       "      <td>137.251032</td>\n",
       "    </tr>\n",
       "    <tr>\n",
       "      <th>8</th>\n",
       "      <td>Japan</td>\n",
       "      <td>Kanazawa</td>\n",
       "      <td>2024-09-19</td>\n",
       "      <td>2024-09-20</td>\n",
       "      <td>2</td>\n",
       "      <td>36.561627</td>\n",
       "      <td>136.656882</td>\n",
       "    </tr>\n",
       "    <tr>\n",
       "      <th>9</th>\n",
       "      <td>Japan</td>\n",
       "      <td>Tottori</td>\n",
       "      <td>2024-09-21</td>\n",
       "      <td>2024-09-22</td>\n",
       "      <td>2</td>\n",
       "      <td>35.355508</td>\n",
       "      <td>133.867852</td>\n",
       "    </tr>\n",
       "    <tr>\n",
       "      <th>10</th>\n",
       "      <td>Japan</td>\n",
       "      <td>Takeda Castle &amp; Himeji</td>\n",
       "      <td>2024-09-23</td>\n",
       "      <td>2024-09-24</td>\n",
       "      <td>2</td>\n",
       "      <td>34.816667</td>\n",
       "      <td>134.683333</td>\n",
       "    </tr>\n",
       "    <tr>\n",
       "      <th>11</th>\n",
       "      <td>Japan</td>\n",
       "      <td>Kyoto</td>\n",
       "      <td>2024-09-25</td>\n",
       "      <td>2024-10-03</td>\n",
       "      <td>9</td>\n",
       "      <td>35.011575</td>\n",
       "      <td>135.768144</td>\n",
       "    </tr>\n",
       "    <tr>\n",
       "      <th>12</th>\n",
       "      <td>Japan</td>\n",
       "      <td>Osaka</td>\n",
       "      <td>2024-10-04</td>\n",
       "      <td>2024-10-07</td>\n",
       "      <td>4</td>\n",
       "      <td>34.693757</td>\n",
       "      <td>135.501454</td>\n",
       "    </tr>\n",
       "    <tr>\n",
       "      <th>13</th>\n",
       "      <td>Japan</td>\n",
       "      <td>Okayama</td>\n",
       "      <td>2024-10-08</td>\n",
       "      <td>2024-10-08</td>\n",
       "      <td>1</td>\n",
       "      <td>34.858133</td>\n",
       "      <td>133.775926</td>\n",
       "    </tr>\n",
       "    <tr>\n",
       "      <th>14</th>\n",
       "      <td>Japan</td>\n",
       "      <td>Onomichi</td>\n",
       "      <td>2024-10-09</td>\n",
       "      <td>2024-10-10</td>\n",
       "      <td>2</td>\n",
       "      <td>34.408852</td>\n",
       "      <td>133.205155</td>\n",
       "    </tr>\n",
       "    <tr>\n",
       "      <th>15</th>\n",
       "      <td>Japan</td>\n",
       "      <td>Hiroshima</td>\n",
       "      <td>2024-10-11</td>\n",
       "      <td>2024-10-15</td>\n",
       "      <td>5</td>\n",
       "      <td>34.391724</td>\n",
       "      <td>132.451759</td>\n",
       "    </tr>\n",
       "    <tr>\n",
       "      <th>16</th>\n",
       "      <td>Japan</td>\n",
       "      <td>Fukuoka</td>\n",
       "      <td>2024-10-16</td>\n",
       "      <td>2024-10-18</td>\n",
       "      <td>3</td>\n",
       "      <td>33.625124</td>\n",
       "      <td>130.618002</td>\n",
       "    </tr>\n",
       "    <tr>\n",
       "      <th>17</th>\n",
       "      <td>Japan</td>\n",
       "      <td>Karatsu</td>\n",
       "      <td>2024-10-19</td>\n",
       "      <td>2024-10-21</td>\n",
       "      <td>3</td>\n",
       "      <td>33.450341</td>\n",
       "      <td>129.967935</td>\n",
       "    </tr>\n",
       "    <tr>\n",
       "      <th>18</th>\n",
       "      <td>Japan</td>\n",
       "      <td>Nagasaki</td>\n",
       "      <td>2024-10-22</td>\n",
       "      <td>2024-10-25</td>\n",
       "      <td>4</td>\n",
       "      <td>33.115468</td>\n",
       "      <td>129.787434</td>\n",
       "    </tr>\n",
       "    <tr>\n",
       "      <th>19</th>\n",
       "      <td>Japan</td>\n",
       "      <td>Kumamoto</td>\n",
       "      <td>2024-10-26</td>\n",
       "      <td>2024-10-27</td>\n",
       "      <td>2</td>\n",
       "      <td>32.645047</td>\n",
       "      <td>130.634134</td>\n",
       "    </tr>\n",
       "    <tr>\n",
       "      <th>20</th>\n",
       "      <td>Japan</td>\n",
       "      <td>Kurokawa Onsen</td>\n",
       "      <td>2024-10-28</td>\n",
       "      <td>2024-10-28</td>\n",
       "      <td>1</td>\n",
       "      <td>33.077713</td>\n",
       "      <td>131.141938</td>\n",
       "    </tr>\n",
       "    <tr>\n",
       "      <th>21</th>\n",
       "      <td>Japan</td>\n",
       "      <td>Beppu</td>\n",
       "      <td>2024-10-29</td>\n",
       "      <td>2024-11-03</td>\n",
       "      <td>6</td>\n",
       "      <td>33.284575</td>\n",
       "      <td>131.491306</td>\n",
       "    </tr>\n",
       "    <tr>\n",
       "      <th>22</th>\n",
       "      <td>Japan</td>\n",
       "      <td>Kumamoto</td>\n",
       "      <td>2024-11-04</td>\n",
       "      <td>2024-11-04</td>\n",
       "      <td>1</td>\n",
       "      <td>32.645047</td>\n",
       "      <td>130.634134</td>\n",
       "    </tr>\n",
       "    <tr>\n",
       "      <th>23</th>\n",
       "      <td>Japan</td>\n",
       "      <td>Kagoshima</td>\n",
       "      <td>2024-11-05</td>\n",
       "      <td>2024-11-09</td>\n",
       "      <td>5</td>\n",
       "      <td>31.521587</td>\n",
       "      <td>130.547408</td>\n",
       "    </tr>\n",
       "    <tr>\n",
       "      <th>24</th>\n",
       "      <td>Japan</td>\n",
       "      <td>Ibusuki</td>\n",
       "      <td>2024-11-10</td>\n",
       "      <td>2024-11-13</td>\n",
       "      <td>4</td>\n",
       "      <td>31.252795</td>\n",
       "      <td>130.633310</td>\n",
       "    </tr>\n",
       "    <tr>\n",
       "      <th>25</th>\n",
       "      <td>Korea</td>\n",
       "      <td>Seoul</td>\n",
       "      <td>2024-11-14</td>\n",
       "      <td>2024-11-25</td>\n",
       "      <td>12</td>\n",
       "      <td>37.566679</td>\n",
       "      <td>126.978291</td>\n",
       "    </tr>\n",
       "    <tr>\n",
       "      <th>26</th>\n",
       "      <td>Korea</td>\n",
       "      <td>Gyeongju</td>\n",
       "      <td>2024-11-26</td>\n",
       "      <td>2024-11-27</td>\n",
       "      <td>2</td>\n",
       "      <td>35.855671</td>\n",
       "      <td>129.224881</td>\n",
       "    </tr>\n",
       "    <tr>\n",
       "      <th>27</th>\n",
       "      <td>Korea</td>\n",
       "      <td>Ulsan</td>\n",
       "      <td>2024-11-28</td>\n",
       "      <td>2024-11-29</td>\n",
       "      <td>2</td>\n",
       "      <td>35.539170</td>\n",
       "      <td>129.311914</td>\n",
       "    </tr>\n",
       "    <tr>\n",
       "      <th>28</th>\n",
       "      <td>Korea</td>\n",
       "      <td>Busan</td>\n",
       "      <td>2024-11-30</td>\n",
       "      <td>2024-12-01</td>\n",
       "      <td>2</td>\n",
       "      <td>35.179953</td>\n",
       "      <td>129.075236</td>\n",
       "    </tr>\n",
       "    <tr>\n",
       "      <th>29</th>\n",
       "      <td>Korea</td>\n",
       "      <td>Jeju Island</td>\n",
       "      <td>2024-12-02</td>\n",
       "      <td>2024-12-07</td>\n",
       "      <td>6</td>\n",
       "      <td>33.380347</td>\n",
       "      <td>126.548254</td>\n",
       "    </tr>\n",
       "    <tr>\n",
       "      <th>30</th>\n",
       "      <td>Taiwan</td>\n",
       "      <td>Taipei</td>\n",
       "      <td>2024-12-08</td>\n",
       "      <td>2024-12-13</td>\n",
       "      <td>6</td>\n",
       "      <td>25.037520</td>\n",
       "      <td>121.563680</td>\n",
       "    </tr>\n",
       "    <tr>\n",
       "      <th>31</th>\n",
       "      <td>Taiwan</td>\n",
       "      <td>Jiufen</td>\n",
       "      <td>2024-12-14</td>\n",
       "      <td>2024-12-15</td>\n",
       "      <td>2</td>\n",
       "      <td>25.111656</td>\n",
       "      <td>121.845069</td>\n",
       "    </tr>\n",
       "    <tr>\n",
       "      <th>32</th>\n",
       "      <td>Taiwan</td>\n",
       "      <td>Keelung</td>\n",
       "      <td>2024-12-16</td>\n",
       "      <td>2024-12-19</td>\n",
       "      <td>4</td>\n",
       "      <td>25.131723</td>\n",
       "      <td>121.744652</td>\n",
       "    </tr>\n",
       "    <tr>\n",
       "      <th>33</th>\n",
       "      <td>Taiwan</td>\n",
       "      <td>Taichung</td>\n",
       "      <td>2024-12-20</td>\n",
       "      <td>2024-12-22</td>\n",
       "      <td>3</td>\n",
       "      <td>24.163162</td>\n",
       "      <td>120.647828</td>\n",
       "    </tr>\n",
       "    <tr>\n",
       "      <th>34</th>\n",
       "      <td>Taiwan</td>\n",
       "      <td>Sun Moon Lake</td>\n",
       "      <td>2024-12-23</td>\n",
       "      <td>2024-12-26</td>\n",
       "      <td>4</td>\n",
       "      <td>23.852328</td>\n",
       "      <td>120.928607</td>\n",
       "    </tr>\n",
       "    <tr>\n",
       "      <th>35</th>\n",
       "      <td>Taiwan</td>\n",
       "      <td>Chiayi</td>\n",
       "      <td>2024-12-27</td>\n",
       "      <td>2025-01-01</td>\n",
       "      <td>6</td>\n",
       "      <td>23.459166</td>\n",
       "      <td>120.293000</td>\n",
       "    </tr>\n",
       "    <tr>\n",
       "      <th>36</th>\n",
       "      <td>Taiwan</td>\n",
       "      <td>Tainan</td>\n",
       "      <td>2025-01-02</td>\n",
       "      <td>2025-01-03</td>\n",
       "      <td>2</td>\n",
       "      <td>22.991235</td>\n",
       "      <td>120.184982</td>\n",
       "    </tr>\n",
       "    <tr>\n",
       "      <th>37</th>\n",
       "      <td>Thailand</td>\n",
       "      <td>Bangkok</td>\n",
       "      <td>2025-01-06</td>\n",
       "      <td>2025-01-11</td>\n",
       "      <td>6</td>\n",
       "      <td>13.752494</td>\n",
       "      <td>100.493509</td>\n",
       "    </tr>\n",
       "    <tr>\n",
       "      <th>38</th>\n",
       "      <td>Thailand</td>\n",
       "      <td>Pai</td>\n",
       "      <td>2025-01-13</td>\n",
       "      <td>2025-01-14</td>\n",
       "      <td>2</td>\n",
       "      <td>19.358106</td>\n",
       "      <td>98.440579</td>\n",
       "    </tr>\n",
       "    <tr>\n",
       "      <th>39</th>\n",
       "      <td>Thailand</td>\n",
       "      <td>Chiang Mai</td>\n",
       "      <td>2025-01-15</td>\n",
       "      <td>2025-01-20</td>\n",
       "      <td>6</td>\n",
       "      <td>18.788278</td>\n",
       "      <td>98.985880</td>\n",
       "    </tr>\n",
       "    <tr>\n",
       "      <th>40</th>\n",
       "      <td>Laos</td>\n",
       "      <td>Luang Prabang</td>\n",
       "      <td>2025-01-21</td>\n",
       "      <td>2025-01-21</td>\n",
       "      <td>1</td>\n",
       "      <td>19.888744</td>\n",
       "      <td>102.135898</td>\n",
       "    </tr>\n",
       "    <tr>\n",
       "      <th>41</th>\n",
       "      <td>Laos</td>\n",
       "      <td>Vang Vieng</td>\n",
       "      <td>2025-01-22</td>\n",
       "      <td>2025-01-23</td>\n",
       "      <td>2</td>\n",
       "      <td>18.953896</td>\n",
       "      <td>102.456391</td>\n",
       "    </tr>\n",
       "    <tr>\n",
       "      <th>42</th>\n",
       "      <td>Laos</td>\n",
       "      <td>Vientiane</td>\n",
       "      <td>2025-01-24</td>\n",
       "      <td>2025-01-28</td>\n",
       "      <td>5</td>\n",
       "      <td>17.964099</td>\n",
       "      <td>102.613371</td>\n",
       "    </tr>\n",
       "    <tr>\n",
       "      <th>43</th>\n",
       "      <td>Laos</td>\n",
       "      <td>Vang Vieng</td>\n",
       "      <td>2025-01-29</td>\n",
       "      <td>2025-02-06</td>\n",
       "      <td>9</td>\n",
       "      <td>18.953896</td>\n",
       "      <td>102.456391</td>\n",
       "    </tr>\n",
       "    <tr>\n",
       "      <th>44</th>\n",
       "      <td>Laos</td>\n",
       "      <td>Thakek</td>\n",
       "      <td>2025-02-07</td>\n",
       "      <td>2025-02-12</td>\n",
       "      <td>6</td>\n",
       "      <td>17.397470</td>\n",
       "      <td>104.825301</td>\n",
       "    </tr>\n",
       "    <tr>\n",
       "      <th>45</th>\n",
       "      <td>Thailand</td>\n",
       "      <td>Bangkok</td>\n",
       "      <td>2025-02-13</td>\n",
       "      <td>2025-02-13</td>\n",
       "      <td>1</td>\n",
       "      <td>13.752494</td>\n",
       "      <td>100.493509</td>\n",
       "    </tr>\n",
       "  </tbody>\n",
       "</table>\n",
       "</div>"
      ],
      "text/plain": [
       "       Country                    City       Start         End  Duration  \\\n",
       "0     Singapur                Singapur  2024-08-08  2024-08-13         6   \n",
       "1   Indonesien                  Malang  2024-08-14  2024-08-16         3   \n",
       "2   Indonesien              Yogyakarta  2024-08-19  2024-08-24         6   \n",
       "3   Indonesien                 Bandung  2024-08-25  2024-08-27         3   \n",
       "4   Indonesien                 Jakarta  2024-08-28  2024-08-28         1   \n",
       "5        Japan                   Tokio  2024-08-29  2024-09-08        11   \n",
       "6        Japan                    Fuji  2024-09-09  2024-09-13         5   \n",
       "7        Japan                Takayama  2024-09-14  2024-09-18         5   \n",
       "8        Japan                Kanazawa  2024-09-19  2024-09-20         2   \n",
       "9        Japan                 Tottori  2024-09-21  2024-09-22         2   \n",
       "10       Japan  Takeda Castle & Himeji  2024-09-23  2024-09-24         2   \n",
       "11       Japan                   Kyoto  2024-09-25  2024-10-03         9   \n",
       "12       Japan                   Osaka  2024-10-04  2024-10-07         4   \n",
       "13       Japan                 Okayama  2024-10-08  2024-10-08         1   \n",
       "14       Japan                Onomichi  2024-10-09  2024-10-10         2   \n",
       "15       Japan               Hiroshima  2024-10-11  2024-10-15         5   \n",
       "16       Japan                 Fukuoka  2024-10-16  2024-10-18         3   \n",
       "17       Japan                 Karatsu  2024-10-19  2024-10-21         3   \n",
       "18       Japan                Nagasaki  2024-10-22  2024-10-25         4   \n",
       "19       Japan                Kumamoto  2024-10-26  2024-10-27         2   \n",
       "20       Japan          Kurokawa Onsen  2024-10-28  2024-10-28         1   \n",
       "21       Japan                   Beppu  2024-10-29  2024-11-03         6   \n",
       "22       Japan                Kumamoto  2024-11-04  2024-11-04         1   \n",
       "23       Japan               Kagoshima  2024-11-05  2024-11-09         5   \n",
       "24       Japan                 Ibusuki  2024-11-10  2024-11-13         4   \n",
       "25       Korea                   Seoul  2024-11-14  2024-11-25        12   \n",
       "26       Korea                Gyeongju  2024-11-26  2024-11-27         2   \n",
       "27       Korea                   Ulsan  2024-11-28  2024-11-29         2   \n",
       "28       Korea                   Busan  2024-11-30  2024-12-01         2   \n",
       "29       Korea             Jeju Island  2024-12-02  2024-12-07         6   \n",
       "30      Taiwan                  Taipei  2024-12-08  2024-12-13         6   \n",
       "31      Taiwan                  Jiufen  2024-12-14  2024-12-15         2   \n",
       "32      Taiwan                 Keelung  2024-12-16  2024-12-19         4   \n",
       "33      Taiwan                Taichung  2024-12-20  2024-12-22         3   \n",
       "34      Taiwan           Sun Moon Lake  2024-12-23  2024-12-26         4   \n",
       "35      Taiwan                  Chiayi  2024-12-27  2025-01-01         6   \n",
       "36      Taiwan                  Tainan  2025-01-02  2025-01-03         2   \n",
       "37    Thailand                 Bangkok  2025-01-06  2025-01-11         6   \n",
       "38    Thailand                     Pai  2025-01-13  2025-01-14         2   \n",
       "39    Thailand              Chiang Mai  2025-01-15  2025-01-20         6   \n",
       "40        Laos           Luang Prabang  2025-01-21  2025-01-21         1   \n",
       "41        Laos              Vang Vieng  2025-01-22  2025-01-23         2   \n",
       "42        Laos               Vientiane  2025-01-24  2025-01-28         5   \n",
       "43        Laos              Vang Vieng  2025-01-29  2025-02-06         9   \n",
       "44        Laos                  Thakek  2025-02-07  2025-02-12         6   \n",
       "45    Thailand                 Bangkok  2025-02-13  2025-02-13         1   \n",
       "\n",
       "     Latitude   Longitude  \n",
       "0    1.289918  103.851907  \n",
       "1   -7.977131  112.634027  \n",
       "2   -7.801265  110.364686  \n",
       "3   -6.921553  107.611021  \n",
       "4   -6.175405  106.827168  \n",
       "5   35.676860  139.763895  \n",
       "6   35.362799  138.730781  \n",
       "7   36.139625  137.251032  \n",
       "8   36.561627  136.656882  \n",
       "9   35.355508  133.867852  \n",
       "10  34.816667  134.683333  \n",
       "11  35.011575  135.768144  \n",
       "12  34.693757  135.501454  \n",
       "13  34.858133  133.775926  \n",
       "14  34.408852  133.205155  \n",
       "15  34.391724  132.451759  \n",
       "16  33.625124  130.618002  \n",
       "17  33.450341  129.967935  \n",
       "18  33.115468  129.787434  \n",
       "19  32.645047  130.634134  \n",
       "20  33.077713  131.141938  \n",
       "21  33.284575  131.491306  \n",
       "22  32.645047  130.634134  \n",
       "23  31.521587  130.547408  \n",
       "24  31.252795  130.633310  \n",
       "25  37.566679  126.978291  \n",
       "26  35.855671  129.224881  \n",
       "27  35.539170  129.311914  \n",
       "28  35.179953  129.075236  \n",
       "29  33.380347  126.548254  \n",
       "30  25.037520  121.563680  \n",
       "31  25.111656  121.845069  \n",
       "32  25.131723  121.744652  \n",
       "33  24.163162  120.647828  \n",
       "34  23.852328  120.928607  \n",
       "35  23.459166  120.293000  \n",
       "36  22.991235  120.184982  \n",
       "37  13.752494  100.493509  \n",
       "38  19.358106   98.440579  \n",
       "39  18.788278   98.985880  \n",
       "40  19.888744  102.135898  \n",
       "41  18.953896  102.456391  \n",
       "42  17.964099  102.613371  \n",
       "43  18.953896  102.456391  \n",
       "44  17.397470  104.825301  \n",
       "45  13.752494  100.493509  "
      ]
     },
     "execution_count": 56,
     "metadata": {},
     "output_type": "execute_result"
    }
   ],
   "source": [
    "df_geo"
   ]
  },
  {
   "cell_type": "code",
   "execution_count": 68,
   "id": "13dcfb2d0ef14d5c",
   "metadata": {
    "ExecuteTime": {
     "end_time": "2025-05-25T11:16:54.913534Z",
     "start_time": "2025-05-25T11:16:54.893275Z"
    }
   },
   "outputs": [],
   "source": [
    "import plotly.graph_objects as go\n",
    "import pandas as pd\n",
    "import numpy as np\n",
    "from datetime import datetime, timedelta\n",
    "from typing import Optional, Dict\n",
    "\n",
    "def plot_travel_map(\n",
    "    df: pd.DataFrame,\n",
    "    lat_col: str = \"Latitude\",\n",
    "    lon_col: str = \"Longitude\",\n",
    "    city_col: str = \"City\",\n",
    "    duration_col: str = \"Duration\",\n",
    "    date_col: str = \"Start\",\n",
    "    default_marker_size: int = 5,\n",
    "    marker_scale: float = 2.0,\n",
    "    color_scale: str = \"Viridis\",\n",
    "    line_opacity: float = 0.6,\n",
    "    plot_kwargs: Optional[Dict] = None\n",
    ") -> go.Figure:\n",
    "    \"\"\"\n",
    "    Plots a world map of visited cities with size based on duration and color based on entry date.\n",
    "\n",
    "    Parameters:\n",
    "        df (pd.DataFrame): DataFrame with geolocation and visit data.\n",
    "        lat_col (str): Name of the latitude column.\n",
    "        lon_col (str): Name of the longitude column.\n",
    "        city_col (str): Name of the city column.\n",
    "        duration_col (str): Name of the duration column.\n",
    "        date_col (str): Name of the date column (should be datetime).\n",
    "        default_marker_size (int): Minimum size for markers.\n",
    "        marker_scale (float): Scaling factor for marker size.\n",
    "        color_scale (str): Color scale name for Plotly.\n",
    "        line_opacity (float): Opacity of the lines connecting cities.\n",
    "        plot_kwargs (dict): Additional keyword arguments to pass to `go.Figure`.\n",
    "\n",
    "    Returns:\n",
    "        go.Figure: The resulting Plotly figure.\n",
    "    \"\"\"\n",
    "    if plot_kwargs is None:\n",
    "        plot_kwargs = {}\n",
    "\n",
    "    df_sorted = df.sort_values(by=date_col).reset_index(drop=True)\n",
    "\n",
    "    # Normalize date to float for coloring\n",
    "    date_min = df_sorted[date_col].min()\n",
    "    date_max = df_sorted[date_col].max()\n",
    "    date_range = (df_sorted[date_col] - date_min) / (date_max - date_min + pd.Timedelta(days=1e-9))\n",
    "\n",
    "    # Compute marker size and color\n",
    "    sizes = df_sorted[duration_col].fillna(1) * marker_scale + default_marker_size\n",
    "    colors = date_range\n",
    "\n",
    "    # Create scatter trace for cities\n",
    "    scatter = go.Scattergeo(\n",
    "        lat=df_sorted[lat_col],\n",
    "        lon=df_sorted[lon_col],\n",
    "        text=[f\"{row[city_col]}<br>{row[date_col].strftime('%d.%m.%Y')} - {(row[date_col]+timedelta(days=row[duration_col])).strftime('%d.%m.%Y')}:  {row[duration_col]} days\" for _, row in df_sorted.iterrows()],\n",
    "        mode=\"markers\",\n",
    "        marker=dict(\n",
    "            size=sizes,\n",
    "            color=colors,\n",
    "            colorscale=color_scale,\n",
    "            colorbar=dict(title=\"Date\"),\n",
    "            opacity=0.8,\n",
    "            line=dict(width=0.5, color=\"black\")\n",
    "        ),\n",
    "        name=\"Cities\"\n",
    "    )\n",
    "\n",
    "    # Create line segments\n",
    "    lines = []\n",
    "    for i in range(len(df_sorted) - 1):\n",
    "        lat0, lon0 = df_sorted.loc[i, [lat_col, lon_col]]\n",
    "        lat1, lon1 = df_sorted.loc[i + 1, [lat_col, lon_col]]\n",
    "        color0 = colors[i]\n",
    "        color1 = colors[i + 1]\n",
    "        # Midpoint color for the line\n",
    "        mid_color = 0.5 * (color0 + color1)\n",
    "\n",
    "        lines.append(go.Scattergeo(\n",
    "            lat=[lat0, lat1],\n",
    "            lon=[lon0, lon1],\n",
    "            mode=\"lines\",\n",
    "            line=dict(width=2, color=f\"rgba(0, 0, 0, {line_opacity})\"),  # neutral fade\n",
    "            opacity=line_opacity,\n",
    "            showlegend=False\n",
    "        ))\n",
    "\n",
    "    if auto_center:\n",
    "            lat_min, lat_max = df_sorted[lat_col].min(), df_sorted[lat_col].max()\n",
    "            lon_min, lon_max = df_sorted[lon_col].min(), df_sorted[lon_col].max()\n",
    "            lat_center = (lat_min + lat_max) / 2\n",
    "            lon_center = (lon_min + lon_max) / 2\n",
    "            lat_range = lat_max - lat_min\n",
    "            lon_range = lon_max - lon_min\n",
    "\n",
    "            geo_scope.update(\n",
    "                center=dict(lat=lat_center, lon=lon_center),\n",
    "                lataxis=dict(range=[lat_min - lat_range * 0.2, lat_max + lat_range * 0.2]),\n",
    "                lonaxis=dict(range=[lon_min - lon_range * 0.2, lon_max + lon_range * 0.2])\n",
    "            )\n",
    "\n",
    "    fig = go.Figure([scatter] + lines, **plot_kwargs)\n",
    "\n",
    "    fig.update_layout(\n",
    "        geo=dict(\n",
    "            projection_type=\"natural earth\",\n",
    "            showland=True,\n",
    "            landcolor=\"rgb(243, 243, 243)\",\n",
    "            showcountries=True,\n",
    "            countrycolor=\"rgb(204, 204, 204)\",\n",
    "        ),\n",
    "        title=\"Travel Map\",\n",
    "        margin=dict(l=0, r=0, t=40, b=0)\n",
    "    )\n",
    "\n",
    "    return fig\n"
   ]
  },
  {
   "cell_type": "code",
   "execution_count": 91,
   "id": "8f9b34e819ab961",
   "metadata": {
    "ExecuteTime": {
     "end_time": "2025-05-25T12:51:14.385376Z",
     "start_time": "2025-05-25T12:51:14.362452Z"
    }
   },
   "outputs": [],
   "source": [
    "import plotly.graph_objects as go\n",
    "from plotly.colors import sample_colorscale\n",
    "import pandas as pd\n",
    "import numpy as np\n",
    "from typing import Optional, Dict\n",
    "\n",
    "import plotly.colors as pc\n",
    "\n",
    "def get_rgb_from_scale(value: float, colorscale: str) -> tuple:\n",
    "    \"\"\"\n",
    "    Convert a normalized value (0-1) into an RGB tuple using the given Plotly colorscale.\n",
    "\n",
    "    Parameters:\n",
    "        value (float): Normalized value between 0 and 1.\n",
    "        colorscale (str): Name of the Plotly color scale.\n",
    "\n",
    "    Returns:\n",
    "        tuple: (r, g, b)\n",
    "    \"\"\"\n",
    "    # Ensure value is in [0, 1]\n",
    "    value = max(0, min(1, value))\n",
    "    rgb_string = pc.find_intermediate_color(\n",
    "        pc.get_colorscale(colorscale)[0][1],\n",
    "        pc.get_colorscale(colorscale)[-1][1],\n",
    "        value,\n",
    "        colortype=\"rgb\"\n",
    "    )\n",
    "    return tuple(int(x) for x in rgb_string.strip(\"rgb()\").split(\",\"))\n",
    "\n",
    "\n",
    "def plot_travel_map(\n",
    "    df: pd.DataFrame,\n",
    "    lat_col: str = \"Latitude\",\n",
    "    lon_col: str = \"Longitude\",\n",
    "    city_col: str = \"City\",\n",
    "    duration_col: str = \"Duration\",\n",
    "    date_col: str = \"Start\",\n",
    "    default_marker_size: int = 5,\n",
    "    marker_scale: float = 2.0,\n",
    "    color_scale: str = \"Viridis\",\n",
    "    line_opacity: float = 0.6,\n",
    "    auto_center: bool = False,\n",
    "    plot_kwargs: Optional[Dict] = None\n",
    ") -> go.Figure:\n",
    "    \"\"\"\n",
    "    Plots a world map of visited cities with size based on duration and color based on entry date.\n",
    "\n",
    "    Parameters:\n",
    "        df (pd.DataFrame): DataFrame with geolocation and visit data.\n",
    "        lat_col (str): Name of the latitude column.\n",
    "        lon_col (str): Name of the longitude column.\n",
    "        city_col (str): Name of the city column.\n",
    "        duration_col (str): Name of the duration column.\n",
    "        date_col (str): Name of the entry date column (should be datetime).\n",
    "        default_marker_size (int): Minimum size for markers.\n",
    "        marker_scale (float): Scaling factor for marker size.\n",
    "        color_scale (str): Color scale name for Plotly.\n",
    "        line_opacity (float): Opacity of the lines connecting cities.\n",
    "        auto_center (bool): If True, zoom to the bounding box of the cities.\n",
    "        plot_kwargs (dict): Additional keyword arguments to pass to `go.Figure`.\n",
    "\n",
    "    Returns:\n",
    "        go.Figure: The resulting Plotly figure.\n",
    "    \"\"\"\n",
    "    if plot_kwargs is None:\n",
    "        plot_kwargs = {}\n",
    "\n",
    "    df_sorted = df.sort_values(by=date_col).reset_index(drop=True)\n",
    "\n",
    "    # Normalize date to float for coloring\n",
    "    date_min = df_sorted[date_col].min()\n",
    "    date_max = df_sorted[date_col].max()\n",
    "    date_range = (df_sorted[date_col] - date_min) / (date_max - date_min + pd.Timedelta(days=1e-9))\n",
    "\n",
    "    # Compute marker size and color\n",
    "    sizes = df_sorted[duration_col].fillna(1) * marker_scale + default_marker_size\n",
    "\n",
    "    # Create scatter trace for cities\n",
    "    scatter = go.Scattergeo(\n",
    "        lat=df_sorted[lat_col],\n",
    "        lon=df_sorted[lon_col],\n",
    "        text=[f\"{row[city_col]}<br>{row[date_col].strftime('%d.%m.%Y')} - {(row[date_col]+timedelta(days=row[duration_col])).strftime('%d.%m.%Y')}:  {row[duration_col]} days\" for _, row in df_sorted.iterrows()],\n",
    "        mode=\"markers\",\n",
    "        marker=dict(\n",
    "            size=sizes,\n",
    "            color=date_range,\n",
    "            colorscale=color_scale,\n",
    "            colorbar=dict(title=\"Date\"),\n",
    "            opacity=0.8,\n",
    "            line=dict(width=0.5, color=\"black\")\n",
    "        ),\n",
    "        name=\"Cities\"\n",
    "    )\n",
    "\n",
    "    # Create line segments between cities\n",
    "    lines = []\n",
    "    # Loop through cities and create colored lines\n",
    "    for i in range(len(df_sorted) - 1):\n",
    "        lat0, lon0 = df_sorted.loc[i, [lat_col, lon_col]]\n",
    "        lat1, lon1 = df_sorted.loc[i + 1, [lat_col, lon_col]]\n",
    "\n",
    "        # Normalized color values\n",
    "        norm0 = date_range.iloc[i]\n",
    "        norm1 = date_range.iloc[i + 1]\n",
    "\n",
    "        # Sample colors from scale\n",
    "        rgb0 = sample_colorscale(color_scale, norm0, colortype='rgb')[0]\n",
    "        rgb1 = sample_colorscale(color_scale, norm1, colortype='rgb')[0]\n",
    "\n",
    "        # Convert to RGB tuple and compute midpoint\n",
    "        def rgb_str_to_tuple(rgb_str):\n",
    "            return tuple(int(v.strip()) for v in rgb_str.strip(\"rgb() \").split(\",\"))\n",
    "\n",
    "        rgb0_tuple = rgb_str_to_tuple(rgb0)\n",
    "        rgb1_tuple = rgb_str_to_tuple(rgb1)\n",
    "\n",
    "        mid_rgb = tuple((a + b) // 2 for a, b in zip(rgb0_tuple, rgb1_tuple))\n",
    "        rgba_color = f\"rgba({mid_rgb[0]}, {mid_rgb[1]}, {mid_rgb[2]}, {line_opacity})\"\n",
    "\n",
    "        lines.append(go.Scattergeo(\n",
    "            lat=[lat0, lat1],\n",
    "            lon=[lon0, lon1],\n",
    "            mode=\"lines\",\n",
    "            line=dict(width=2, color=rgba_color),\n",
    "            opacity=line_opacity,\n",
    "            showlegend=False\n",
    "        ))\n",
    "\n",
    "    # Calculate bounds if auto_center is enabled\n",
    "    geo_scope = dict(\n",
    "        projection_type=\"natural earth\",\n",
    "        resolution=50,\n",
    "        showland=True,\n",
    "        landcolor=\"rgb(243, 243, 243)\",\n",
    "        showcountries=True,\n",
    "        countrycolor=\"rgb(204, 204, 204)\",\n",
    "    )\n",
    "\n",
    "    if auto_center:\n",
    "        lat_min, lat_max = df_sorted[lat_col].min(), df_sorted[lat_col].max()\n",
    "        lon_min, lon_max = df_sorted[lon_col].min(), df_sorted[lon_col].max()\n",
    "        lat_center = (lat_min + lat_max) / 2\n",
    "        lon_center = (lon_min + lon_max) / 2\n",
    "        lat_range = lat_max - lat_min\n",
    "        lon_range = lon_max - lon_min\n",
    "\n",
    "        geo_scope.update(\n",
    "            center=dict(lat=lat_center, lon=lon_center),\n",
    "            #lataxis=dict(range=[lat_min - lat_range * 0.2, lat_max + lat_range * 0.2]),\n",
    "            #lonaxis=dict(range=[lon_min - lon_range * 0.2, lon_max + lon_range * 0.2])\n",
    "        )\n",
    "\n",
    "    fig = go.Figure([scatter] + lines, **plot_kwargs)\n",
    "\n",
    "    fig.update_layout(\n",
    "        geo=geo_scope,\n",
    "        title=\"Travel Map\",\n",
    "        margin=dict(l=0, r=0, t=40, b=0)\n",
    "    )\n",
    "\n",
    "    return fig\n"
   ]
  },
  {
   "cell_type": "code",
   "execution_count": 92,
   "id": "f36f8d36575eceac",
   "metadata": {
    "ExecuteTime": {
     "end_time": "2025-05-25T12:51:15.246329Z",
     "start_time": "2025-05-25T12:51:14.987634Z"
    }
   },
   "outputs": [
    {
     "data": {
      "application/vnd.plotly.v1+json": {
       "config": {
        "plotlyServerURL": "https://plot.ly"
       },
       "data": [
        {
         "lat": {
          "bdata": "+ptQiICj9D9DqPf5lOgfwCTFEbV+NB/AxiI8kKuvG8CMO5RXnbMYwNC7DFqj1kFAwQKYMnCuQUDJWwk43xFCQHrGvmTjR0JAyv0ORYGtQUB5XFSLiGhBQBQ4fk17gUFA6m+uBs1YQUB6TbRQ121BQCi0UUJVNEFAC0frAyQyQUCBuAYRBNBAQDvI68GkuUBAxBxOqseOQEDrbp7qkFJAQEJ8u4DyiUBAV6DM9WykQEDrbp7qkFJAQM0Ew7mGhT9AHxVaMbdAP0DS6dTwiMhCQHTTZpyG7UFAQD9CgwPFQUBtaX+xCJdBQMTOFDqvsEBA1PPJ5ZoJOUAf5oF+lRw5QN0flJy4ITlAMPMd/MQpOEBjdVAuMto3QAxs3+2LdTdAOKhYkMH9NkCy4greRoErQIT/Y9esWzNArynrkszJMkDUhbO2hOMzQC5I6Ygy9DJA4xzQLc/2MUAuSOmIMvQyQCAkC5jAZTFAsuIK3kaBK0A=",
          "dtype": "f8"
         },
         "lon": {
          "bdata": "hs7GpYX2WUAIk+LjkyhcQGi0sAJXl1tAacqp+BrnWkAOEw1S8LRaQM9CTNNxeGFAOfHVjmJXYUDGJ650CChhQGPK0S0FFWFADyibcsW7YEDi6Crd3dVgQLGD76KU+GBAdJ4M6QvwYEAihOxh1LhgQKdDAqGQpmBAqaUUz3SOYEAGnEqrxlNgQHLFxVH5PmBAYAiUqDI5YEB9WG/USlRgQM4xxcGKZGBAM1r9x7hvYEB9WG/USlRgQIQiJ12EUWBAqze0EkRUYEBRPYhTnL5fQKI/2TkyJ2BAr+U6MvspYEDlXmBWaCJgQKHYCpoWo19ACNuZUxNkXkBCd0mcFXZeQKq53GCob15ATRtpBHYpXkCM9Q1MbjteQMHtv4TAEl5AURa+vtYLXkA8clqmlR9ZQKWS8HMynFhAiDFEqRi/WEDgZYaNsohZQEpsLYI1nVlAxzQud0GnWUBKbC2CNZ1ZQMoWSbvRNFpAPHJappUfWUA=",
          "dtype": "f8"
         },
         "marker": {
          "color": {
           "bdata": "AAAAAAAAAACBpUAQBEGgP20vIXOHzK0/d+qwwcUGtz/YE8HFBhe7P6MhcRzHcbw/rdwAawWsxT8o/7hD5g7JP6MhcRzHccw/bS8hc4fMzT84PdHJRyfPP4GlQBAEQdA/isRM0zRN0z9V0vwp9afUP8fVqD+l/tQ/rdwAawWs1T/q7VzXdV3XP0L4YBiGYdg/mgJlWZZl2T9lEBWwVsDaP0oXbdu2bds/vRoZ8WbE2z9tLyFzh8zdP+AyzYg3I94/HkQp9afU3z/0qOwltJfgP6S99KfUn+I/F8GgvYT24j+KxEzTNE3jP/zH+Ojko+M/VdL8KfWn5D+t3ABrBazlPx/grIC1AuY/BecErBWw5j8x7IbMHTLnPxbz3vd93+c/bv3iOI7j6D9UBDtk7pDpP2UQFbBWwOo/2BPBxQYX6z8wHsUGFxvsP+kfmxFvRuw/XCNHJx+d7D/7K3Vd13XtP387+77v++4/10X/////7z8=",
           "dtype": "f8"
          },
          "colorbar": {
           "title": {
            "text": "Date"
           }
          },
          "colorscale": [
           [
            0,
            "#440154"
           ],
           [
            0.1111111111111111,
            "#482878"
           ],
           [
            0.2222222222222222,
            "#3e4989"
           ],
           [
            0.3333333333333333,
            "#31688e"
           ],
           [
            0.4444444444444444,
            "#26828e"
           ],
           [
            0.5555555555555556,
            "#1f9e89"
           ],
           [
            0.6666666666666666,
            "#35b779"
           ],
           [
            0.7777777777777778,
            "#6ece58"
           ],
           [
            0.8888888888888888,
            "#b5de2b"
           ],
           [
            1,
            "#fde725"
           ]
          ],
          "line": {
           "color": "black",
           "width": 0.5
          },
          "opacity": 0.8,
          "size": {
           "bdata": "AAAAAAAAMUAAAAAAAAAmQAAAAAAAADFAAAAAAAAAJkAAAAAAAAAcQAAAAAAAADtAAAAAAAAALkAAAAAAAAAuQAAAAAAAACJAAAAAAAAAIkAAAAAAAAAiQAAAAAAAADdAAAAAAAAAKkAAAAAAAAAcQAAAAAAAACJAAAAAAAAALkAAAAAAAAAmQAAAAAAAACZAAAAAAAAAKkAAAAAAAAAiQAAAAAAAABxAAAAAAAAAMUAAAAAAAAAcQAAAAAAAAC5AAAAAAAAAKkAAAAAAAAA9QAAAAAAAACJAAAAAAAAAIkAAAAAAAAAiQAAAAAAAADFAAAAAAAAAMUAAAAAAAAAiQAAAAAAAACpAAAAAAAAAJkAAAAAAAAAqQAAAAAAAADFAAAAAAAAAIkAAAAAAAAAxQAAAAAAAACJAAAAAAAAAMUAAAAAAAAAcQAAAAAAAACJAAAAAAAAALkAAAAAAAAA3QAAAAAAAADFAAAAAAAAAHEA=",
           "dtype": "f8"
          }
         },
         "mode": "markers",
         "name": "Cities",
         "text": [
          "Singapur<br>08.08.2024 - 14.08.2024:  6 days",
          "Malang<br>14.08.2024 - 17.08.2024:  3 days",
          "Yogyakarta<br>19.08.2024 - 25.08.2024:  6 days",
          "Bandung<br>25.08.2024 - 28.08.2024:  3 days",
          "Jakarta<br>28.08.2024 - 29.08.2024:  1 days",
          "Tokio<br>29.08.2024 - 09.09.2024:  11 days",
          "Fuji<br>09.09.2024 - 14.09.2024:  5 days",
          "Takayama<br>14.09.2024 - 19.09.2024:  5 days",
          "Kanazawa<br>19.09.2024 - 21.09.2024:  2 days",
          "Tottori<br>21.09.2024 - 23.09.2024:  2 days",
          "Takeda Castle & Himeji<br>23.09.2024 - 25.09.2024:  2 days",
          "Kyoto<br>25.09.2024 - 04.10.2024:  9 days",
          "Osaka<br>04.10.2024 - 08.10.2024:  4 days",
          "Okayama<br>08.10.2024 - 09.10.2024:  1 days",
          "Onomichi<br>09.10.2024 - 11.10.2024:  2 days",
          "Hiroshima<br>11.10.2024 - 16.10.2024:  5 days",
          "Fukuoka<br>16.10.2024 - 19.10.2024:  3 days",
          "Karatsu<br>19.10.2024 - 22.10.2024:  3 days",
          "Nagasaki<br>22.10.2024 - 26.10.2024:  4 days",
          "Kumamoto<br>26.10.2024 - 28.10.2024:  2 days",
          "Kurokawa Onsen<br>28.10.2024 - 29.10.2024:  1 days",
          "Beppu<br>29.10.2024 - 04.11.2024:  6 days",
          "Kumamoto<br>04.11.2024 - 05.11.2024:  1 days",
          "Kagoshima<br>05.11.2024 - 10.11.2024:  5 days",
          "Ibusuki<br>10.11.2024 - 14.11.2024:  4 days",
          "Seoul<br>14.11.2024 - 26.11.2024:  12 days",
          "Gyeongju<br>26.11.2024 - 28.11.2024:  2 days",
          "Ulsan<br>28.11.2024 - 30.11.2024:  2 days",
          "Busan<br>30.11.2024 - 02.12.2024:  2 days",
          "Jeju Island<br>02.12.2024 - 08.12.2024:  6 days",
          "Taipei<br>08.12.2024 - 14.12.2024:  6 days",
          "Jiufen<br>14.12.2024 - 16.12.2024:  2 days",
          "Keelung<br>16.12.2024 - 20.12.2024:  4 days",
          "Taichung<br>20.12.2024 - 23.12.2024:  3 days",
          "Sun Moon Lake<br>23.12.2024 - 27.12.2024:  4 days",
          "Chiayi<br>27.12.2024 - 02.01.2025:  6 days",
          "Tainan<br>02.01.2025 - 04.01.2025:  2 days",
          "Bangkok<br>06.01.2025 - 12.01.2025:  6 days",
          "Pai<br>13.01.2025 - 15.01.2025:  2 days",
          "Chiang Mai<br>15.01.2025 - 21.01.2025:  6 days",
          "Luang Prabang<br>21.01.2025 - 22.01.2025:  1 days",
          "Vang Vieng<br>22.01.2025 - 24.01.2025:  2 days",
          "Vientiane<br>24.01.2025 - 29.01.2025:  5 days",
          "Vang Vieng<br>29.01.2025 - 07.02.2025:  9 days",
          "Thakek<br>07.02.2025 - 13.02.2025:  6 days",
          "Bangkok<br>13.02.2025 - 14.02.2025:  1 days"
         ],
         "type": "scattergeo"
        },
        {
         "lat": [
          1.2899175,
          -7.9771308
         ],
         "line": {
          "color": "rgba(68, 6, 89, 0.8)",
          "width": 2
         },
         "lon": [
          103.8519072,
          112.6340265
         ],
         "mode": "lines",
         "opacity": 0.8,
         "showlegend": false,
         "type": "scattergeo"
        },
        {
         "lat": [
          -7.9771308,
          -7.8012646
         ],
         "line": {
          "color": "rgba(69, 16, 98, 0.8)",
          "width": 2
         },
         "lon": [
          112.6340265,
          110.3646857
         ],
         "mode": "lines",
         "opacity": 0.8,
         "showlegend": false,
         "type": "scattergeo"
        },
        {
         "lat": [
          -7.8012646,
          -6.9215529
         ],
         "line": {
          "color": "rgba(70, 27, 108, 0.8)",
          "width": 2
         },
         "lon": [
          110.3646857,
          107.6110212
         ],
         "mode": "lines",
         "opacity": 0.8,
         "showlegend": false,
         "type": "scattergeo"
        },
        {
         "lat": [
          -6.9215529,
          -6.1754049
         ],
         "line": {
          "color": "rgba(71, 35, 115, 0.8)",
          "width": 2
         },
         "lon": [
          107.6110212,
          106.827168
         ],
         "mode": "lines",
         "opacity": 0.8,
         "showlegend": false,
         "type": "scattergeo"
        },
        {
         "lat": [
          -6.1754049,
          35.6768601
         ],
         "line": {
          "color": "rgba(72, 39, 119, 0.8)",
          "width": 2
         },
         "lon": [
          106.827168,
          139.7638947
         ],
         "mode": "lines",
         "opacity": 0.8,
         "showlegend": false,
         "type": "scattergeo"
        },
        {
         "lat": [
          35.6768601,
          35.362799
         ],
         "line": {
          "color": "rgba(69, 48, 124, 0.8)",
          "width": 2
         },
         "lon": [
          139.7638947,
          138.730781
         ],
         "mode": "lines",
         "opacity": 0.8,
         "showlegend": false,
         "type": "scattergeo"
        },
        {
         "lat": [
          35.362799,
          36.1396246
         ],
         "line": {
          "color": "rgba(65, 61, 131, 0.8)",
          "width": 2
         },
         "lon": [
          138.730781,
          137.2510322
         ],
         "mode": "lines",
         "opacity": 0.8,
         "showlegend": false,
         "type": "scattergeo"
        },
        {
         "lat": [
          36.1396246,
          36.561627
         ],
         "line": {
          "color": "rgba(63, 69, 135, 0.8)",
          "width": 2
         },
         "lon": [
          137.2510322,
          136.6568822
         ],
         "mode": "lines",
         "opacity": 0.8,
         "showlegend": false,
         "type": "scattergeo"
        },
        {
         "lat": [
          36.561627,
          35.3555075
         ],
         "line": {
          "color": "rgba(61, 74, 137, 0.8)",
          "width": 2
         },
         "lon": [
          136.6568822,
          133.8678525
         ],
         "mode": "lines",
         "opacity": 0.8,
         "showlegend": false,
         "type": "scattergeo"
        },
        {
         "lat": [
          35.3555075,
          34.816667
         ],
         "line": {
          "color": "rgba(60, 77, 137, 0.8)",
          "width": 2
         },
         "lon": [
          133.8678525,
          134.683333
         ],
         "mode": "lines",
         "opacity": 0.8,
         "showlegend": false,
         "type": "scattergeo"
        },
        {
         "lat": [
          34.816667,
          35.0115754
         ],
         "line": {
          "color": "rgba(59, 80, 138, 0.8)",
          "width": 2
         },
         "lon": [
          134.683333,
          135.7681441
         ],
         "mode": "lines",
         "opacity": 0.8,
         "showlegend": false,
         "type": "scattergeo"
        },
        {
         "lat": [
          35.0115754,
          34.6937569
         ],
         "line": {
          "color": "rgba(55, 88, 139, 0.8)",
          "width": 2
         },
         "lon": [
          135.7681441,
          135.5014539
         ],
         "mode": "lines",
         "opacity": 0.8,
         "showlegend": false,
         "type": "scattergeo"
        },
        {
         "lat": [
          34.6937569,
          34.8581334
         ],
         "line": {
          "color": "rgba(51, 98, 141, 0.8)",
          "width": 2
         },
         "lon": [
          135.5014539,
          133.7759256
         ],
         "mode": "lines",
         "opacity": 0.8,
         "showlegend": false,
         "type": "scattergeo"
        },
        {
         "lat": [
          34.8581334,
          34.4088519
         ],
         "line": {
          "color": "rgba(50, 102, 142, 0.8)",
          "width": 2
         },
         "lon": [
          133.7759256,
          133.2051549
         ],
         "mode": "lines",
         "opacity": 0.8,
         "showlegend": false,
         "type": "scattergeo"
        },
        {
         "lat": [
          34.4088519,
          34.3917241
         ],
         "line": {
          "color": "rgba(49, 104, 142, 0.8)",
          "width": 2
         },
         "lon": [
          133.2051549,
          132.4517589
         ],
         "mode": "lines",
         "opacity": 0.8,
         "showlegend": false,
         "type": "scattergeo"
        },
        {
         "lat": [
          34.3917241,
          33.6251241
         ],
         "line": {
          "color": "rgba(47, 108, 142, 0.8)",
          "width": 2
         },
         "lon": [
          132.4517589,
          130.6180016
         ],
         "mode": "lines",
         "opacity": 0.8,
         "showlegend": false,
         "type": "scattergeo"
        },
        {
         "lat": [
          33.6251241,
          33.4503405
         ],
         "line": {
          "color": "rgba(45, 113, 142, 0.8)",
          "width": 2
         },
         "lon": [
          130.6180016,
          129.9679345
         ],
         "mode": "lines",
         "opacity": 0.8,
         "showlegend": false,
         "type": "scattergeo"
        },
        {
         "lat": [
          33.4503405,
          33.1154683
         ],
         "line": {
          "color": "rgba(43, 117, 142, 0.8)",
          "width": 2
         },
         "lon": [
          129.9679345,
          129.7874339
         ],
         "mode": "lines",
         "opacity": 0.8,
         "showlegend": false,
         "type": "scattergeo"
        },
        {
         "lat": [
          33.1154683,
          32.6450475
         ],
         "line": {
          "color": "rgba(42, 121, 142, 0.8)",
          "width": 2
         },
         "lon": [
          129.7874339,
          130.6341345
         ],
         "mode": "lines",
         "opacity": 0.8,
         "showlegend": false,
         "type": "scattergeo"
        },
        {
         "lat": [
          32.6450475,
          33.0777131
         ],
         "line": {
          "color": "rgba(40, 125, 142, 0.8)",
          "width": 2
         },
         "lon": [
          130.6341345,
          131.1419381
         ],
         "mode": "lines",
         "opacity": 0.8,
         "showlegend": false,
         "type": "scattergeo"
        },
        {
         "lat": [
          33.0777131,
          33.2845752
         ],
         "line": {
          "color": "rgba(39, 127, 142, 0.8)",
          "width": 2
         },
         "lon": [
          131.1419381,
          131.4913063
         ],
         "mode": "lines",
         "opacity": 0.8,
         "showlegend": false,
         "type": "scattergeo"
        },
        {
         "lat": [
          33.2845752,
          32.6450475
         ],
         "line": {
          "color": "rgba(38, 131, 141, 0.8)",
          "width": 2
         },
         "lon": [
          131.4913063,
          130.6341345
         ],
         "mode": "lines",
         "opacity": 0.8,
         "showlegend": false,
         "type": "scattergeo"
        },
        {
         "lat": [
          32.6450475,
          31.521587
         ],
         "line": {
          "color": "rgba(36, 136, 141, 0.8)",
          "width": 2
         },
         "lon": [
          130.6341345,
          130.5474077
         ],
         "mode": "lines",
         "opacity": 0.8,
         "showlegend": false,
         "type": "scattergeo"
        },
        {
         "lat": [
          31.521587,
          31.2527953
         ],
         "line": {
          "color": "rgba(35, 140, 140, 0.8)",
          "width": 2
         },
         "lon": [
          130.5474077,
          130.6333097
         ],
         "mode": "lines",
         "opacity": 0.8,
         "showlegend": false,
         "type": "scattergeo"
        },
        {
         "lat": [
          31.2527953,
          37.5666791
         ],
         "line": {
          "color": "rgba(34, 146, 139, 0.8)",
          "width": 2
         },
         "lon": [
          130.6333097,
          126.9782914
         ],
         "mode": "lines",
         "opacity": 0.8,
         "showlegend": false,
         "type": "scattergeo"
        },
        {
         "lat": [
          37.5666791,
          35.8556705
         ],
         "line": {
          "color": "rgba(34, 156, 136, 0.8)",
          "width": 2
         },
         "lon": [
          126.9782914,
          129.2248811
         ],
         "mode": "lines",
         "opacity": 0.8,
         "showlegend": false,
         "type": "scattergeo"
        },
        {
         "lat": [
          35.8556705,
          35.5391697
         ],
         "line": {
          "color": "rgba(37, 165, 132, 0.8)",
          "width": 2
         },
         "lon": [
          129.2248811,
          129.3119136
         ],
         "mode": "lines",
         "opacity": 0.8,
         "showlegend": false,
         "type": "scattergeo"
        },
        {
         "lat": [
          35.5391697,
          35.1799528
         ],
         "line": {
          "color": "rgba(39, 167, 131, 0.8)",
          "width": 2
         },
         "lon": [
          129.3119136,
          129.0752365
         ],
         "mode": "lines",
         "opacity": 0.8,
         "showlegend": false,
         "type": "scattergeo"
        },
        {
         "lat": [
          35.1799528,
          33.3803475
         ],
         "line": {
          "color": "rgba(41, 170, 129, 0.8)",
          "width": 2
         },
         "lon": [
          129.0752365,
          126.5482545
         ],
         "mode": "lines",
         "opacity": 0.8,
         "showlegend": false,
         "type": "scattergeo"
        },
        {
         "lat": [
          33.3803475,
          25.0375198
         ],
         "line": {
          "color": "rgba(46, 174, 126, 0.8)",
          "width": 2
         },
         "lon": [
          126.5482545,
          121.5636796
         ],
         "mode": "lines",
         "opacity": 0.8,
         "showlegend": false,
         "type": "scattergeo"
        },
        {
         "lat": [
          25.0375198,
          25.1116561
         ],
         "line": {
          "color": "rgba(53, 181, 121, 0.8)",
          "width": 2
         },
         "lon": [
          121.5636796,
          121.845069
         ],
         "mode": "lines",
         "opacity": 0.8,
         "showlegend": false,
         "type": "scattergeo"
        },
        {
         "lat": [
          25.1116561,
          25.1317232
         ],
         "line": {
          "color": "rgba(61, 186, 116, 0.8)",
          "width": 2
         },
         "lon": [
          121.845069,
          121.744652
         ],
         "mode": "lines",
         "opacity": 0.8,
         "showlegend": false,
         "type": "scattergeo"
        },
        {
         "lat": [
          25.1317232,
          24.163162
         ],
         "line": {
          "color": "rgba(69, 189, 111, 0.8)",
          "width": 2
         },
         "lon": [
          121.744652,
          120.6478282
         ],
         "mode": "lines",
         "opacity": 0.8,
         "showlegend": false,
         "type": "scattergeo"
        },
        {
         "lat": [
          24.163162,
          23.8523282
         ],
         "line": {
          "color": "rgba(79, 193, 106, 0.8)",
          "width": 2
         },
         "lon": [
          120.6478282,
          120.928607
         ],
         "mode": "lines",
         "opacity": 0.8,
         "showlegend": false,
         "type": "scattergeo"
        },
        {
         "lat": [
          23.8523282,
          23.4591664
         ],
         "line": {
          "color": "rgba(88, 197, 100, 0.8)",
          "width": 2
         },
         "lon": [
          120.928607,
          120.2930004
         ],
         "mode": "lines",
         "opacity": 0.8,
         "showlegend": false,
         "type": "scattergeo"
        },
        {
         "lat": [
          23.4591664,
          22.9912348
         ],
         "line": {
          "color": "rgba(102, 202, 92, 0.8)",
          "width": 2
         },
         "lon": [
          120.2930004,
          120.184982
         ],
         "mode": "lines",
         "opacity": 0.8,
         "showlegend": false,
         "type": "scattergeo"
        },
        {
         "lat": [
          22.9912348,
          13.7524938
         ],
         "line": {
          "color": "rgba(117, 207, 83, 0.8)",
          "width": 2
         },
         "lon": [
          120.184982,
          100.4935089
         ],
         "mode": "lines",
         "opacity": 0.8,
         "showlegend": false,
         "type": "scattergeo"
        },
        {
         "lat": [
          13.7524938,
          19.3581061
         ],
         "line": {
          "color": "rgba(135, 211, 71, 0.8)",
          "width": 2
         },
         "lon": [
          100.4935089,
          98.4405794
         ],
         "mode": "lines",
         "opacity": 0.8,
         "showlegend": false,
         "type": "scattergeo"
        },
        {
         "lat": [
          19.3581061,
          18.7882778
         ],
         "line": {
          "color": "rgba(150, 215, 62, 0.8)",
          "width": 2
         },
         "lon": [
          98.4405794,
          98.9858802
         ],
         "mode": "lines",
         "opacity": 0.8,
         "showlegend": false,
         "type": "scattergeo"
        },
        {
         "lat": [
          18.7882778,
          19.8887438
         ],
         "line": {
          "color": "rgba(164, 218, 53, 0.8)",
          "width": 2
         },
         "lon": [
          98.9858802,
          102.135898
         ],
         "mode": "lines",
         "opacity": 0.8,
         "showlegend": false,
         "type": "scattergeo"
        },
        {
         "lat": [
          19.8887438,
          18.9538961
         ],
         "line": {
          "color": "rgba(176, 220, 46, 0.8)",
          "width": 2
         },
         "lon": [
          102.135898,
          102.4563909
         ],
         "mode": "lines",
         "opacity": 0.8,
         "showlegend": false,
         "type": "scattergeo"
        },
        {
         "lat": [
          18.9538961,
          17.9640988
         ],
         "line": {
          "color": "rgba(181, 221, 44, 0.8)",
          "width": 2
         },
         "lon": [
          102.4563909,
          102.6133707
         ],
         "mode": "lines",
         "opacity": 0.8,
         "showlegend": false,
         "type": "scattergeo"
        },
        {
         "lat": [
          17.9640988,
          18.9538961
         ],
         "line": {
          "color": "rgba(193, 223, 42, 0.8)",
          "width": 2
         },
         "lon": [
          102.6133707,
          102.4563909
         ],
         "mode": "lines",
         "opacity": 0.8,
         "showlegend": false,
         "type": "scattergeo"
        },
        {
         "lat": [
          18.9538961,
          17.39747
         ],
         "line": {
          "color": "rgba(217, 226, 40, 0.8)",
          "width": 2
         },
         "lon": [
          102.4563909,
          104.825301
         ],
         "mode": "lines",
         "opacity": 0.8,
         "showlegend": false,
         "type": "scattergeo"
        },
        {
         "lat": [
          17.39747,
          13.7524938
         ],
         "line": {
          "color": "rgba(242, 229, 38, 0.8)",
          "width": 2
         },
         "lon": [
          104.825301,
          100.4935089
         ],
         "mode": "lines",
         "opacity": 0.8,
         "showlegend": false,
         "type": "scattergeo"
        }
       ],
       "layout": {
        "geo": {
         "countrycolor": "rgb(204, 204, 204)",
         "landcolor": "rgb(243, 243, 243)",
         "projection": {
          "type": "natural earth"
         },
         "resolution": 50,
         "showcountries": true,
         "showland": true
        },
        "margin": {
         "b": 0,
         "l": 0,
         "r": 0,
         "t": 40
        },
        "template": {
         "data": {
          "bar": [
           {
            "error_x": {
             "color": "#2a3f5f"
            },
            "error_y": {
             "color": "#2a3f5f"
            },
            "marker": {
             "line": {
              "color": "#E5ECF6",
              "width": 0.5
             },
             "pattern": {
              "fillmode": "overlay",
              "size": 10,
              "solidity": 0.2
             }
            },
            "type": "bar"
           }
          ],
          "barpolar": [
           {
            "marker": {
             "line": {
              "color": "#E5ECF6",
              "width": 0.5
             },
             "pattern": {
              "fillmode": "overlay",
              "size": 10,
              "solidity": 0.2
             }
            },
            "type": "barpolar"
           }
          ],
          "carpet": [
           {
            "aaxis": {
             "endlinecolor": "#2a3f5f",
             "gridcolor": "white",
             "linecolor": "white",
             "minorgridcolor": "white",
             "startlinecolor": "#2a3f5f"
            },
            "baxis": {
             "endlinecolor": "#2a3f5f",
             "gridcolor": "white",
             "linecolor": "white",
             "minorgridcolor": "white",
             "startlinecolor": "#2a3f5f"
            },
            "type": "carpet"
           }
          ],
          "choropleth": [
           {
            "colorbar": {
             "outlinewidth": 0,
             "ticks": ""
            },
            "type": "choropleth"
           }
          ],
          "contour": [
           {
            "colorbar": {
             "outlinewidth": 0,
             "ticks": ""
            },
            "colorscale": [
             [
              0,
              "#0d0887"
             ],
             [
              0.1111111111111111,
              "#46039f"
             ],
             [
              0.2222222222222222,
              "#7201a8"
             ],
             [
              0.3333333333333333,
              "#9c179e"
             ],
             [
              0.4444444444444444,
              "#bd3786"
             ],
             [
              0.5555555555555556,
              "#d8576b"
             ],
             [
              0.6666666666666666,
              "#ed7953"
             ],
             [
              0.7777777777777778,
              "#fb9f3a"
             ],
             [
              0.8888888888888888,
              "#fdca26"
             ],
             [
              1,
              "#f0f921"
             ]
            ],
            "type": "contour"
           }
          ],
          "contourcarpet": [
           {
            "colorbar": {
             "outlinewidth": 0,
             "ticks": ""
            },
            "type": "contourcarpet"
           }
          ],
          "heatmap": [
           {
            "colorbar": {
             "outlinewidth": 0,
             "ticks": ""
            },
            "colorscale": [
             [
              0,
              "#0d0887"
             ],
             [
              0.1111111111111111,
              "#46039f"
             ],
             [
              0.2222222222222222,
              "#7201a8"
             ],
             [
              0.3333333333333333,
              "#9c179e"
             ],
             [
              0.4444444444444444,
              "#bd3786"
             ],
             [
              0.5555555555555556,
              "#d8576b"
             ],
             [
              0.6666666666666666,
              "#ed7953"
             ],
             [
              0.7777777777777778,
              "#fb9f3a"
             ],
             [
              0.8888888888888888,
              "#fdca26"
             ],
             [
              1,
              "#f0f921"
             ]
            ],
            "type": "heatmap"
           }
          ],
          "histogram": [
           {
            "marker": {
             "pattern": {
              "fillmode": "overlay",
              "size": 10,
              "solidity": 0.2
             }
            },
            "type": "histogram"
           }
          ],
          "histogram2d": [
           {
            "colorbar": {
             "outlinewidth": 0,
             "ticks": ""
            },
            "colorscale": [
             [
              0,
              "#0d0887"
             ],
             [
              0.1111111111111111,
              "#46039f"
             ],
             [
              0.2222222222222222,
              "#7201a8"
             ],
             [
              0.3333333333333333,
              "#9c179e"
             ],
             [
              0.4444444444444444,
              "#bd3786"
             ],
             [
              0.5555555555555556,
              "#d8576b"
             ],
             [
              0.6666666666666666,
              "#ed7953"
             ],
             [
              0.7777777777777778,
              "#fb9f3a"
             ],
             [
              0.8888888888888888,
              "#fdca26"
             ],
             [
              1,
              "#f0f921"
             ]
            ],
            "type": "histogram2d"
           }
          ],
          "histogram2dcontour": [
           {
            "colorbar": {
             "outlinewidth": 0,
             "ticks": ""
            },
            "colorscale": [
             [
              0,
              "#0d0887"
             ],
             [
              0.1111111111111111,
              "#46039f"
             ],
             [
              0.2222222222222222,
              "#7201a8"
             ],
             [
              0.3333333333333333,
              "#9c179e"
             ],
             [
              0.4444444444444444,
              "#bd3786"
             ],
             [
              0.5555555555555556,
              "#d8576b"
             ],
             [
              0.6666666666666666,
              "#ed7953"
             ],
             [
              0.7777777777777778,
              "#fb9f3a"
             ],
             [
              0.8888888888888888,
              "#fdca26"
             ],
             [
              1,
              "#f0f921"
             ]
            ],
            "type": "histogram2dcontour"
           }
          ],
          "mesh3d": [
           {
            "colorbar": {
             "outlinewidth": 0,
             "ticks": ""
            },
            "type": "mesh3d"
           }
          ],
          "parcoords": [
           {
            "line": {
             "colorbar": {
              "outlinewidth": 0,
              "ticks": ""
             }
            },
            "type": "parcoords"
           }
          ],
          "pie": [
           {
            "automargin": true,
            "type": "pie"
           }
          ],
          "scatter": [
           {
            "fillpattern": {
             "fillmode": "overlay",
             "size": 10,
             "solidity": 0.2
            },
            "type": "scatter"
           }
          ],
          "scatter3d": [
           {
            "line": {
             "colorbar": {
              "outlinewidth": 0,
              "ticks": ""
             }
            },
            "marker": {
             "colorbar": {
              "outlinewidth": 0,
              "ticks": ""
             }
            },
            "type": "scatter3d"
           }
          ],
          "scattercarpet": [
           {
            "marker": {
             "colorbar": {
              "outlinewidth": 0,
              "ticks": ""
             }
            },
            "type": "scattercarpet"
           }
          ],
          "scattergeo": [
           {
            "marker": {
             "colorbar": {
              "outlinewidth": 0,
              "ticks": ""
             }
            },
            "type": "scattergeo"
           }
          ],
          "scattergl": [
           {
            "marker": {
             "colorbar": {
              "outlinewidth": 0,
              "ticks": ""
             }
            },
            "type": "scattergl"
           }
          ],
          "scattermap": [
           {
            "marker": {
             "colorbar": {
              "outlinewidth": 0,
              "ticks": ""
             }
            },
            "type": "scattermap"
           }
          ],
          "scattermapbox": [
           {
            "marker": {
             "colorbar": {
              "outlinewidth": 0,
              "ticks": ""
             }
            },
            "type": "scattermapbox"
           }
          ],
          "scatterpolar": [
           {
            "marker": {
             "colorbar": {
              "outlinewidth": 0,
              "ticks": ""
             }
            },
            "type": "scatterpolar"
           }
          ],
          "scatterpolargl": [
           {
            "marker": {
             "colorbar": {
              "outlinewidth": 0,
              "ticks": ""
             }
            },
            "type": "scatterpolargl"
           }
          ],
          "scatterternary": [
           {
            "marker": {
             "colorbar": {
              "outlinewidth": 0,
              "ticks": ""
             }
            },
            "type": "scatterternary"
           }
          ],
          "surface": [
           {
            "colorbar": {
             "outlinewidth": 0,
             "ticks": ""
            },
            "colorscale": [
             [
              0,
              "#0d0887"
             ],
             [
              0.1111111111111111,
              "#46039f"
             ],
             [
              0.2222222222222222,
              "#7201a8"
             ],
             [
              0.3333333333333333,
              "#9c179e"
             ],
             [
              0.4444444444444444,
              "#bd3786"
             ],
             [
              0.5555555555555556,
              "#d8576b"
             ],
             [
              0.6666666666666666,
              "#ed7953"
             ],
             [
              0.7777777777777778,
              "#fb9f3a"
             ],
             [
              0.8888888888888888,
              "#fdca26"
             ],
             [
              1,
              "#f0f921"
             ]
            ],
            "type": "surface"
           }
          ],
          "table": [
           {
            "cells": {
             "fill": {
              "color": "#EBF0F8"
             },
             "line": {
              "color": "white"
             }
            },
            "header": {
             "fill": {
              "color": "#C8D4E3"
             },
             "line": {
              "color": "white"
             }
            },
            "type": "table"
           }
          ]
         },
         "layout": {
          "annotationdefaults": {
           "arrowcolor": "#2a3f5f",
           "arrowhead": 0,
           "arrowwidth": 1
          },
          "autotypenumbers": "strict",
          "coloraxis": {
           "colorbar": {
            "outlinewidth": 0,
            "ticks": ""
           }
          },
          "colorscale": {
           "diverging": [
            [
             0,
             "#8e0152"
            ],
            [
             0.1,
             "#c51b7d"
            ],
            [
             0.2,
             "#de77ae"
            ],
            [
             0.3,
             "#f1b6da"
            ],
            [
             0.4,
             "#fde0ef"
            ],
            [
             0.5,
             "#f7f7f7"
            ],
            [
             0.6,
             "#e6f5d0"
            ],
            [
             0.7,
             "#b8e186"
            ],
            [
             0.8,
             "#7fbc41"
            ],
            [
             0.9,
             "#4d9221"
            ],
            [
             1,
             "#276419"
            ]
           ],
           "sequential": [
            [
             0,
             "#0d0887"
            ],
            [
             0.1111111111111111,
             "#46039f"
            ],
            [
             0.2222222222222222,
             "#7201a8"
            ],
            [
             0.3333333333333333,
             "#9c179e"
            ],
            [
             0.4444444444444444,
             "#bd3786"
            ],
            [
             0.5555555555555556,
             "#d8576b"
            ],
            [
             0.6666666666666666,
             "#ed7953"
            ],
            [
             0.7777777777777778,
             "#fb9f3a"
            ],
            [
             0.8888888888888888,
             "#fdca26"
            ],
            [
             1,
             "#f0f921"
            ]
           ],
           "sequentialminus": [
            [
             0,
             "#0d0887"
            ],
            [
             0.1111111111111111,
             "#46039f"
            ],
            [
             0.2222222222222222,
             "#7201a8"
            ],
            [
             0.3333333333333333,
             "#9c179e"
            ],
            [
             0.4444444444444444,
             "#bd3786"
            ],
            [
             0.5555555555555556,
             "#d8576b"
            ],
            [
             0.6666666666666666,
             "#ed7953"
            ],
            [
             0.7777777777777778,
             "#fb9f3a"
            ],
            [
             0.8888888888888888,
             "#fdca26"
            ],
            [
             1,
             "#f0f921"
            ]
           ]
          },
          "colorway": [
           "#636efa",
           "#EF553B",
           "#00cc96",
           "#ab63fa",
           "#FFA15A",
           "#19d3f3",
           "#FF6692",
           "#B6E880",
           "#FF97FF",
           "#FECB52"
          ],
          "font": {
           "color": "#2a3f5f"
          },
          "geo": {
           "bgcolor": "white",
           "lakecolor": "white",
           "landcolor": "#E5ECF6",
           "showlakes": true,
           "showland": true,
           "subunitcolor": "white"
          },
          "hoverlabel": {
           "align": "left"
          },
          "hovermode": "closest",
          "mapbox": {
           "style": "light"
          },
          "paper_bgcolor": "white",
          "plot_bgcolor": "#E5ECF6",
          "polar": {
           "angularaxis": {
            "gridcolor": "white",
            "linecolor": "white",
            "ticks": ""
           },
           "bgcolor": "#E5ECF6",
           "radialaxis": {
            "gridcolor": "white",
            "linecolor": "white",
            "ticks": ""
           }
          },
          "scene": {
           "xaxis": {
            "backgroundcolor": "#E5ECF6",
            "gridcolor": "white",
            "gridwidth": 2,
            "linecolor": "white",
            "showbackground": true,
            "ticks": "",
            "zerolinecolor": "white"
           },
           "yaxis": {
            "backgroundcolor": "#E5ECF6",
            "gridcolor": "white",
            "gridwidth": 2,
            "linecolor": "white",
            "showbackground": true,
            "ticks": "",
            "zerolinecolor": "white"
           },
           "zaxis": {
            "backgroundcolor": "#E5ECF6",
            "gridcolor": "white",
            "gridwidth": 2,
            "linecolor": "white",
            "showbackground": true,
            "ticks": "",
            "zerolinecolor": "white"
           }
          },
          "shapedefaults": {
           "line": {
            "color": "#2a3f5f"
           }
          },
          "ternary": {
           "aaxis": {
            "gridcolor": "white",
            "linecolor": "white",
            "ticks": ""
           },
           "baxis": {
            "gridcolor": "white",
            "linecolor": "white",
            "ticks": ""
           },
           "bgcolor": "#E5ECF6",
           "caxis": {
            "gridcolor": "white",
            "linecolor": "white",
            "ticks": ""
           }
          },
          "title": {
           "x": 0.05
          },
          "xaxis": {
           "automargin": true,
           "gridcolor": "white",
           "linecolor": "white",
           "ticks": "",
           "title": {
            "standoff": 15
           },
           "zerolinecolor": "white",
           "zerolinewidth": 2
          },
          "yaxis": {
           "automargin": true,
           "gridcolor": "white",
           "linecolor": "white",
           "ticks": "",
           "title": {
            "standoff": 15
           },
           "zerolinecolor": "white",
           "zerolinewidth": 2
          }
         }
        },
        "title": {
         "text": "Travel Map"
        }
       }
      },
      "image/png": "[encoded data removed]"
     },
     "metadata": {},
     "output_type": "display_data"
    }
   ],
   "source": [
    "fig = plot_travel_map(df_geo, auto_center=False, line_opacity=0.8)\n",
    "fig.show()\n"
   ]
  },
  {
   "cell_type": "code",
   "execution_count": null,
   "id": "e5f2eacc4fc4501a",
   "metadata": {},
   "outputs": [],
   "source": []
  }
 ],
 "metadata": {
  "kernelspec": {
   "display_name": "Python 3 (ipykernel)",
   "language": "python",
   "name": "python3"
  },
  "language_info": {
   "codemirror_mode": {
    "name": "ipython",
    "version": 3
   },
   "file_extension": ".py",
   "mimetype": "text/x-python",
   "name": "python",
   "nbconvert_exporter": "python",
   "pygments_lexer": "ipython3",
   "version": "3.13.3"
  }
 },
 "nbformat": 4,
 "nbformat_minor": 5
}
