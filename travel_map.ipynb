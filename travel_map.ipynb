{
 "cells": [
  {
   "cell_type": "code",
   "execution_count": 21,
   "id": "a0406453c038aafe",
   "metadata": {
    "ExecuteTime": {
     "end_time": "2025-07-12T12:28:05.924984Z",
     "start_time": "2025-07-12T12:28:05.911333Z"
    }
   },
   "outputs": [],
   "source": [
    "import marko\n",
    "from marko.block import Heading\n",
    "\n"
   ]
  },
  {
   "cell_type": "code",
   "execution_count": 22,
   "id": "initial_id",
   "metadata": {
    "ExecuteTime": {
     "end_time": "2025-07-12T12:28:06.940428Z",
     "start_time": "2025-07-12T12:28:06.119482Z"
    }
   },
   "outputs": [],
   "source": [
    "from datetime import datetime\n",
    "from typing import Union, List\n",
    "from pathlib import Path\n",
    "\n",
    "import marko\n",
    "from marko.block import Heading\n",
    "from marko.inline import RawText\n",
    "import pandas as pd\n",
    "\n",
    "def extract_headings_only(input_path: str, output_path: str) -> None:\n",
    "    \"\"\"\n",
    "    Extracts only headings from a Markdown file and writes them to another file.\n",
    "    \"\"\"\n",
    "    # Read the Markdown content\n",
    "    input_text = Path(input_path).read_text(encoding='utf-8')\n",
    "\n",
    "    # Parse the Markdown into an AST\n",
    "    markdown_ast = marko.parse(input_text)\n",
    "\n",
    "    # Collect formatted headings\n",
    "    headings = []\n",
    "    for node in markdown_ast.children:\n",
    "        if isinstance(node, Heading):\n",
    "            # Extract plain text content of heading\n",
    "            heading_text = ''.join(child.children if hasattr(child, 'children') else child\n",
    "                                   for child in node.children)\n",
    "            headings.append(f\"{'#' * node.level} {heading_text.strip()}\")\n",
    "\n",
    "    # Write output\n",
    "    Path(output_path).write_text('\\n\\n'.join(headings), encoding='utf-8')\n",
    "    print(f\"Headings written to: {output_path}\")\n",
    "\n",
    "def extract_text(node) -> str:\n",
    "    \"\"\"\n",
    "    Recursively extracts plain text from a marko node (including inline formatting).\n",
    "    \"\"\"\n",
    "    if isinstance(node, RawText):\n",
    "        return node.children\n",
    "    if hasattr(node, 'children'):\n",
    "        return ''.join(extract_text(child) for child in node.children)\n",
    "    return ''\n",
    "\n",
    "def parse_markdown(filepath: str, skip_first_heading: bool = False, column_map: dict = None) -> pd.DataFrame:\n",
    "    \"\"\"\n",
    "    Parses a Markdown travel log file using marko to extract travel durations grouped by country and city.\n",
    "    Splits visits to the same location into multiple entries if they appear non-consecutively.\n",
    "\n",
    "    Parameters:\n",
    "        filepath (str): Path to the .md file.\n",
    "        skip_first_heading (bool): Whether to skip the first heading (e.g., title or introduction).\n",
    "        column_map (dict): Optional mapping of output column names, e.g., {'country': 'Country', 'city': 'City', ...}\n",
    "\n",
    "    Returns:\n",
    "        pd.DataFrame: A DataFrame with columns [Country, City, Start, End, Duration] by default.\n",
    "    \"\"\"\n",
    "    with open(filepath, encoding=\"utf-8\") as f:\n",
    "        content = f.read()\n",
    "\n",
    "    ast = marko.parse(content)\n",
    "\n",
    "    country = city = None\n",
    "    date_entries = []\n",
    "    heading_count = 0\n",
    "\n",
    "    for node in ast.children:\n",
    "        if not isinstance(node, Heading):\n",
    "            continue\n",
    "\n",
    "        heading_count += 1\n",
    "        if skip_first_heading and heading_count == 1:\n",
    "            continue\n",
    "\n",
    "        level = node.level\n",
    "        text = extract_text(node).strip()\n",
    "\n",
    "        if level == 1:\n",
    "            country = text\n",
    "            city = None  # reset city\n",
    "        elif level == 2:\n",
    "            city = text\n",
    "        elif level == 3:\n",
    "            parts = text.split(\", \")\n",
    "            if len(parts) == 2:\n",
    "                try:\n",
    "                    date = datetime.strptime(parts[1], \"%d.%m.%Y\").date()\n",
    "                    effective_city = city if city else country\n",
    "                    date_entries.append({\n",
    "                        \"country\": country,\n",
    "                        \"city\": effective_city,\n",
    "                        \"date\": date\n",
    "                    })\n",
    "                except ValueError:\n",
    "                    continue  # malformed date\n",
    "\n",
    "    # Sentry date entry\n",
    "\n",
    "    # Sort by date to ensure order\n",
    "    date_entries.sort(key=lambda x: x[\"date\"])\n",
    "\n",
    "    # Track city/country transitions\n",
    "    visits = []\n",
    "    if not date_entries:\n",
    "        return pd.DataFrame(columns=column_map.values() if column_map else [])\n",
    "\n",
    "    prev = date_entries[0]\n",
    "    start_date = end_date = prev[\"date\"]\n",
    "\n",
    "    for i in range(1, len(date_entries)):\n",
    "        entry = date_entries[i]\n",
    "        is_last = i == len(date_entries) - 1\n",
    "\n",
    "        if entry[\"country\"] == prev[\"country\"] and entry[\"city\"] == prev[\"city\"] and not is_last:\n",
    "            end_date = entry[\"date\"]  # extend visit\n",
    "        else:\n",
    "            visits.append({\n",
    "                \"country\": prev[\"country\"],\n",
    "                \"city\": prev[\"city\"],\n",
    "                \"start\": start_date,\n",
    "                \"end\": end_date,\n",
    "                \"duration\": (end_date - start_date).days + 1\n",
    "            })\n",
    "            prev = entry\n",
    "            start_date = end_date = entry[\"date\"]\n",
    "\n",
    "    # Default column mapping\n",
    "    default_columns = {\n",
    "        \"country\": \"Country\",\n",
    "        \"city\": \"City\",\n",
    "        \"start\": \"Start\",\n",
    "        \"end\": \"End\",\n",
    "        \"duration\": \"Duration\"\n",
    "    }\n",
    "\n",
    "    if column_map:\n",
    "        columns = column_map\n",
    "    else:\n",
    "        columns = default_columns\n",
    "\n",
    "    # Build DataFrame using column map\n",
    "    df = pd.DataFrame([\n",
    "        {\n",
    "            columns[\"country\"]: visit[\"country\"],\n",
    "            columns[\"city\"]: visit[\"city\"],\n",
    "            columns[\"start\"]: visit[\"start\"],\n",
    "            columns[\"end\"]: visit[\"end\"],\n",
    "            columns[\"duration\"]: visit[\"duration\"]\n",
    "        }\n",
    "        for visit in visits\n",
    "    ])\n",
    "\n",
    "    return df\n",
    "\n",
    "def summarize_travel(df: pd.DataFrame, column_map: dict = None, show_total: bool = True) -> pd.DataFrame:\n",
    "    \"\"\"\n",
    "    Summarizes travel statistics per country:\n",
    "    - Total duration (sum of days)\n",
    "    - Number of unique cities visited\n",
    "    - First date of entry\n",
    "    - Last date of exit\n",
    "    - (Optional) Total row with overall stats\n",
    "\n",
    "    Parameters:\n",
    "        df (pd.DataFrame): The travel DataFrame returned by parse_markdown.\n",
    "        column_map (dict): Optional mapping of DataFrame column names.\n",
    "        show_total (bool): Whether to include a final row with totals.\n",
    "\n",
    "    Returns:\n",
    "        pd.DataFrame: Summary table with optional total row.\n",
    "    \"\"\"\n",
    "    default_columns = {\n",
    "        \"country\": \"Country\",\n",
    "        \"city\": \"City\",\n",
    "        \"duration\": \"Duration\",\n",
    "        \"start\": \"Start\",\n",
    "        \"end\": \"End\"\n",
    "    }\n",
    "\n",
    "    columns = column_map if column_map else default_columns\n",
    "\n",
    "    summary = df.groupby(columns[\"country\"]).agg(\n",
    "        Total_Days=(columns[\"duration\"], \"sum\"),\n",
    "        Cities_Visited=(columns[\"city\"], pd.Series.nunique),\n",
    "        Entry_Date=(columns[\"start\"], \"min\"),\n",
    "        Exit_Date=(columns[\"end\"], \"max\")\n",
    "    ).reset_index()\n",
    "\n",
    "    # Sort by Entry_Date\n",
    "    summary = summary.sort_values(by=\"Entry_Date\").reset_index(drop=True)\n",
    "\n",
    "    if show_total:\n",
    "        total_row = {\n",
    "            columns[\"country\"]: \"TOTAL\",\n",
    "            \"Total_Days\": summary[\"Total_Days\"].sum(),\n",
    "            \"Cities_Visited\": summary[\"Cities_Visited\"].sum(),\n",
    "            \"Entry_Date\": summary[\"Entry_Date\"].min(),\n",
    "            \"Exit_Date\": summary[\"Exit_Date\"].max()\n",
    "        }\n",
    "        summary = pd.concat([summary, pd.DataFrame([total_row])], ignore_index=True)\n",
    "\n",
    "    return summary\n",
    "\n",
    "from geopy.geocoders import Nominatim\n",
    "from geopy.exc import GeocoderUnavailable, GeocoderTimedOut\n",
    "import time\n",
    "\n",
    "def map_cities_to_coords(df: pd.DataFrame, city_col=\"City\", country_col=\"Country\", user_agent=\"city-geocoder\", api_wait_time=0.1) -> pd.DataFrame:\n",
    "    \"\"\"\n",
    "    Adds 'Latitude' and 'Longitude' columns to the DataFrame by geocoding city and country.\n",
    "    If a city cannot be geocoded, sets both to None.\n",
    "\n",
    "    Parameters:\n",
    "        df (pd.DataFrame): Input DataFrame with city and country columns.\n",
    "        city_col (str): Name of the column containing city names.\n",
    "        country_col (str): Name of the column containing country names.\n",
    "        user_agent (str): Identifier for the Nominatim geocoder.\n",
    "\n",
    "    Returns:\n",
    "        pd.DataFrame: DataFrame with additional 'Latitude' and 'Longitude' columns.\n",
    "        :param api_wait_time:\n",
    "    \"\"\"\n",
    "    geolocator = Nominatim(user_agent=user_agent)\n",
    "    latitudes, longitudes = [], []\n",
    "\n",
    "    for _, row in df.iterrows():\n",
    "        location_str = f\"{row[city_col]}, {row[country_col]}\"\n",
    "        try:\n",
    "            location = geolocator.geocode(location_str, timeout=10)\n",
    "            if location:\n",
    "                latitudes.append(location.latitude)\n",
    "                longitudes.append(location.longitude)\n",
    "            else:\n",
    "                latitudes.append(None)\n",
    "                longitudes.append(None)\n",
    "        except (GeocoderTimedOut, GeocoderUnavailable):\n",
    "            latitudes.append(None)\n",
    "            longitudes.append(None)\n",
    "        time.sleep(api_wait_time)  # Be polite to the API\n",
    "\n",
    "    df[\"Latitude\"] = latitudes\n",
    "    df[\"Longitude\"] = longitudes\n",
    "    return df\n",
    "\n",
    "def get_unmapped_locations(df: pd.DataFrame, lat_col=\"Latitude\", lon_col=\"Longitude\") -> pd.DataFrame:\n",
    "    \"\"\"\n",
    "    Returns a DataFrame of all entries where latitude or longitude is None.\n",
    "\n",
    "    Parameters:\n",
    "        df (pd.DataFrame): The DataFrame with geolocation columns.\n",
    "        lat_col (str): Name of the latitude column.\n",
    "        lon_col (str): Name of the longitude column.\n",
    "\n",
    "    Returns:\n",
    "        pd.DataFrame: Rows where coordinates are missing.\n",
    "    \"\"\"\n",
    "    return df[df[lat_col].isna() | df[lon_col].isna()]\n",
    "\n",
    "from typing import Union, List\n",
    "\n",
    "def set_manual_coordinates_by_index(\n",
    "    df: pd.DataFrame,\n",
    "    updates: Union[List[Union[int, float]], List[List[Union[int, float]]]],\n",
    "    lat_col: str = \"Latitude\",\n",
    "    lon_col: str = \"Longitude\"\n",
    ") -> pd.DataFrame:\n",
    "    \"\"\"\n",
    "    Manually sets latitude and longitude for rows identified by their index.\n",
    "\n",
    "    Parameters:\n",
    "        df (pd.DataFrame): DataFrame to update.\n",
    "        updates (list): Either a single update [index, lat, lon] or a list of such updates.\n",
    "        lat_col (str): Name of the latitude column.\n",
    "        lon_col (str): Name of the longitude column.\n",
    "\n",
    "    Returns:\n",
    "        pd.DataFrame: Updated DataFrame with manual coordinates set.\n",
    "    \"\"\"\n",
    "    if isinstance(updates[0], (int, float)):\n",
    "        updates = [updates]  # single update case\n",
    "\n",
    "    for idx, lat, lon in updates:\n",
    "        if idx in df.index:\n",
    "            df.at[idx, lat_col] = lat\n",
    "            df.at[idx, lon_col] = lon\n",
    "\n",
    "    return df\n",
    "\n",
    "\n",
    "import pandas as pd\n",
    "from typing import Optional\n",
    "\n",
    "def filter_visits(\n",
    "    df: pd.DataFrame,\n",
    "    country: Optional[str] = None,\n",
    "    start_date: Optional[str] = None,\n",
    "    end_date: Optional[str] = None,\n",
    "    column_map: dict = None\n",
    ") -> pd.DataFrame:\n",
    "    \"\"\"\n",
    "    Filters a DataFrame of visit records by country, start date, and/or end date.\n",
    "\n",
    "    Parameters:\n",
    "        df (pd.DataFrame): The original DataFrame.\n",
    "        column_map (dict): mapping for logical column-names; country, city, start, end, duration\n",
    "        country (str, optional): If provided, filters rows where 'country' matches.\n",
    "        start_date (str, optional): If provided, filters rows where 'start' is on or after this date (YYYY-MM-DD).\n",
    "        end_date (str, optional): If provided, filters rows where 'end' is on or before this date (YYYY-MM-DD).\n",
    "\n",
    "    Returns:\n",
    "        pd.DataFrame: A filtered copy of the DataFrame.\n",
    "    \"\"\"\n",
    "    # Copy the DataFrame to avoid modifying the original\n",
    "    df_filtered = df.copy()\n",
    "\n",
    "    # Default column mapping\n",
    "    default_columns = {\n",
    "        \"country\": \"Country\",\n",
    "        \"city\": \"City\",\n",
    "        \"start\": \"Start\",\n",
    "        \"end\": \"End\",\n",
    "        \"duration\": \"Duration\"\n",
    "    }\n",
    "\n",
    "    if column_map:\n",
    "        columns = column_map\n",
    "    else:\n",
    "        columns = default_columns\n",
    "\n",
    "\n",
    "    # Convert date columns to datetime for comparison\n",
    "    df_filtered[columns[\"start\"]] = pd.to_datetime(df_filtered[columns[\"start\"]])\n",
    "    df_filtered[columns[\"end\"]] = pd.to_datetime(df_filtered[columns[\"end\"]])\n",
    "\n",
    "    # Apply filters conditionally\n",
    "    if country:\n",
    "        df_filtered = df_filtered[df_filtered[columns[\"country\"]] == country]\n",
    "\n",
    "    if start_date:\n",
    "        start_date = pd.to_datetime(start_date, dayfirst=True)\n",
    "        df_filtered = df_filtered[df_filtered[columns[\"start\"]] >= start_date]\n",
    "\n",
    "    if end_date:\n",
    "        end_date = pd.to_datetime(end_date, dayfirst=True)\n",
    "        df_filtered = df_filtered[df_filtered[columns[\"end\"]] <= end_date]\n",
    "\n",
    "    return df_filtered"
   ]
  },
  {
   "cell_type": "code",
   "execution_count": 23,
   "id": "8f9b34e819ab961",
   "metadata": {
    "ExecuteTime": {
     "end_time": "2025-07-12T12:28:07.004106Z",
     "start_time": "2025-07-12T12:28:06.957091Z"
    }
   },
   "outputs": [],
   "source": [
    "import plotly.graph_objects as go\n",
    "from plotly.colors import sample_colorscale\n",
    "import pandas as pd\n",
    "import numpy as np\n",
    "from typing import Optional, Dict\n",
    "\n",
    "import plotly.colors as pc\n",
    "\n",
    "def get_rgb_from_scale(value: float, colorscale: str) -> tuple:\n",
    "    \"\"\"\n",
    "    Convert a normalized value (0-1) into an RGB tuple using the given Plotly colorscale.\n",
    "\n",
    "    Parameters:\n",
    "        value (float): Normalized value between 0 and 1.\n",
    "        colorscale (str): Name of the Plotly color scale.\n",
    "\n",
    "    Returns:\n",
    "        tuple: (r, g, b)\n",
    "    \"\"\"\n",
    "    # Ensure value is in [0, 1]\n",
    "    value = max(0, min(1, value))\n",
    "    rgb_string = pc.find_intermediate_color(\n",
    "        pc.get_colorscale(colorscale)[0][1],\n",
    "        pc.get_colorscale(colorscale)[-1][1],\n",
    "        value,\n",
    "        colortype=\"rgb\"\n",
    "    )\n",
    "    return tuple(int(x) for x in rgb_string.strip(\"rgb()\").split(\",\"))\n",
    "\n",
    "\n",
    "def plot_travel_map(\n",
    "    df: pd.DataFrame,\n",
    "    lat_col: str = \"Latitude\",\n",
    "    lon_col: str = \"Longitude\",\n",
    "    city_col: str = \"City\",\n",
    "    duration_col: str = \"Duration\",\n",
    "    date_col: str = \"Start\",\n",
    "    default_marker_size: int = 5,\n",
    "    marker_scale: float = 2.0,\n",
    "    color_scale: str = \"Viridis\",\n",
    "    line_opacity: float = 0.6,\n",
    "    auto_center: bool = False,\n",
    "    plot_kwargs: Optional[Dict] = None\n",
    ") -> go.Figure:\n",
    "    \"\"\"\n",
    "    Plots a world map of visited cities with size based on duration and color based on entry date.\n",
    "\n",
    "    Parameters:\n",
    "        df (pd.DataFrame): DataFrame with geolocation and visit data.\n",
    "        lat_col (str): Name of the latitude column.\n",
    "        lon_col (str): Name of the longitude column.\n",
    "        city_col (str): Name of the city column.\n",
    "        duration_col (str): Name of the duration column.\n",
    "        date_col (str): Name of the entry date column (should be datetime).\n",
    "        default_marker_size (int): Minimum size for markers.\n",
    "        marker_scale (float): Scaling factor for marker size.\n",
    "        color_scale (str): Color scale name for Plotly.\n",
    "        line_opacity (float): Opacity of the lines connecting cities.\n",
    "        auto_center (bool): If True, zoom to the bounding box of the cities.\n",
    "        plot_kwargs (dict): Additional keyword arguments to pass to `go.Figure`.\n",
    "\n",
    "    Returns:\n",
    "        go.Figure: The resulting Plotly figure.\n",
    "    \"\"\"\n",
    "    if plot_kwargs is None:\n",
    "        plot_kwargs = {}\n",
    "\n",
    "    df_sorted = df.sort_values(by=date_col).reset_index(drop=True)\n",
    "\n",
    "    # Normalize date to float for coloring\n",
    "    date_min = df_sorted[date_col].min()\n",
    "    date_max = df_sorted[date_col].max()\n",
    "    date_range = (df_sorted[date_col] - date_min) / (date_max - date_min + pd.Timedelta(days=1e-9))\n",
    "\n",
    "    # Compute marker size and color\n",
    "    sizes = df_sorted[duration_col].fillna(1) * marker_scale + default_marker_size\n",
    "\n",
    "    # Create scatter trace for cities\n",
    "    scatter = go.Scattergeo(\n",
    "        lat=df_sorted[lat_col],\n",
    "        lon=df_sorted[lon_col],\n",
    "        text=[f\"{row[city_col]}<br>{row[date_col].strftime('%d.%m.%Y')} - {(row[date_col]+timedelta(days=row[duration_col])).strftime('%d.%m.%Y')}:  {row[duration_col]} days\" for _, row in df_sorted.iterrows()],\n",
    "        mode=\"markers\",\n",
    "        marker=dict(\n",
    "            size=sizes,\n",
    "            color=date_range,\n",
    "            colorscale=color_scale,\n",
    "            colorbar=dict(title=\"Date\"),\n",
    "            opacity=0.8,\n",
    "            line=dict(width=0.5, color=\"black\")\n",
    "        ),\n",
    "        name=\"Cities\"\n",
    "    )\n",
    "\n",
    "    # Create line segments between cities\n",
    "    lines = []\n",
    "    # Loop through cities and create colored lines\n",
    "    for i in range(len(df_sorted) - 1):\n",
    "        lat0, lon0 = df_sorted.loc[i, [lat_col, lon_col]]\n",
    "        lat1, lon1 = df_sorted.loc[i + 1, [lat_col, lon_col]]\n",
    "\n",
    "        # Normalized color values\n",
    "        norm0 = date_range.iloc[i]\n",
    "        norm1 = date_range.iloc[i + 1]\n",
    "\n",
    "        # Sample colors from scale\n",
    "        rgb0 = sample_colorscale(color_scale, norm0, colortype='rgb')[0]\n",
    "        rgb1 = sample_colorscale(color_scale, norm1, colortype='rgb')[0]\n",
    "\n",
    "        # Convert to RGB tuple and compute midpoint\n",
    "        def rgb_str_to_tuple(rgb_str):\n",
    "            return tuple(int(v.strip()) for v in rgb_str.strip(\"rgb() \").split(\",\"))\n",
    "\n",
    "        rgb0_tuple = rgb_str_to_tuple(rgb0)\n",
    "        rgb1_tuple = rgb_str_to_tuple(rgb1)\n",
    "\n",
    "        mid_rgb = tuple((a + b) // 2 for a, b in zip(rgb0_tuple, rgb1_tuple))\n",
    "        rgba_color = f\"rgba({mid_rgb[0]}, {mid_rgb[1]}, {mid_rgb[2]}, {line_opacity})\"\n",
    "\n",
    "        lines.append(go.Scattergeo(\n",
    "            lat=[lat0, lat1],\n",
    "            lon=[lon0, lon1],\n",
    "            mode=\"lines\",\n",
    "            line=dict(width=2, color=rgba_color),\n",
    "            opacity=line_opacity,\n",
    "            showlegend=False\n",
    "        ))\n",
    "\n",
    "    # Calculate bounds if auto_center is enabled\n",
    "\n",
    "\n",
    "    \"\"\"\n",
    "    if auto_center:\n",
    "        lat_min, lat_max = df_sorted[lat_col].min(), df_sorted[lat_col].max()\n",
    "        lon_min, lon_max = df_sorted[lon_col].min(), df_sorted[lon_col].max()\n",
    "        lat_center = (lat_min + lat_max) / 2\n",
    "        lon_center = (lon_min + lon_max) / 2\n",
    "        lat_range = lat_max - lat_min\n",
    "        lon_range = lon_max - lon_min\n",
    "\n",
    "        geo_scope.update(\n",
    "            center=dict(lat=lat_center, lon=lon_center),\n",
    "            #lataxis=dict(range=[lat_min - lat_range * 0.2, lat_max + lat_range * 0.2]),\n",
    "            #lonaxis=dict(range=[lon_min - lon_range * 0.2, lon_max + lon_range * 0.2])\n",
    "        )\n",
    "    \"\"\"\n",
    "    fig = go.Figure([scatter] + lines, **plot_kwargs)\n",
    "\n",
    "    geo_scope = dict(\n",
    "        projection_type=\"natural earth\",\n",
    "        resolution=50,\n",
    "        showland=True,\n",
    "        landcolor=\"rgb(243, 243, 243)\",\n",
    "        showcountries=True,\n",
    "        countrycolor=\"rgb(204, 204, 204)\",\n",
    "        fitbounds = \"locations\"\n",
    "    )\n",
    "    \n",
    "    fig.update_layout(\n",
    "        geo=geo_scope,\n",
    "        title=\"Travel Map\",\n",
    "        margin=dict(l=0, r=0, t=40, b=0)\n",
    "    )\n",
    "\n",
    "    return fig\n"
   ]
  },
  {
   "cell_type": "code",
   "id": "121e9a9c38816050",
   "metadata": {
    "ExecuteTime": {
     "end_time": "2025-07-18T02:30:46.677201Z",
     "start_time": "2025-07-18T02:30:45.626429Z"
    }
   },
   "source": [
    "extract_headings_only(r\"C:\\Users\\benja\\Documents\\Reise\\Reisebericht.md\",\"reise.md\")\n",
    "\n",
    "df = parse_markdown(\"reise.md\", skip_first_heading=True)\n",
    "#df = filter_visits(df,country=\"Australien\",start_date=\"20.06.2025\", end_date=\"12.07.2025\")\n",
    "df"
   ],
   "outputs": [
    {
     "name": "stdout",
     "output_type": "stream",
     "text": [
      "Headings written to: reise.md\n"
     ]
    },
    {
     "data": {
      "text/plain": [
       "                 Country                    City       Start         End  \\\n",
       "0             Neuseeland              Queenstown  2024-02-18  2024-02-18   \n",
       "1   24.02-10.03; 14 Tage    01.04-14.04; 14 Tage  2024-04-15  2024-04-15   \n",
       "2   24.02-10.03; 14 Tage    21.04-05.05; 14 Tage  2024-05-21  2024-05-21   \n",
       "3               Singapur                Singapur  2024-08-08  2024-08-13   \n",
       "4             Indonesien                  Malang  2024-08-14  2024-08-16   \n",
       "..                   ...                     ...         ...         ...   \n",
       "81            Australien  West MacDonnell Ranges  2025-07-06  2025-07-07   \n",
       "82            Australien          Devils Marbles  2025-07-08  2025-07-08   \n",
       "83            Australien             Daly Waters  2025-07-09  2025-07-09   \n",
       "84            Australien               Mataranka  2025-07-10  2025-07-10   \n",
       "85            Australien               Katherine  2025-07-11  2025-07-12   \n",
       "\n",
       "    Duration  \n",
       "0          1  \n",
       "1          1  \n",
       "2          1  \n",
       "3          6  \n",
       "4          3  \n",
       "..       ...  \n",
       "81         2  \n",
       "82         1  \n",
       "83         1  \n",
       "84         1  \n",
       "85         2  \n",
       "\n",
       "[86 rows x 5 columns]"
      ],
      "text/html": [
       "<div>\n",
       "<style scoped>\n",
       "    .dataframe tbody tr th:only-of-type {\n",
       "        vertical-align: middle;\n",
       "    }\n",
       "\n",
       "    .dataframe tbody tr th {\n",
       "        vertical-align: top;\n",
       "    }\n",
       "\n",
       "    .dataframe thead th {\n",
       "        text-align: right;\n",
       "    }\n",
       "</style>\n",
       "<table border=\"1\" class=\"dataframe\">\n",
       "  <thead>\n",
       "    <tr style=\"text-align: right;\">\n",
       "      <th></th>\n",
       "      <th>Country</th>\n",
       "      <th>City</th>\n",
       "      <th>Start</th>\n",
       "      <th>End</th>\n",
       "      <th>Duration</th>\n",
       "    </tr>\n",
       "  </thead>\n",
       "  <tbody>\n",
       "    <tr>\n",
       "      <th>0</th>\n",
       "      <td>Neuseeland</td>\n",
       "      <td>Queenstown</td>\n",
       "      <td>2024-02-18</td>\n",
       "      <td>2024-02-18</td>\n",
       "      <td>1</td>\n",
       "    </tr>\n",
       "    <tr>\n",
       "      <th>1</th>\n",
       "      <td>24.02-10.03; 14 Tage</td>\n",
       "      <td>01.04-14.04; 14 Tage</td>\n",
       "      <td>2024-04-15</td>\n",
       "      <td>2024-04-15</td>\n",
       "      <td>1</td>\n",
       "    </tr>\n",
       "    <tr>\n",
       "      <th>2</th>\n",
       "      <td>24.02-10.03; 14 Tage</td>\n",
       "      <td>21.04-05.05; 14 Tage</td>\n",
       "      <td>2024-05-21</td>\n",
       "      <td>2024-05-21</td>\n",
       "      <td>1</td>\n",
       "    </tr>\n",
       "    <tr>\n",
       "      <th>3</th>\n",
       "      <td>Singapur</td>\n",
       "      <td>Singapur</td>\n",
       "      <td>2024-08-08</td>\n",
       "      <td>2024-08-13</td>\n",
       "      <td>6</td>\n",
       "    </tr>\n",
       "    <tr>\n",
       "      <th>4</th>\n",
       "      <td>Indonesien</td>\n",
       "      <td>Malang</td>\n",
       "      <td>2024-08-14</td>\n",
       "      <td>2024-08-16</td>\n",
       "      <td>3</td>\n",
       "    </tr>\n",
       "    <tr>\n",
       "      <th>...</th>\n",
       "      <td>...</td>\n",
       "      <td>...</td>\n",
       "      <td>...</td>\n",
       "      <td>...</td>\n",
       "      <td>...</td>\n",
       "    </tr>\n",
       "    <tr>\n",
       "      <th>81</th>\n",
       "      <td>Australien</td>\n",
       "      <td>West MacDonnell Ranges</td>\n",
       "      <td>2025-07-06</td>\n",
       "      <td>2025-07-07</td>\n",
       "      <td>2</td>\n",
       "    </tr>\n",
       "    <tr>\n",
       "      <th>82</th>\n",
       "      <td>Australien</td>\n",
       "      <td>Devils Marbles</td>\n",
       "      <td>2025-07-08</td>\n",
       "      <td>2025-07-08</td>\n",
       "      <td>1</td>\n",
       "    </tr>\n",
       "    <tr>\n",
       "      <th>83</th>\n",
       "      <td>Australien</td>\n",
       "      <td>Daly Waters</td>\n",
       "      <td>2025-07-09</td>\n",
       "      <td>2025-07-09</td>\n",
       "      <td>1</td>\n",
       "    </tr>\n",
       "    <tr>\n",
       "      <th>84</th>\n",
       "      <td>Australien</td>\n",
       "      <td>Mataranka</td>\n",
       "      <td>2025-07-10</td>\n",
       "      <td>2025-07-10</td>\n",
       "      <td>1</td>\n",
       "    </tr>\n",
       "    <tr>\n",
       "      <th>85</th>\n",
       "      <td>Australien</td>\n",
       "      <td>Katherine</td>\n",
       "      <td>2025-07-11</td>\n",
       "      <td>2025-07-12</td>\n",
       "      <td>2</td>\n",
       "    </tr>\n",
       "  </tbody>\n",
       "</table>\n",
       "<p>86 rows × 5 columns</p>\n",
       "</div>"
      ]
     },
     "execution_count": 42,
     "metadata": {},
     "output_type": "execute_result"
    }
   ],
   "execution_count": 42
  },
  {
   "cell_type": "code",
   "execution_count": 33,
   "id": "e675003e4c26e6e",
   "metadata": {
    "ExecuteTime": {
     "end_time": "2025-07-12T12:28:07.509540Z",
     "start_time": "2025-07-12T12:28:07.493537Z"
    }
   },
   "outputs": [
    {
     "data": {
      "text/html": [
       "<div>\n",
       "<style scoped>\n",
       "    .dataframe tbody tr th:only-of-type {\n",
       "        vertical-align: middle;\n",
       "    }\n",
       "\n",
       "    .dataframe tbody tr th {\n",
       "        vertical-align: top;\n",
       "    }\n",
       "\n",
       "    .dataframe thead th {\n",
       "        text-align: right;\n",
       "    }\n",
       "</style>\n",
       "<table border=\"1\" class=\"dataframe\">\n",
       "  <thead>\n",
       "    <tr style=\"text-align: right;\">\n",
       "      <th></th>\n",
       "      <th>Country</th>\n",
       "      <th>Total_Days</th>\n",
       "      <th>Cities_Visited</th>\n",
       "      <th>Entry_Date</th>\n",
       "      <th>Exit_Date</th>\n",
       "    </tr>\n",
       "  </thead>\n",
       "  <tbody>\n",
       "    <tr>\n",
       "      <th>0</th>\n",
       "      <td>Australien</td>\n",
       "      <td>23</td>\n",
       "      <td>14</td>\n",
       "      <td>2025-06-20</td>\n",
       "      <td>2025-07-12</td>\n",
       "    </tr>\n",
       "    <tr>\n",
       "      <th>1</th>\n",
       "      <td>TOTAL</td>\n",
       "      <td>23</td>\n",
       "      <td>14</td>\n",
       "      <td>2025-06-20</td>\n",
       "      <td>2025-07-12</td>\n",
       "    </tr>\n",
       "  </tbody>\n",
       "</table>\n",
       "</div>"
      ],
      "text/plain": [
       "      Country  Total_Days  Cities_Visited Entry_Date  Exit_Date\n",
       "0  Australien          23              14 2025-06-20 2025-07-12\n",
       "1       TOTAL          23              14 2025-06-20 2025-07-12"
      ]
     },
     "execution_count": 33,
     "metadata": {},
     "output_type": "execute_result"
    }
   ],
   "source": [
    "df_summary=summarize_travel(df)\n",
    "df_summary"
   ]
  },
  {
   "cell_type": "code",
   "execution_count": 34,
   "id": "5c178f012ed2cf51",
   "metadata": {
    "ExecuteTime": {
     "end_time": "2025-07-12T12:28:22.677509Z",
     "start_time": "2025-07-12T12:28:07.586601Z"
    }
   },
   "outputs": [
    {
     "data": {
      "text/html": [
       "<div>\n",
       "<style scoped>\n",
       "    .dataframe tbody tr th:only-of-type {\n",
       "        vertical-align: middle;\n",
       "    }\n",
       "\n",
       "    .dataframe tbody tr th {\n",
       "        vertical-align: top;\n",
       "    }\n",
       "\n",
       "    .dataframe thead th {\n",
       "        text-align: right;\n",
       "    }\n",
       "</style>\n",
       "<table border=\"1\" class=\"dataframe\">\n",
       "  <thead>\n",
       "    <tr style=\"text-align: right;\">\n",
       "      <th></th>\n",
       "      <th>Country</th>\n",
       "      <th>City</th>\n",
       "      <th>Start</th>\n",
       "      <th>End</th>\n",
       "      <th>Duration</th>\n",
       "      <th>Latitude</th>\n",
       "      <th>Longitude</th>\n",
       "    </tr>\n",
       "  </thead>\n",
       "  <tbody>\n",
       "    <tr>\n",
       "      <th>72</th>\n",
       "      <td>Australien</td>\n",
       "      <td>Adelaide</td>\n",
       "      <td>2025-06-20</td>\n",
       "      <td>2025-06-21</td>\n",
       "      <td>2</td>\n",
       "      <td>-34.928181</td>\n",
       "      <td>138.599931</td>\n",
       "    </tr>\n",
       "    <tr>\n",
       "      <th>73</th>\n",
       "      <td>Australien</td>\n",
       "      <td>Port Augusta</td>\n",
       "      <td>2025-06-22</td>\n",
       "      <td>2025-06-23</td>\n",
       "      <td>2</td>\n",
       "      <td>-32.490882</td>\n",
       "      <td>137.763987</td>\n",
       "    </tr>\n",
       "    <tr>\n",
       "      <th>74</th>\n",
       "      <td>Australien</td>\n",
       "      <td>Marree</td>\n",
       "      <td>2025-06-24</td>\n",
       "      <td>2025-06-24</td>\n",
       "      <td>1</td>\n",
       "      <td>-29.647510</td>\n",
       "      <td>138.063420</td>\n",
       "    </tr>\n",
       "    <tr>\n",
       "      <th>75</th>\n",
       "      <td>Australien</td>\n",
       "      <td>William Creek</td>\n",
       "      <td>2025-06-25</td>\n",
       "      <td>2025-06-25</td>\n",
       "      <td>1</td>\n",
       "      <td>-28.907794</td>\n",
       "      <td>136.341327</td>\n",
       "    </tr>\n",
       "    <tr>\n",
       "      <th>76</th>\n",
       "      <td>Australien</td>\n",
       "      <td>Oodnadatta</td>\n",
       "      <td>2025-06-26</td>\n",
       "      <td>2025-06-26</td>\n",
       "      <td>1</td>\n",
       "      <td>-27.548276</td>\n",
       "      <td>135.448427</td>\n",
       "    </tr>\n",
       "    <tr>\n",
       "      <th>77</th>\n",
       "      <td>Australien</td>\n",
       "      <td>Coober Pedy</td>\n",
       "      <td>2025-06-27</td>\n",
       "      <td>2025-06-29</td>\n",
       "      <td>3</td>\n",
       "      <td>-29.013368</td>\n",
       "      <td>134.753616</td>\n",
       "    </tr>\n",
       "    <tr>\n",
       "      <th>78</th>\n",
       "      <td>Australien</td>\n",
       "      <td>Uluru/Ayers Rock</td>\n",
       "      <td>2025-06-30</td>\n",
       "      <td>2025-07-02</td>\n",
       "      <td>3</td>\n",
       "      <td>-25.345554</td>\n",
       "      <td>131.036961</td>\n",
       "    </tr>\n",
       "    <tr>\n",
       "      <th>79</th>\n",
       "      <td>Australien</td>\n",
       "      <td>Kings Canyon</td>\n",
       "      <td>2025-07-03</td>\n",
       "      <td>2025-07-03</td>\n",
       "      <td>1</td>\n",
       "      <td>-24.250309</td>\n",
       "      <td>131.577950</td>\n",
       "    </tr>\n",
       "    <tr>\n",
       "      <th>80</th>\n",
       "      <td>Australien</td>\n",
       "      <td>Alice Springs</td>\n",
       "      <td>2025-07-04</td>\n",
       "      <td>2025-07-05</td>\n",
       "      <td>2</td>\n",
       "      <td>-23.698388</td>\n",
       "      <td>133.881289</td>\n",
       "    </tr>\n",
       "    <tr>\n",
       "      <th>81</th>\n",
       "      <td>Australien</td>\n",
       "      <td>West MacDonnell Ranges</td>\n",
       "      <td>2025-07-06</td>\n",
       "      <td>2025-07-07</td>\n",
       "      <td>2</td>\n",
       "      <td>NaN</td>\n",
       "      <td>NaN</td>\n",
       "    </tr>\n",
       "    <tr>\n",
       "      <th>82</th>\n",
       "      <td>Australien</td>\n",
       "      <td>Devils Marbles</td>\n",
       "      <td>2025-07-08</td>\n",
       "      <td>2025-07-08</td>\n",
       "      <td>1</td>\n",
       "      <td>-20.537760</td>\n",
       "      <td>134.250480</td>\n",
       "    </tr>\n",
       "    <tr>\n",
       "      <th>83</th>\n",
       "      <td>Australien</td>\n",
       "      <td>Daly Waters</td>\n",
       "      <td>2025-07-09</td>\n",
       "      <td>2025-07-09</td>\n",
       "      <td>1</td>\n",
       "      <td>-16.260977</td>\n",
       "      <td>133.378975</td>\n",
       "    </tr>\n",
       "    <tr>\n",
       "      <th>84</th>\n",
       "      <td>Australien</td>\n",
       "      <td>Mataranka</td>\n",
       "      <td>2025-07-10</td>\n",
       "      <td>2025-07-10</td>\n",
       "      <td>1</td>\n",
       "      <td>-14.927884</td>\n",
       "      <td>133.069058</td>\n",
       "    </tr>\n",
       "    <tr>\n",
       "      <th>85</th>\n",
       "      <td>Australien</td>\n",
       "      <td>Katherine</td>\n",
       "      <td>2025-07-11</td>\n",
       "      <td>2025-07-12</td>\n",
       "      <td>2</td>\n",
       "      <td>-14.464616</td>\n",
       "      <td>132.263599</td>\n",
       "    </tr>\n",
       "  </tbody>\n",
       "</table>\n",
       "</div>"
      ],
      "text/plain": [
       "       Country                    City      Start        End  Duration  \\\n",
       "72  Australien                Adelaide 2025-06-20 2025-06-21         2   \n",
       "73  Australien            Port Augusta 2025-06-22 2025-06-23         2   \n",
       "74  Australien                  Marree 2025-06-24 2025-06-24         1   \n",
       "75  Australien           William Creek 2025-06-25 2025-06-25         1   \n",
       "76  Australien              Oodnadatta 2025-06-26 2025-06-26         1   \n",
       "77  Australien             Coober Pedy 2025-06-27 2025-06-29         3   \n",
       "78  Australien        Uluru/Ayers Rock 2025-06-30 2025-07-02         3   \n",
       "79  Australien            Kings Canyon 2025-07-03 2025-07-03         1   \n",
       "80  Australien           Alice Springs 2025-07-04 2025-07-05         2   \n",
       "81  Australien  West MacDonnell Ranges 2025-07-06 2025-07-07         2   \n",
       "82  Australien          Devils Marbles 2025-07-08 2025-07-08         1   \n",
       "83  Australien             Daly Waters 2025-07-09 2025-07-09         1   \n",
       "84  Australien               Mataranka 2025-07-10 2025-07-10         1   \n",
       "85  Australien               Katherine 2025-07-11 2025-07-12         2   \n",
       "\n",
       "     Latitude   Longitude  \n",
       "72 -34.928181  138.599931  \n",
       "73 -32.490882  137.763987  \n",
       "74 -29.647510  138.063420  \n",
       "75 -28.907794  136.341327  \n",
       "76 -27.548276  135.448427  \n",
       "77 -29.013368  134.753616  \n",
       "78 -25.345554  131.036961  \n",
       "79 -24.250309  131.577950  \n",
       "80 -23.698388  133.881289  \n",
       "81        NaN         NaN  \n",
       "82 -20.537760  134.250480  \n",
       "83 -16.260977  133.378975  \n",
       "84 -14.927884  133.069058  \n",
       "85 -14.464616  132.263599  "
      ]
     },
     "execution_count": 34,
     "metadata": {},
     "output_type": "execute_result"
    }
   ],
   "source": [
    "df_geo=map_cities_to_coords(df, city_col=\"City\", country_col=\"Country\", api_wait_time=0.1)\n",
    "df_geo"
   ]
  },
  {
   "cell_type": "code",
   "execution_count": 35,
   "id": "291c22eb363ba7c2",
   "metadata": {
    "ExecuteTime": {
     "end_time": "2025-07-12T12:28:22.767360Z",
     "start_time": "2025-07-12T12:28:22.757281Z"
    }
   },
   "outputs": [
    {
     "data": {
      "text/html": [
       "<div>\n",
       "<style scoped>\n",
       "    .dataframe tbody tr th:only-of-type {\n",
       "        vertical-align: middle;\n",
       "    }\n",
       "\n",
       "    .dataframe tbody tr th {\n",
       "        vertical-align: top;\n",
       "    }\n",
       "\n",
       "    .dataframe thead th {\n",
       "        text-align: right;\n",
       "    }\n",
       "</style>\n",
       "<table border=\"1\" class=\"dataframe\">\n",
       "  <thead>\n",
       "    <tr style=\"text-align: right;\">\n",
       "      <th></th>\n",
       "      <th>Country</th>\n",
       "      <th>City</th>\n",
       "      <th>Start</th>\n",
       "      <th>End</th>\n",
       "      <th>Duration</th>\n",
       "      <th>Latitude</th>\n",
       "      <th>Longitude</th>\n",
       "    </tr>\n",
       "  </thead>\n",
       "  <tbody>\n",
       "    <tr>\n",
       "      <th>81</th>\n",
       "      <td>Australien</td>\n",
       "      <td>West MacDonnell Ranges</td>\n",
       "      <td>2025-07-06</td>\n",
       "      <td>2025-07-07</td>\n",
       "      <td>2</td>\n",
       "      <td>NaN</td>\n",
       "      <td>NaN</td>\n",
       "    </tr>\n",
       "  </tbody>\n",
       "</table>\n",
       "</div>"
      ],
      "text/plain": [
       "       Country                    City      Start        End  Duration  \\\n",
       "81  Australien  West MacDonnell Ranges 2025-07-06 2025-07-07         2   \n",
       "\n",
       "    Latitude  Longitude  \n",
       "81       NaN        NaN  "
      ]
     },
     "execution_count": 35,
     "metadata": {},
     "output_type": "execute_result"
    }
   ],
   "source": [
    "unmapped=get_unmapped_locations(df_geo)\n",
    "unmapped"
   ]
  },
  {
   "cell_type": "code",
   "execution_count": 36,
   "id": "70a73a08779d525f",
   "metadata": {
    "ExecuteTime": {
     "end_time": "2025-07-12T12:28:22.887359Z",
     "start_time": "2025-07-12T12:28:22.883685Z"
    }
   },
   "outputs": [],
   "source": [
    "updates=[\n",
    "    #[13,34.816667, 134.683333],\n",
    "     #    [75,-29.011111,134.755556],\n",
    "         [81, -23.750082, 132.97867]]\n",
    "df_geo=set_manual_coordinates_by_index(df_geo,updates)"
   ]
  },
  {
   "cell_type": "code",
   "execution_count": 37,
   "id": "f47ec95b6b180430",
   "metadata": {
    "ExecuteTime": {
     "end_time": "2025-07-12T12:28:23.049463Z",
     "start_time": "2025-07-12T12:28:23.038655Z"
    }
   },
   "outputs": [
    {
     "data": {
      "text/html": [
       "<div>\n",
       "<style scoped>\n",
       "    .dataframe tbody tr th:only-of-type {\n",
       "        vertical-align: middle;\n",
       "    }\n",
       "\n",
       "    .dataframe tbody tr th {\n",
       "        vertical-align: top;\n",
       "    }\n",
       "\n",
       "    .dataframe thead th {\n",
       "        text-align: right;\n",
       "    }\n",
       "</style>\n",
       "<table border=\"1\" class=\"dataframe\">\n",
       "  <thead>\n",
       "    <tr style=\"text-align: right;\">\n",
       "      <th></th>\n",
       "      <th>Country</th>\n",
       "      <th>City</th>\n",
       "      <th>Start</th>\n",
       "      <th>End</th>\n",
       "      <th>Duration</th>\n",
       "      <th>Latitude</th>\n",
       "      <th>Longitude</th>\n",
       "    </tr>\n",
       "  </thead>\n",
       "  <tbody>\n",
       "    <tr>\n",
       "      <th>72</th>\n",
       "      <td>Australien</td>\n",
       "      <td>Adelaide</td>\n",
       "      <td>2025-06-20</td>\n",
       "      <td>2025-06-21</td>\n",
       "      <td>2</td>\n",
       "      <td>-34.928181</td>\n",
       "      <td>138.599931</td>\n",
       "    </tr>\n",
       "    <tr>\n",
       "      <th>73</th>\n",
       "      <td>Australien</td>\n",
       "      <td>Port Augusta</td>\n",
       "      <td>2025-06-22</td>\n",
       "      <td>2025-06-23</td>\n",
       "      <td>2</td>\n",
       "      <td>-32.490882</td>\n",
       "      <td>137.763987</td>\n",
       "    </tr>\n",
       "    <tr>\n",
       "      <th>74</th>\n",
       "      <td>Australien</td>\n",
       "      <td>Marree</td>\n",
       "      <td>2025-06-24</td>\n",
       "      <td>2025-06-24</td>\n",
       "      <td>1</td>\n",
       "      <td>-29.647510</td>\n",
       "      <td>138.063420</td>\n",
       "    </tr>\n",
       "    <tr>\n",
       "      <th>75</th>\n",
       "      <td>Australien</td>\n",
       "      <td>William Creek</td>\n",
       "      <td>2025-06-25</td>\n",
       "      <td>2025-06-25</td>\n",
       "      <td>1</td>\n",
       "      <td>-28.907794</td>\n",
       "      <td>136.341327</td>\n",
       "    </tr>\n",
       "    <tr>\n",
       "      <th>76</th>\n",
       "      <td>Australien</td>\n",
       "      <td>Oodnadatta</td>\n",
       "      <td>2025-06-26</td>\n",
       "      <td>2025-06-26</td>\n",
       "      <td>1</td>\n",
       "      <td>-27.548276</td>\n",
       "      <td>135.448427</td>\n",
       "    </tr>\n",
       "    <tr>\n",
       "      <th>77</th>\n",
       "      <td>Australien</td>\n",
       "      <td>Coober Pedy</td>\n",
       "      <td>2025-06-27</td>\n",
       "      <td>2025-06-29</td>\n",
       "      <td>3</td>\n",
       "      <td>-29.013368</td>\n",
       "      <td>134.753616</td>\n",
       "    </tr>\n",
       "    <tr>\n",
       "      <th>78</th>\n",
       "      <td>Australien</td>\n",
       "      <td>Uluru/Ayers Rock</td>\n",
       "      <td>2025-06-30</td>\n",
       "      <td>2025-07-02</td>\n",
       "      <td>3</td>\n",
       "      <td>-25.345554</td>\n",
       "      <td>131.036961</td>\n",
       "    </tr>\n",
       "    <tr>\n",
       "      <th>79</th>\n",
       "      <td>Australien</td>\n",
       "      <td>Kings Canyon</td>\n",
       "      <td>2025-07-03</td>\n",
       "      <td>2025-07-03</td>\n",
       "      <td>1</td>\n",
       "      <td>-24.250309</td>\n",
       "      <td>131.577950</td>\n",
       "    </tr>\n",
       "    <tr>\n",
       "      <th>80</th>\n",
       "      <td>Australien</td>\n",
       "      <td>Alice Springs</td>\n",
       "      <td>2025-07-04</td>\n",
       "      <td>2025-07-05</td>\n",
       "      <td>2</td>\n",
       "      <td>-23.698388</td>\n",
       "      <td>133.881289</td>\n",
       "    </tr>\n",
       "    <tr>\n",
       "      <th>81</th>\n",
       "      <td>Australien</td>\n",
       "      <td>West MacDonnell Ranges</td>\n",
       "      <td>2025-07-06</td>\n",
       "      <td>2025-07-07</td>\n",
       "      <td>2</td>\n",
       "      <td>-23.750082</td>\n",
       "      <td>132.978670</td>\n",
       "    </tr>\n",
       "    <tr>\n",
       "      <th>82</th>\n",
       "      <td>Australien</td>\n",
       "      <td>Devils Marbles</td>\n",
       "      <td>2025-07-08</td>\n",
       "      <td>2025-07-08</td>\n",
       "      <td>1</td>\n",
       "      <td>-20.537760</td>\n",
       "      <td>134.250480</td>\n",
       "    </tr>\n",
       "    <tr>\n",
       "      <th>83</th>\n",
       "      <td>Australien</td>\n",
       "      <td>Daly Waters</td>\n",
       "      <td>2025-07-09</td>\n",
       "      <td>2025-07-09</td>\n",
       "      <td>1</td>\n",
       "      <td>-16.260977</td>\n",
       "      <td>133.378975</td>\n",
       "    </tr>\n",
       "    <tr>\n",
       "      <th>84</th>\n",
       "      <td>Australien</td>\n",
       "      <td>Mataranka</td>\n",
       "      <td>2025-07-10</td>\n",
       "      <td>2025-07-10</td>\n",
       "      <td>1</td>\n",
       "      <td>-14.927884</td>\n",
       "      <td>133.069058</td>\n",
       "    </tr>\n",
       "    <tr>\n",
       "      <th>85</th>\n",
       "      <td>Australien</td>\n",
       "      <td>Katherine</td>\n",
       "      <td>2025-07-11</td>\n",
       "      <td>2025-07-12</td>\n",
       "      <td>2</td>\n",
       "      <td>-14.464616</td>\n",
       "      <td>132.263599</td>\n",
       "    </tr>\n",
       "  </tbody>\n",
       "</table>\n",
       "</div>"
      ],
      "text/plain": [
       "       Country                    City      Start        End  Duration  \\\n",
       "72  Australien                Adelaide 2025-06-20 2025-06-21         2   \n",
       "73  Australien            Port Augusta 2025-06-22 2025-06-23         2   \n",
       "74  Australien                  Marree 2025-06-24 2025-06-24         1   \n",
       "75  Australien           William Creek 2025-06-25 2025-06-25         1   \n",
       "76  Australien              Oodnadatta 2025-06-26 2025-06-26         1   \n",
       "77  Australien             Coober Pedy 2025-06-27 2025-06-29         3   \n",
       "78  Australien        Uluru/Ayers Rock 2025-06-30 2025-07-02         3   \n",
       "79  Australien            Kings Canyon 2025-07-03 2025-07-03         1   \n",
       "80  Australien           Alice Springs 2025-07-04 2025-07-05         2   \n",
       "81  Australien  West MacDonnell Ranges 2025-07-06 2025-07-07         2   \n",
       "82  Australien          Devils Marbles 2025-07-08 2025-07-08         1   \n",
       "83  Australien             Daly Waters 2025-07-09 2025-07-09         1   \n",
       "84  Australien               Mataranka 2025-07-10 2025-07-10         1   \n",
       "85  Australien               Katherine 2025-07-11 2025-07-12         2   \n",
       "\n",
       "     Latitude   Longitude  \n",
       "72 -34.928181  138.599931  \n",
       "73 -32.490882  137.763987  \n",
       "74 -29.647510  138.063420  \n",
       "75 -28.907794  136.341327  \n",
       "76 -27.548276  135.448427  \n",
       "77 -29.013368  134.753616  \n",
       "78 -25.345554  131.036961  \n",
       "79 -24.250309  131.577950  \n",
       "80 -23.698388  133.881289  \n",
       "81 -23.750082  132.978670  \n",
       "82 -20.537760  134.250480  \n",
       "83 -16.260977  133.378975  \n",
       "84 -14.927884  133.069058  \n",
       "85 -14.464616  132.263599  "
      ]
     },
     "execution_count": 37,
     "metadata": {},
     "output_type": "execute_result"
    }
   ],
   "source": [
    "df_geo"
   ]
  },
  {
   "cell_type": "code",
   "id": "13dcfb2d0ef14d5c",
   "metadata": {
    "ExecuteTime": {
     "end_time": "2025-07-18T02:14:16.750100Z",
     "start_time": "2025-07-18T02:14:16.692797Z"
    }
   },
   "source": [
    "import plotly.graph_objects as go\n",
    "import pandas as pd\n",
    "import numpy as np\n",
    "from datetime import datetime, timedelta\n",
    "from typing import Optional, Dict\n",
    "\n",
    "def plot_travel_map(\n",
    "    df: pd.DataFrame,\n",
    "    lat_col: str = \"Latitude\",\n",
    "    lon_col: str = \"Longitude\",\n",
    "    city_col: str = \"City\",\n",
    "    duration_col: str = \"Duration\",\n",
    "    date_col: str = \"Start\",\n",
    "    default_marker_size: int = 5,\n",
    "    marker_scale: float = 2.0,\n",
    "    color_scale: str = \"Viridis\",\n",
    "    line_opacity: float = 0.6,\n",
    "    plot_kwargs: Optional[Dict] = None\n",
    ") -> go.Figure:\n",
    "    \"\"\"\n",
    "    Plots a world map of visited cities with size based on duration and color based on entry date.\n",
    "\n",
    "    Parameters:\n",
    "        df (pd.DataFrame): DataFrame with geolocation and visit data.\n",
    "        lat_col (str): Name of the latitude column.\n",
    "        lon_col (str): Name of the longitude column.\n",
    "        city_col (str): Name of the city column.\n",
    "        duration_col (str): Name of the duration column.\n",
    "        date_col (str): Name of the date column (should be datetime).\n",
    "        default_marker_size (int): Minimum size for markers.\n",
    "        marker_scale (float): Scaling factor for marker size.\n",
    "        color_scale (str): Color scale name for Plotly.\n",
    "        line_opacity (float): Opacity of the lines connecting cities.\n",
    "        plot_kwargs (dict): Additional keyword arguments to pass to `go.Figure`.\n",
    "\n",
    "    Returns:\n",
    "        go.Figure: The resulting Plotly figure.\n",
    "    \"\"\"\n",
    "    if plot_kwargs is None:\n",
    "        plot_kwargs = {}\n",
    "\n",
    "    df_sorted = df.sort_values(by=date_col).reset_index(drop=True)\n",
    "\n",
    "    # Normalize date to float for coloring\n",
    "    date_min = df_sorted[date_col].min()\n",
    "    date_max = df_sorted[date_col].max()\n",
    "    date_range = (df_sorted[date_col] - date_min) / (date_max - date_min + pd.Timedelta(days=1e-9))\n",
    "\n",
    "    # Compute marker size and color\n",
    "    sizes = df_sorted[duration_col].fillna(1) * marker_scale + default_marker_size\n",
    "    colors = date_range\n",
    "\n",
    "    # Create scatter trace for cities\n",
    "    scatter = go.Scattergeo(\n",
    "        lat=df_sorted[lat_col],\n",
    "        lon=df_sorted[lon_col],\n",
    "        text=[f\"{row[city_col]}<br>{row[date_col].strftime('%d.%m.%Y')} - {(row[date_col]+timedelta(days=row[duration_col])).strftime('%d.%m.%Y')}:  {row[duration_col]} days\" for _, row in df_sorted.iterrows()],\n",
    "        mode=\"markers\",\n",
    "        marker=dict(\n",
    "            size=sizes,\n",
    "            color=colors,\n",
    "            colorscale=color_scale,\n",
    "            colorbar=dict(title=\"Date\"),\n",
    "            opacity=0.8,\n",
    "            line=dict(width=0.5, color=\"black\")\n",
    "        ),\n",
    "        name=\"Cities\"\n",
    "    )\n",
    "\n",
    "\n",
    "\n",
    "import plotly.graph_objects as go\n",
    "from plotly.colors import sample_colorscale\n",
    "import pandas as pd\n",
    "import numpy as np\n",
    "from typing import Optional, Dict\n",
    "\n",
    "import plotly.colors as pc\n",
    "\n",
    "def get_rgb_from_scale(value: float, colorscale: str) -> tuple:\n",
    "    \"\"\"\n",
    "    Convert a normalized value (0-1) into an RGB tuple using the given Plotly colorscale.\n",
    "\n",
    "    Parameters:\n",
    "        value (float): Normalized value between 0 and 1.\n",
    "        colorscale (str): Name of the Plotly color scale.\n",
    "\n",
    "    Returns:\n",
    "        tuple: (r, g, b)\n",
    "    \"\"\"\n",
    "    # Ensure value is in [0, 1]\n",
    "    value = max(0, min(1, value))\n",
    "    rgb_string = pc.find_intermediate_color(\n",
    "        pc.get_colorscale(colorscale)[0][1],\n",
    "        pc.get_colorscale(colorscale)[-1][1],\n",
    "        value,\n",
    "        colortype=\"rgb\"\n",
    "    )\n",
    "    return tuple(int(x) for x in rgb_string.strip(\"rgb()\").split(\",\"))\n",
    "\n",
    "import plotly.graph_objects as go\n",
    "\n",
    "def midpoint_rgb(color1: str, color2: str, alpha: float = 1.0) -> str:\n",
    "    \"\"\"\n",
    "    Compute the midpoint RGBA color string between two RGB strings.\n",
    "    \n",
    "    Parameters:\n",
    "        color1 (str): RGB color string, e.g., 'rgb(255, 100, 0)'\n",
    "        color2 (str): RGB color string\n",
    "        alpha (float): Alpha (opacity) value for the output RGBA string\n",
    "    \n",
    "    Returns:\n",
    "        str: RGBA color string\n",
    "    \"\"\"\n",
    "    def rgb_str_to_tuple(rgb_str):\n",
    "        return tuple(int(c.strip()) for c in rgb_str.strip(\"rgb() \").split(\",\"))\n",
    "\n",
    "    rgb1 = rgb_str_to_tuple(color1)\n",
    "    rgb2 = rgb_str_to_tuple(color2)\n",
    "    mid_rgb = tuple((a + b) // 2 for a, b in zip(rgb1, rgb2))\n",
    "\n",
    "    return f\"rgba({mid_rgb[0]}, {mid_rgb[1]}, {mid_rgb[2]}, {alpha})\"\n",
    "\n",
    "def build_colored_lines_geo(df_sorted, lat_col, lon_col, date_range, color_scale, width=2, line_opacity=0.8, **kwargs):\n",
    "    \"\"\"\n",
    "    Builds a list of Scattergeo line traces colored by the midpoint of a colorscale.\n",
    "\n",
    "    Parameters:\n",
    "        df_sorted (pd.DataFrame): Sorted DataFrame with lat/lon columns.\n",
    "        lat_col (str): Name of the latitude column.\n",
    "        lon_col (str): Name of the longitude column.\n",
    "        date_range (pd.Series): Normalized values (0 to 1) for the colorscale.\n",
    "        color_scale (list): Plotly-compatible colorscale.\n",
    "        line_opacity (float): Line opacity for RGBA colors.\n",
    "        width (int): width of the plotted lines\n",
    "        **kwargs: Additional arguments to pass to go.Scattergeo (e.g. name, hoverinfo).\n",
    "\n",
    "    Returns:\n",
    "        list: List of plotly.graph_objects.Scattergeo traces.\n",
    "    \"\"\"\n",
    "    lines = []\n",
    "\n",
    "    for i in range(len(df_sorted) - 1):\n",
    "        lat0, lon0 = df_sorted.loc[i, [lat_col, lon_col]]\n",
    "        lat1, lon1 = df_sorted.loc[i + 1, [lat_col, lon_col]]\n",
    "\n",
    "        norm0 = date_range.iloc[i]\n",
    "        norm1 = date_range.iloc[i + 1]\n",
    "\n",
    "        rgb0 = sample_colorscale(color_scale, norm0, colortype='rgb')[0]\n",
    "        rgb1 = sample_colorscale(color_scale, norm1, colortype='rgb')[0]\n",
    "\n",
    "        rgba_color = midpoint_rgb(rgb0, rgb1, alpha=line_opacity)\n",
    "\n",
    "        lines.append(go.Scattergeo(\n",
    "            lat=[lat0, lat1],\n",
    "            lon=[lon0, lon1],\n",
    "            mode=\"lines\",\n",
    "            line=dict(width=width, color=rgba_color),\n",
    "            opacity=line_opacity,\n",
    "            **kwargs\n",
    "        ))\n",
    "\n",
    "    return lines\n",
    "\n",
    "\n",
    "\n",
    "def plot_travel_map_hist(\n",
    "    df: pd.DataFrame,\n",
    "    lat_col: str = \"Latitude\",\n",
    "    lon_col: str = \"Longitude\",\n",
    "    city_col: str = \"City\",\n",
    "    duration_col: str = \"Duration\",\n",
    "    date_col: str = \"Start\",\n",
    "    default_marker_size: int = 5,\n",
    "    marker_scale: float = 2.0,\n",
    "    color_scale: str = \"Viridis\",\n",
    "    line_opacity: float = 0.6,\n",
    "    auto_center: bool = False,\n",
    "    plot_kwargs: Optional[Dict] = None\n",
    ") -> go.Figure:\n",
    "    \"\"\"\n",
    "    Plots a world map of visited cities with size based on duration and color based on entry date.\n",
    "\n",
    "    Parameters:\n",
    "        df (pd.DataFrame): DataFrame with geolocation and visit data.\n",
    "        lat_col (str): Name of the latitude column.\n",
    "        lon_col (str): Name of the longitude column.\n",
    "        city_col (str): Name of the city column.\n",
    "        duration_col (str): Name of the duration column.\n",
    "        date_col (str): Name of the entry date column (should be datetime).\n",
    "        default_marker_size (int): Minimum size for markers.\n",
    "        marker_scale (float): Scaling factor for marker size.\n",
    "        color_scale (str): Color scale name for Plotly.\n",
    "        line_opacity (float): Opacity of the lines connecting cities.\n",
    "        auto_center (bool): If True, zoom to the bounding box of the cities.\n",
    "        plot_kwargs (dict): Additional keyword arguments to pass to `go.Figure`.\n",
    "\n",
    "    Returns:\n",
    "        go.Figure: The resulting Plotly figure.\n",
    "    \"\"\"\n",
    "    if plot_kwargs is None:\n",
    "        plot_kwargs = {}\n",
    "\n",
    "    df_sorted = df.sort_values(by=date_col).reset_index(drop=True)\n",
    "\n",
    "    # Normalize date to float for coloring\n",
    "    date_min = df_sorted[date_col].min()\n",
    "    date_max = df_sorted[date_col].max()\n",
    "    date_range = (df_sorted[date_col] - date_min) / (date_max - date_min + pd.Timedelta(days=1e-9))\n",
    "\n",
    "    # Compute marker size and color\n",
    "    sizes = df_sorted[duration_col].fillna(1) * marker_scale + default_marker_size\n",
    "\n",
    "    # Create scatter trace for cities\n",
    "    scatter = go.Scattergeo(\n",
    "        lat=df_sorted[lat_col],\n",
    "        lon=df_sorted[lon_col],\n",
    "        text=[f\"{row[city_col]}<br>{row[date_col].strftime('%d.%m.%Y')} - {(row[date_col]+timedelta(days=row[duration_col])).strftime('%d.%m.%Y')}:  {row[duration_col]} days\" for _, row in df_sorted.iterrows()],\n",
    "        mode=\"markers\",\n",
    "        marker=dict(\n",
    "            size=sizes,\n",
    "            color=date_range,\n",
    "            colorscale=color_scale,\n",
    "            colorbar=dict(title=\"Date\"),\n",
    "            opacity=line_opacity,\n",
    "            line=dict(width=0.5, color=\"black\")\n",
    "        ),\n",
    "        name=\"Cities\"\n",
    "    )\n",
    "\n",
    "    lines = build_colored_lines_geo(\n",
    "        df_sorted=df_sorted,\n",
    "        lat_col=\"Latitude\",\n",
    "        lon_col=\"Longitude\",\n",
    "        date_range=date_range,\n",
    "        color_scale=color_scale,\n",
    "        line_opacity=line_opacity,\n",
    "        width=2,\n",
    "        showlegend=False\n",
    "    )\n",
    "\n",
    "    fig = go.Figure([scatter] + lines, **plot_kwargs)\n",
    "\n",
    "    fig.update_layout(\n",
    "        geo=dict(\n",
    "            projection_type=\"natural earth\",\n",
    "            showland=True,\n",
    "            landcolor=\"rgb(243, 243, 243)\",\n",
    "            showcountries=True,\n",
    "            countrycolor=\"rgb(204, 204, 204)\",\n",
    "            fitbounds=\"locations\"\n",
    "        ),\n",
    "        title=\"Travel Map\",\n",
    "        margin=dict(l=0, r=0, t=40, b=0)\n",
    "    )\n",
    "\n",
    "    return fig\n"
   ],
   "outputs": [],
   "execution_count": 16
  },
  {
   "cell_type": "code",
   "id": "72dfee7f-45f0-4b0c-8202-e48526d29413",
   "metadata": {
    "ExecuteTime": {
     "end_time": "2025-07-18T02:25:44.320076Z",
     "start_time": "2025-07-18T02:25:44.302479Z"
    }
   },
   "source": [
    "def plot_travel_map(\n",
    "    df: pd.DataFrame,\n",
    "    lat_col: str = \"Latitude\",\n",
    "    lon_col: str = \"Longitude\",\n",
    "    city_col: str = \"City\",\n",
    "    duration_col: str = \"Duration\",\n",
    "    date_col: str = \"Start\",\n",
    "    default_marker_size: int = 5,\n",
    "    marker_scale: float = 2.0,\n",
    "    color_scale: str = \"Viridis\",\n",
    "    line_opacity: float = 0.6,\n",
    "    location_name: str = \"Cities\",\n",
    "    city_marker_kwargs: Optional[Dict] = None,\n",
    "    line_kwargs: Optional[Dict] = None,\n",
    "    plot_kwargs: Optional[Dict] = None\n",
    ") -> go.Figure:\n",
    "    \"\"\"\n",
    "    Plots a world map of visited cities with size based on duration and color based on entry date.\n",
    "\n",
    "    Parameters:\n",
    "        df (pd.DataFrame): DataFrame with geolocation and visit data.\n",
    "        lat_col (str): Name of the latitude column.\n",
    "        lon_col (str): Name of the longitude column.\n",
    "        city_col (str): Name of the city column.\n",
    "        duration_col (str): Name of the duration column.\n",
    "        date_col (str): Name of the entry date column (should be datetime).\n",
    "        default_marker_size (int): Minimum size for markers.\n",
    "        marker_scale (float): Scaling factor for marker size.\n",
    "        color_scale (str): Color scale name for Plotly.\n",
    "        line_opacity (float): Opacity of the lines connecting cities.\n",
    "        location_name (string): Name for the Location plots\n",
    "        city_marker_kwargs (dict): Extra kwargs for the Scattergeo markers.\n",
    "        line_kwargs (dict): Extra kwargs for the lines (passed to build_colored_lines_geo).\n",
    "        plot_kwargs (dict): Extra kwargs for the go.Figure/layout.\n",
    "\n",
    "    Returns:\n",
    "        go.Figure: The resulting Plotly figure.\n",
    "    \"\"\"\n",
    "\n",
    "    # ---------- Default configurations ----------\n",
    "    default_city_marker_kwargs = dict(\n",
    "        colorbar=dict(title=\"Date\"),\n",
    "        line=dict(width=0.5, color=\"black\")\n",
    "    )\n",
    "\n",
    "    default_line_kwargs = dict(\n",
    "        showlegend=False,\n",
    "        width=2,\n",
    "        lat_col=\"Latitude\",\n",
    "        lon_col=\"Longitude\",\n",
    "    )\n",
    "\n",
    "    default_plot_kwargs = dict(\n",
    "        geo=dict(\n",
    "            projection_type=\"natural earth\",\n",
    "            showland=True,\n",
    "            landcolor=\"rgb(243, 243, 243)\",\n",
    "            showcountries=True,\n",
    "            countrycolor=\"rgb(204, 204, 204)\",\n",
    "            fitbounds=\"locations\"\n",
    "        ),\n",
    "        title=\"Travel Map\",\n",
    "        margin=dict(l=0, r=0, t=40, b=0)\n",
    "    )\n",
    "\n",
    "    # ---------- Apply user overrides ----------\n",
    "    city_kwargs = {**default_city_marker_kwargs, **(city_marker_kwargs or {})}\n",
    "    line_kwargs = {**default_line_kwargs, **(line_kwargs or {})}\n",
    "    plot_kwargs = {**default_plot_kwargs, **(plot_kwargs or {})}\n",
    "\n",
    "    df_sorted = df.sort_values(by=date_col).reset_index(drop=True)\n",
    "\n",
    "    # Normalize date to float for coloring\n",
    "    date_min = df_sorted[date_col].min()\n",
    "    date_max = df_sorted[date_col].max()\n",
    "    date_range = (df_sorted[date_col] - date_min) / (date_max - date_min + pd.Timedelta(days=1e-9))\n",
    "\n",
    "    # Compute marker size and color\n",
    "    sizes = df_sorted[duration_col].fillna(1) * marker_scale + default_marker_size\n",
    "\n",
    "    # Create scatter trace for cities\n",
    "    scatter = go.Scattergeo(\n",
    "        lat=df_sorted[lat_col],\n",
    "        lon=df_sorted[lon_col],\n",
    "        text=[f\"{row[city_col]}<br>{row[date_col].strftime('%d.%m.%Y')} - {(row[date_col]+timedelta(days=row[duration_col])).strftime('%d.%m.%Y')}:  {row[duration_col]} days\" for _, row in df_sorted.iterrows()],\n",
    "        mode=\"markers\",\n",
    "        marker=dict(\n",
    "            size=sizes,\n",
    "            color=date_range,\n",
    "            colorscale=color_scale,\n",
    "            opacity=line_opacity,\n",
    "            **city_kwargs\n",
    "        ),\n",
    "        name=location_name\n",
    "    )\n",
    "\n",
    "    lines = build_colored_lines_geo(\n",
    "        df_sorted=df_sorted,\n",
    "        date_range=date_range,\n",
    "        color_scale=color_scale,\n",
    "        line_opacity=line_opacity,\n",
    "        **line_kwargs\n",
    "    )\n",
    "\n",
    "    fig = go.Figure([scatter] + lines)\n",
    "\n",
    "    fig.update_layout(\n",
    "        **plot_kwargs\n",
    "    )\n",
    "\n",
    "    return fig"
   ],
   "outputs": [],
   "execution_count": 39
  },
  {
   "cell_type": "code",
   "id": "cff1e05be61ca004",
   "metadata": {
    "ExecuteTime": {
     "end_time": "2025-07-18T02:25:44.953472Z",
     "start_time": "2025-07-18T02:25:44.855854Z"
    }
   },
   "source": [
    "mad_max_colors = [\n",
    "    \"#726250\",  # dusty grey-brown (neutral midtone)\n",
    "    \"#9c1c13\",  # blood red (deep vivid accent)\n",
    "    \"#c85d17\",  # burnt copper (warm midtone)\n",
    "    \"#d94f04\",  # rusty orange (bright highlight)\n",
    "    \"#e7a31d\",  # sand yellow (lightest tone)\n",
    "]\n",
    "\n",
    "\n",
    "def build_continuous_scale(hex_colors):\n",
    "    \"\"\"Convert hex color list to Plotly continuous color scale format.\"\"\"\n",
    "    n = len(hex_colors)\n",
    "    return [[i / (n - 1), color] for i, color in enumerate(hex_colors)]\n",
    "\n",
    "mad_max_scale = build_continuous_scale(mad_max_colors)\n",
    "\n",
    "fig = plot_travel_map(df_geo, line_opacity=0.8, color_scale=mad_max_scale)\n",
    "fig.show()"
   ],
   "outputs": [
    {
     "data": {
      "application/vnd.plotly.v1+json": {
       "data": [
        {
         "lat": {
          "dtype": "f8",
          "bdata": "wFcZMsOlPcAVavI5HPpAwN0xK8pbjDvAb84tGWwDPcBSfHxCdlg5wODnCZXJsjfAelG7XwXAN8DSGK2jqok0wEmGHFvPQjDA8PTvnxPbLcCSaukb4u0swA=="
         },
         "lon": {
          "dtype": "f8",
          "bdata": "uM1UiAdCYUBk4MojCd9iQEaENYRZ7mBAVvcjoB3YYEDBNuLJLmFgQOm68IMzvGBAcXK/Q1GfYECrCaLuA8hgQF3QjI8grGBA33AfuTWiYED0l8xnb4hgQA=="
         },
         "marker": {
          "color": {
           "dtype": "f8",
           "bdata": "AAAAAAAAAAAyghYeHh6uPzKCFh4eHr4/peGQlpaWxj+l4ZCWlpbWP18RztLS0uI/peGQlpaW5j/rsVNaWlrqPw8aNTw8POw/MoIWHh4e7j9V6vf////vPw=="
          },
          "colorbar": {
           "title": {
            "text": "Date"
           }
          },
          "colorscale": [
           [
            0.0,
            "#726250"
           ],
           [
            0.25,
            "#9c1c13"
           ],
           [
            0.5,
            "#c85d17"
           ],
           [
            0.75,
            "#d94f04"
           ],
           [
            1.0,
            "#e7a31d"
           ]
          ],
          "line": {
           "color": "black",
           "width": 0.5
          },
          "opacity": 0.8,
          "size": {
           "dtype": "f8",
           "bdata": "AAAAAAAAHEAAAAAAAAAcQAAAAAAAABxAAAAAAAAAJkAAAAAAAAAqQAAAAAAAACJAAAAAAAAAIkAAAAAAAAAcQAAAAAAAABxAAAAAAAAAHEAAAAAAAAAiQA=="
          }
         },
         "mode": "markers",
         "name": "Cities",
         "text": [
          "Marree<br>24.06.2025 - 25.06.2025:  1 days",
          "Williams Creek<br>25.06.2025 - 26.06.2025:  1 days",
          "Oodnadatta<br>26.06.2025 - 27.06.2025:  1 days",
          "Coober Pedy<br>27.06.2025 - 30.06.2025:  3 days",
          "Uluru/Ayers Rock<br>30.06.2025 - 04.07.2025:  4 days",
          "Alice Springs<br>04.07.2025 - 06.07.2025:  2 days",
          "West MacDonnell Ranges<br>06.07.2025 - 08.07.2025:  2 days",
          "Devils Marbles<br>08.07.2025 - 09.07.2025:  1 days",
          "Daly Waters<br>09.07.2025 - 10.07.2025:  1 days",
          "Mataranka<br>10.07.2025 - 11.07.2025:  1 days",
          "Katherine<br>11.07.2025 - 13.07.2025:  2 days"
         ],
         "type": "scattergeo"
        },
        {
         "lat": [
          -29.6475097,
          -33.9539864
         ],
         "line": {
          "color": "rgba(119, 90, 73, 0.8)",
          "width": 2
         },
         "lon": [
          138.0634195,
          150.9698657
         ],
         "mode": "lines",
         "opacity": 0.8,
         "showlegend": false,
         "type": "scattergeo"
        },
        {
         "lat": [
          -33.9539864,
          -27.5482756
         ],
         "line": {
          "color": "rgba(129, 73, 58, 0.8)",
          "width": 2
         },
         "lon": [
          150.9698657,
          135.4484273
         ],
         "mode": "lines",
         "opacity": 0.8,
         "showlegend": false,
         "type": "scattergeo"
        },
        {
         "lat": [
          -27.5482756,
          -29.0133682
         ],
         "line": {
          "color": "rgba(139, 57, 44, 0.8)",
          "width": 2
         },
         "lon": [
          135.4484273,
          134.7536164
         ],
         "mode": "lines",
         "opacity": 0.8,
         "showlegend": false,
         "type": "scattergeo"
        },
        {
         "lat": [
          -29.0133682,
          -25.3455545
         ],
         "line": {
          "color": "rgba(159, 52, 29, 0.8)",
          "width": 2
         },
         "lon": [
          134.7536164,
          131.0369615
         ],
         "mode": "lines",
         "opacity": 0.8,
         "showlegend": false,
         "type": "scattergeo"
        },
        {
         "lat": [
          -25.3455545,
          -23.6983884
         ],
         "line": {
          "color": "rgba(190, 71, 18, 0.8)",
          "width": 2
         },
         "lon": [
          131.0369615,
          133.8812885
         ],
         "mode": "lines",
         "opacity": 0.8,
         "showlegend": false,
         "type": "scattergeo"
        },
        {
         "lat": [
          -23.6983884,
          -23.750082
         ],
         "line": {
          "color": "rgba(210, 84, 11, 0.8)",
          "width": 2
         },
         "lon": [
          133.8812885,
          132.97867
         ],
         "mode": "lines",
         "opacity": 0.8,
         "showlegend": false,
         "type": "scattergeo"
        },
        {
         "lat": [
          -23.750082,
          -20.53776
         ],
         "line": {
          "color": "rgba(217, 92, 9, 0.8)",
          "width": 2
         },
         "lon": [
          132.97867,
          134.25048
         ],
         "mode": "lines",
         "opacity": 0.8,
         "showlegend": false,
         "type": "scattergeo"
        },
        {
         "lat": [
          -20.53776,
          -16.2609765
         ],
         "line": {
          "color": "rgba(222, 113, 14, 0.8)",
          "width": 2
         },
         "lon": [
          134.25048,
          133.3789747
         ],
         "mode": "lines",
         "opacity": 0.8,
         "showlegend": false,
         "type": "scattergeo"
        },
        {
         "lat": [
          -16.2609765,
          -14.9278841
         ],
         "line": {
          "color": "rgba(226, 133, 20, 0.8)",
          "width": 2
         },
         "lon": [
          133.3789747,
          133.069058
         ],
         "mode": "lines",
         "opacity": 0.8,
         "showlegend": false,
         "type": "scattergeo"
        },
        {
         "lat": [
          -14.9278841,
          -14.4646157
         ],
         "line": {
          "color": "rgba(229, 153, 26, 0.8)",
          "width": 2
         },
         "lon": [
          133.069058,
          132.2635993
         ],
         "mode": "lines",
         "opacity": 0.8,
         "showlegend": false,
         "type": "scattergeo"
        }
       ],
       "layout": {
        "template": {
         "data": {
          "histogram2dcontour": [
           {
            "type": "histogram2dcontour",
            "colorbar": {
             "outlinewidth": 0,
             "ticks": ""
            },
            "colorscale": [
             [
              0.0,
              "#0d0887"
             ],
             [
              0.1111111111111111,
              "#46039f"
             ],
             [
              0.2222222222222222,
              "#7201a8"
             ],
             [
              0.3333333333333333,
              "#9c179e"
             ],
             [
              0.4444444444444444,
              "#bd3786"
             ],
             [
              0.5555555555555556,
              "#d8576b"
             ],
             [
              0.6666666666666666,
              "#ed7953"
             ],
             [
              0.7777777777777778,
              "#fb9f3a"
             ],
             [
              0.8888888888888888,
              "#fdca26"
             ],
             [
              1.0,
              "#f0f921"
             ]
            ]
           }
          ],
          "choropleth": [
           {
            "type": "choropleth",
            "colorbar": {
             "outlinewidth": 0,
             "ticks": ""
            }
           }
          ],
          "histogram2d": [
           {
            "type": "histogram2d",
            "colorbar": {
             "outlinewidth": 0,
             "ticks": ""
            },
            "colorscale": [
             [
              0.0,
              "#0d0887"
             ],
             [
              0.1111111111111111,
              "#46039f"
             ],
             [
              0.2222222222222222,
              "#7201a8"
             ],
             [
              0.3333333333333333,
              "#9c179e"
             ],
             [
              0.4444444444444444,
              "#bd3786"
             ],
             [
              0.5555555555555556,
              "#d8576b"
             ],
             [
              0.6666666666666666,
              "#ed7953"
             ],
             [
              0.7777777777777778,
              "#fb9f3a"
             ],
             [
              0.8888888888888888,
              "#fdca26"
             ],
             [
              1.0,
              "#f0f921"
             ]
            ]
           }
          ],
          "heatmap": [
           {
            "type": "heatmap",
            "colorbar": {
             "outlinewidth": 0,
             "ticks": ""
            },
            "colorscale": [
             [
              0.0,
              "#0d0887"
             ],
             [
              0.1111111111111111,
              "#46039f"
             ],
             [
              0.2222222222222222,
              "#7201a8"
             ],
             [
              0.3333333333333333,
              "#9c179e"
             ],
             [
              0.4444444444444444,
              "#bd3786"
             ],
             [
              0.5555555555555556,
              "#d8576b"
             ],
             [
              0.6666666666666666,
              "#ed7953"
             ],
             [
              0.7777777777777778,
              "#fb9f3a"
             ],
             [
              0.8888888888888888,
              "#fdca26"
             ],
             [
              1.0,
              "#f0f921"
             ]
            ]
           }
          ],
          "contourcarpet": [
           {
            "type": "contourcarpet",
            "colorbar": {
             "outlinewidth": 0,
             "ticks": ""
            }
           }
          ],
          "contour": [
           {
            "type": "contour",
            "colorbar": {
             "outlinewidth": 0,
             "ticks": ""
            },
            "colorscale": [
             [
              0.0,
              "#0d0887"
             ],
             [
              0.1111111111111111,
              "#46039f"
             ],
             [
              0.2222222222222222,
              "#7201a8"
             ],
             [
              0.3333333333333333,
              "#9c179e"
             ],
             [
              0.4444444444444444,
              "#bd3786"
             ],
             [
              0.5555555555555556,
              "#d8576b"
             ],
             [
              0.6666666666666666,
              "#ed7953"
             ],
             [
              0.7777777777777778,
              "#fb9f3a"
             ],
             [
              0.8888888888888888,
              "#fdca26"
             ],
             [
              1.0,
              "#f0f921"
             ]
            ]
           }
          ],
          "surface": [
           {
            "type": "surface",
            "colorbar": {
             "outlinewidth": 0,
             "ticks": ""
            },
            "colorscale": [
             [
              0.0,
              "#0d0887"
             ],
             [
              0.1111111111111111,
              "#46039f"
             ],
             [
              0.2222222222222222,
              "#7201a8"
             ],
             [
              0.3333333333333333,
              "#9c179e"
             ],
             [
              0.4444444444444444,
              "#bd3786"
             ],
             [
              0.5555555555555556,
              "#d8576b"
             ],
             [
              0.6666666666666666,
              "#ed7953"
             ],
             [
              0.7777777777777778,
              "#fb9f3a"
             ],
             [
              0.8888888888888888,
              "#fdca26"
             ],
             [
              1.0,
              "#f0f921"
             ]
            ]
           }
          ],
          "mesh3d": [
           {
            "type": "mesh3d",
            "colorbar": {
             "outlinewidth": 0,
             "ticks": ""
            }
           }
          ],
          "scatter": [
           {
            "marker": {
             "line": {
              "color": "#283442"
             }
            },
            "type": "scatter"
           }
          ],
          "parcoords": [
           {
            "type": "parcoords",
            "line": {
             "colorbar": {
              "outlinewidth": 0,
              "ticks": ""
             }
            }
           }
          ],
          "scatterpolargl": [
           {
            "type": "scatterpolargl",
            "marker": {
             "colorbar": {
              "outlinewidth": 0,
              "ticks": ""
             }
            }
           }
          ],
          "bar": [
           {
            "error_x": {
             "color": "#f2f5fa"
            },
            "error_y": {
             "color": "#f2f5fa"
            },
            "marker": {
             "line": {
              "color": "rgb(17,17,17)",
              "width": 0.5
             },
             "pattern": {
              "fillmode": "overlay",
              "size": 10,
              "solidity": 0.2
             }
            },
            "type": "bar"
           }
          ],
          "scattergeo": [
           {
            "type": "scattergeo",
            "marker": {
             "colorbar": {
              "outlinewidth": 0,
              "ticks": ""
             }
            }
           }
          ],
          "scatterpolar": [
           {
            "type": "scatterpolar",
            "marker": {
             "colorbar": {
              "outlinewidth": 0,
              "ticks": ""
             }
            }
           }
          ],
          "histogram": [
           {
            "marker": {
             "pattern": {
              "fillmode": "overlay",
              "size": 10,
              "solidity": 0.2
             }
            },
            "type": "histogram"
           }
          ],
          "scattergl": [
           {
            "marker": {
             "line": {
              "color": "#283442"
             }
            },
            "type": "scattergl"
           }
          ],
          "scatter3d": [
           {
            "type": "scatter3d",
            "line": {
             "colorbar": {
              "outlinewidth": 0,
              "ticks": ""
             }
            },
            "marker": {
             "colorbar": {
              "outlinewidth": 0,
              "ticks": ""
             }
            }
           }
          ],
          "scattermap": [
           {
            "type": "scattermap",
            "marker": {
             "colorbar": {
              "outlinewidth": 0,
              "ticks": ""
             }
            }
           }
          ],
          "scattermapbox": [
           {
            "type": "scattermapbox",
            "marker": {
             "colorbar": {
              "outlinewidth": 0,
              "ticks": ""
             }
            }
           }
          ],
          "scatterternary": [
           {
            "type": "scatterternary",
            "marker": {
             "colorbar": {
              "outlinewidth": 0,
              "ticks": ""
             }
            }
           }
          ],
          "scattercarpet": [
           {
            "type": "scattercarpet",
            "marker": {
             "colorbar": {
              "outlinewidth": 0,
              "ticks": ""
             }
            }
           }
          ],
          "carpet": [
           {
            "aaxis": {
             "endlinecolor": "#A2B1C6",
             "gridcolor": "#506784",
             "linecolor": "#506784",
             "minorgridcolor": "#506784",
             "startlinecolor": "#A2B1C6"
            },
            "baxis": {
             "endlinecolor": "#A2B1C6",
             "gridcolor": "#506784",
             "linecolor": "#506784",
             "minorgridcolor": "#506784",
             "startlinecolor": "#A2B1C6"
            },
            "type": "carpet"
           }
          ],
          "table": [
           {
            "cells": {
             "fill": {
              "color": "#506784"
             },
             "line": {
              "color": "rgb(17,17,17)"
             }
            },
            "header": {
             "fill": {
              "color": "#2a3f5f"
             },
             "line": {
              "color": "rgb(17,17,17)"
             }
            },
            "type": "table"
           }
          ],
          "barpolar": [
           {
            "marker": {
             "line": {
              "color": "rgb(17,17,17)",
              "width": 0.5
             },
             "pattern": {
              "fillmode": "overlay",
              "size": 10,
              "solidity": 0.2
             }
            },
            "type": "barpolar"
           }
          ],
          "pie": [
           {
            "automargin": true,
            "type": "pie"
           }
          ]
         },
         "layout": {
          "autotypenumbers": "strict",
          "colorway": [
           "#636efa",
           "#EF553B",
           "#00cc96",
           "#ab63fa",
           "#FFA15A",
           "#19d3f3",
           "#FF6692",
           "#B6E880",
           "#FF97FF",
           "#FECB52"
          ],
          "font": {
           "color": "#f2f5fa"
          },
          "hovermode": "closest",
          "hoverlabel": {
           "align": "left"
          },
          "paper_bgcolor": "rgb(17,17,17)",
          "plot_bgcolor": "rgb(17,17,17)",
          "polar": {
           "bgcolor": "rgb(17,17,17)",
           "angularaxis": {
            "gridcolor": "#506784",
            "linecolor": "#506784",
            "ticks": ""
           },
           "radialaxis": {
            "gridcolor": "#506784",
            "linecolor": "#506784",
            "ticks": ""
           }
          },
          "ternary": {
           "bgcolor": "rgb(17,17,17)",
           "aaxis": {
            "gridcolor": "#506784",
            "linecolor": "#506784",
            "ticks": ""
           },
           "baxis": {
            "gridcolor": "#506784",
            "linecolor": "#506784",
            "ticks": ""
           },
           "caxis": {
            "gridcolor": "#506784",
            "linecolor": "#506784",
            "ticks": ""
           }
          },
          "coloraxis": {
           "colorbar": {
            "outlinewidth": 0,
            "ticks": ""
           }
          },
          "colorscale": {
           "sequential": [
            [
             0.0,
             "#0d0887"
            ],
            [
             0.1111111111111111,
             "#46039f"
            ],
            [
             0.2222222222222222,
             "#7201a8"
            ],
            [
             0.3333333333333333,
             "#9c179e"
            ],
            [
             0.4444444444444444,
             "#bd3786"
            ],
            [
             0.5555555555555556,
             "#d8576b"
            ],
            [
             0.6666666666666666,
             "#ed7953"
            ],
            [
             0.7777777777777778,
             "#fb9f3a"
            ],
            [
             0.8888888888888888,
             "#fdca26"
            ],
            [
             1.0,
             "#f0f921"
            ]
           ],
           "sequentialminus": [
            [
             0.0,
             "#0d0887"
            ],
            [
             0.1111111111111111,
             "#46039f"
            ],
            [
             0.2222222222222222,
             "#7201a8"
            ],
            [
             0.3333333333333333,
             "#9c179e"
            ],
            [
             0.4444444444444444,
             "#bd3786"
            ],
            [
             0.5555555555555556,
             "#d8576b"
            ],
            [
             0.6666666666666666,
             "#ed7953"
            ],
            [
             0.7777777777777778,
             "#fb9f3a"
            ],
            [
             0.8888888888888888,
             "#fdca26"
            ],
            [
             1.0,
             "#f0f921"
            ]
           ],
           "diverging": [
            [
             0,
             "#8e0152"
            ],
            [
             0.1,
             "#c51b7d"
            ],
            [
             0.2,
             "#de77ae"
            ],
            [
             0.3,
             "#f1b6da"
            ],
            [
             0.4,
             "#fde0ef"
            ],
            [
             0.5,
             "#f7f7f7"
            ],
            [
             0.6,
             "#e6f5d0"
            ],
            [
             0.7,
             "#b8e186"
            ],
            [
             0.8,
             "#7fbc41"
            ],
            [
             0.9,
             "#4d9221"
            ],
            [
             1,
             "#276419"
            ]
           ]
          },
          "xaxis": {
           "gridcolor": "#283442",
           "linecolor": "#506784",
           "ticks": "",
           "title": {
            "standoff": 15
           },
           "zerolinecolor": "#283442",
           "automargin": true,
           "zerolinewidth": 2
          },
          "yaxis": {
           "gridcolor": "#283442",
           "linecolor": "#506784",
           "ticks": "",
           "title": {
            "standoff": 15
           },
           "zerolinecolor": "#283442",
           "automargin": true,
           "zerolinewidth": 2
          },
          "scene": {
           "xaxis": {
            "backgroundcolor": "rgb(17,17,17)",
            "gridcolor": "#506784",
            "linecolor": "#506784",
            "showbackground": true,
            "ticks": "",
            "zerolinecolor": "#C8D4E3",
            "gridwidth": 2
           },
           "yaxis": {
            "backgroundcolor": "rgb(17,17,17)",
            "gridcolor": "#506784",
            "linecolor": "#506784",
            "showbackground": true,
            "ticks": "",
            "zerolinecolor": "#C8D4E3",
            "gridwidth": 2
           },
           "zaxis": {
            "backgroundcolor": "rgb(17,17,17)",
            "gridcolor": "#506784",
            "linecolor": "#506784",
            "showbackground": true,
            "ticks": "",
            "zerolinecolor": "#C8D4E3",
            "gridwidth": 2
           }
          },
          "shapedefaults": {
           "line": {
            "color": "#f2f5fa"
           }
          },
          "annotationdefaults": {
           "arrowcolor": "#f2f5fa",
           "arrowhead": 0,
           "arrowwidth": 1
          },
          "geo": {
           "bgcolor": "rgb(17,17,17)",
           "landcolor": "rgb(17,17,17)",
           "subunitcolor": "#506784",
           "showland": true,
           "showlakes": true,
           "lakecolor": "rgb(17,17,17)"
          },
          "title": {
           "x": 0.05
          },
          "updatemenudefaults": {
           "bgcolor": "#506784",
           "borderwidth": 0
          },
          "sliderdefaults": {
           "bgcolor": "#C8D4E3",
           "borderwidth": 1,
           "bordercolor": "rgb(17,17,17)",
           "tickwidth": 0
          },
          "mapbox": {
           "style": "dark"
          }
         }
        },
        "geo": {
         "projection": {
          "type": "natural earth"
         },
         "showland": true,
         "landcolor": "rgb(243, 243, 243)",
         "showcountries": true,
         "countrycolor": "rgb(204, 204, 204)",
         "fitbounds": "locations"
        },
        "margin": {
         "l": 0,
         "r": 0,
         "t": 40,
         "b": 0
        },
        "title": {
         "text": "Travel Map"
        }
       },
       "config": {
        "plotlyServerURL": "https://plot.ly"
       }
      }
     },
     "metadata": {},
     "output_type": "display_data"
    }
   ],
   "execution_count": 40
  },
  {
   "cell_type": "code",
   "id": "cfdff2d0-261f-4446-bd58-068551c12cab",
   "metadata": {
    "ExecuteTime": {
     "end_time": "2025-07-18T02:14:19.916921Z",
     "start_time": "2025-07-18T02:14:19.851141Z"
    }
   },
   "source": [
    "fig.update_geos(\n",
    "    projection_type=\"natural earth\",  # gives a flat, map-colored globe\n",
    "    showland=True,\n",
    "    landcolor=\"rgb(243, 231, 207)\",\n",
    "    showocean=True,\n",
    "    oceancolor=\"lightblue\",\n",
    "    showcountries=True,\n",
    ")\n",
    "fig.show()"
   ],
   "outputs": [
    {
     "data": {
      "application/vnd.plotly.v1+json": {
       "data": [
        {
         "lat": {
          "dtype": "f8",
          "bdata": "wFcZMsOlPcAVavI5HPpAwN0xK8pbjDvAb84tGWwDPcBSfHxCdlg5wODnCZXJsjfAelG7XwXAN8DSGK2jqok0wEmGHFvPQjDA8PTvnxPbLcCSaukb4u0swA=="
         },
         "lon": {
          "dtype": "f8",
          "bdata": "uM1UiAdCYUBk4MojCd9iQEaENYRZ7mBAVvcjoB3YYEDBNuLJLmFgQOm68IMzvGBAcXK/Q1GfYECrCaLuA8hgQF3QjI8grGBA33AfuTWiYED0l8xnb4hgQA=="
         },
         "marker": {
          "color": {
           "dtype": "f8",
           "bdata": "AAAAAAAAAAAyghYeHh6uPzKCFh4eHr4/peGQlpaWxj+l4ZCWlpbWP18RztLS0uI/peGQlpaW5j/rsVNaWlrqPw8aNTw8POw/MoIWHh4e7j9V6vf////vPw=="
          },
          "colorbar": {
           "title": {
            "text": "Date"
           }
          },
          "colorscale": [
           [
            0.0,
            "#726250"
           ],
           [
            0.25,
            "#9c1c13"
           ],
           [
            0.5,
            "#c85d17"
           ],
           [
            0.75,
            "#d94f04"
           ],
           [
            1.0,
            "#e7a31d"
           ]
          ],
          "line": {
           "color": "black",
           "width": 0.5
          },
          "opacity": 0.8,
          "size": {
           "dtype": "f8",
           "bdata": "AAAAAAAAHEAAAAAAAAAcQAAAAAAAABxAAAAAAAAAJkAAAAAAAAAqQAAAAAAAACJAAAAAAAAAIkAAAAAAAAAcQAAAAAAAABxAAAAAAAAAHEAAAAAAAAAiQA=="
          }
         },
         "mode": "markers",
         "name": "Cities",
         "text": [
          "Marree<br>24.06.2025 - 25.06.2025:  1 days",
          "Williams Creek<br>25.06.2025 - 26.06.2025:  1 days",
          "Oodnadatta<br>26.06.2025 - 27.06.2025:  1 days",
          "Coober Pedy<br>27.06.2025 - 30.06.2025:  3 days",
          "Uluru/Ayers Rock<br>30.06.2025 - 04.07.2025:  4 days",
          "Alice Springs<br>04.07.2025 - 06.07.2025:  2 days",
          "West MacDonnell Ranges<br>06.07.2025 - 08.07.2025:  2 days",
          "Devils Marbles<br>08.07.2025 - 09.07.2025:  1 days",
          "Daly Waters<br>09.07.2025 - 10.07.2025:  1 days",
          "Mataranka<br>10.07.2025 - 11.07.2025:  1 days",
          "Katherine<br>11.07.2025 - 13.07.2025:  2 days"
         ],
         "type": "scattergeo"
        },
        {
         "lat": [
          -29.6475097,
          -33.9539864
         ],
         "line": {
          "color": "rgba(119, 90, 73, 0.8)",
          "width": 2
         },
         "lon": [
          138.0634195,
          150.9698657
         ],
         "mode": "lines",
         "opacity": 0.8,
         "showlegend": false,
         "type": "scattergeo"
        },
        {
         "lat": [
          -33.9539864,
          -27.5482756
         ],
         "line": {
          "color": "rgba(129, 73, 58, 0.8)",
          "width": 2
         },
         "lon": [
          150.9698657,
          135.4484273
         ],
         "mode": "lines",
         "opacity": 0.8,
         "showlegend": false,
         "type": "scattergeo"
        },
        {
         "lat": [
          -27.5482756,
          -29.0133682
         ],
         "line": {
          "color": "rgba(139, 57, 44, 0.8)",
          "width": 2
         },
         "lon": [
          135.4484273,
          134.7536164
         ],
         "mode": "lines",
         "opacity": 0.8,
         "showlegend": false,
         "type": "scattergeo"
        },
        {
         "lat": [
          -29.0133682,
          -25.3455545
         ],
         "line": {
          "color": "rgba(159, 52, 29, 0.8)",
          "width": 2
         },
         "lon": [
          134.7536164,
          131.0369615
         ],
         "mode": "lines",
         "opacity": 0.8,
         "showlegend": false,
         "type": "scattergeo"
        },
        {
         "lat": [
          -25.3455545,
          -23.6983884
         ],
         "line": {
          "color": "rgba(190, 71, 18, 0.8)",
          "width": 2
         },
         "lon": [
          131.0369615,
          133.8812885
         ],
         "mode": "lines",
         "opacity": 0.8,
         "showlegend": false,
         "type": "scattergeo"
        },
        {
         "lat": [
          -23.6983884,
          -23.750082
         ],
         "line": {
          "color": "rgba(210, 84, 11, 0.8)",
          "width": 2
         },
         "lon": [
          133.8812885,
          132.97867
         ],
         "mode": "lines",
         "opacity": 0.8,
         "showlegend": false,
         "type": "scattergeo"
        },
        {
         "lat": [
          -23.750082,
          -20.53776
         ],
         "line": {
          "color": "rgba(217, 92, 9, 0.8)",
          "width": 2
         },
         "lon": [
          132.97867,
          134.25048
         ],
         "mode": "lines",
         "opacity": 0.8,
         "showlegend": false,
         "type": "scattergeo"
        },
        {
         "lat": [
          -20.53776,
          -16.2609765
         ],
         "line": {
          "color": "rgba(222, 113, 14, 0.8)",
          "width": 2
         },
         "lon": [
          134.25048,
          133.3789747
         ],
         "mode": "lines",
         "opacity": 0.8,
         "showlegend": false,
         "type": "scattergeo"
        },
        {
         "lat": [
          -16.2609765,
          -14.9278841
         ],
         "line": {
          "color": "rgba(226, 133, 20, 0.8)",
          "width": 2
         },
         "lon": [
          133.3789747,
          133.069058
         ],
         "mode": "lines",
         "opacity": 0.8,
         "showlegend": false,
         "type": "scattergeo"
        },
        {
         "lat": [
          -14.9278841,
          -14.4646157
         ],
         "line": {
          "color": "rgba(229, 153, 26, 0.8)",
          "width": 2
         },
         "lon": [
          133.069058,
          132.2635993
         ],
         "mode": "lines",
         "opacity": 0.8,
         "showlegend": false,
         "type": "scattergeo"
        }
       ],
       "layout": {
        "template": {
         "data": {
          "histogram2dcontour": [
           {
            "type": "histogram2dcontour",
            "colorbar": {
             "outlinewidth": 0,
             "ticks": ""
            },
            "colorscale": [
             [
              0.0,
              "#0d0887"
             ],
             [
              0.1111111111111111,
              "#46039f"
             ],
             [
              0.2222222222222222,
              "#7201a8"
             ],
             [
              0.3333333333333333,
              "#9c179e"
             ],
             [
              0.4444444444444444,
              "#bd3786"
             ],
             [
              0.5555555555555556,
              "#d8576b"
             ],
             [
              0.6666666666666666,
              "#ed7953"
             ],
             [
              0.7777777777777778,
              "#fb9f3a"
             ],
             [
              0.8888888888888888,
              "#fdca26"
             ],
             [
              1.0,
              "#f0f921"
             ]
            ]
           }
          ],
          "choropleth": [
           {
            "type": "choropleth",
            "colorbar": {
             "outlinewidth": 0,
             "ticks": ""
            }
           }
          ],
          "histogram2d": [
           {
            "type": "histogram2d",
            "colorbar": {
             "outlinewidth": 0,
             "ticks": ""
            },
            "colorscale": [
             [
              0.0,
              "#0d0887"
             ],
             [
              0.1111111111111111,
              "#46039f"
             ],
             [
              0.2222222222222222,
              "#7201a8"
             ],
             [
              0.3333333333333333,
              "#9c179e"
             ],
             [
              0.4444444444444444,
              "#bd3786"
             ],
             [
              0.5555555555555556,
              "#d8576b"
             ],
             [
              0.6666666666666666,
              "#ed7953"
             ],
             [
              0.7777777777777778,
              "#fb9f3a"
             ],
             [
              0.8888888888888888,
              "#fdca26"
             ],
             [
              1.0,
              "#f0f921"
             ]
            ]
           }
          ],
          "heatmap": [
           {
            "type": "heatmap",
            "colorbar": {
             "outlinewidth": 0,
             "ticks": ""
            },
            "colorscale": [
             [
              0.0,
              "#0d0887"
             ],
             [
              0.1111111111111111,
              "#46039f"
             ],
             [
              0.2222222222222222,
              "#7201a8"
             ],
             [
              0.3333333333333333,
              "#9c179e"
             ],
             [
              0.4444444444444444,
              "#bd3786"
             ],
             [
              0.5555555555555556,
              "#d8576b"
             ],
             [
              0.6666666666666666,
              "#ed7953"
             ],
             [
              0.7777777777777778,
              "#fb9f3a"
             ],
             [
              0.8888888888888888,
              "#fdca26"
             ],
             [
              1.0,
              "#f0f921"
             ]
            ]
           }
          ],
          "contourcarpet": [
           {
            "type": "contourcarpet",
            "colorbar": {
             "outlinewidth": 0,
             "ticks": ""
            }
           }
          ],
          "contour": [
           {
            "type": "contour",
            "colorbar": {
             "outlinewidth": 0,
             "ticks": ""
            },
            "colorscale": [
             [
              0.0,
              "#0d0887"
             ],
             [
              0.1111111111111111,
              "#46039f"
             ],
             [
              0.2222222222222222,
              "#7201a8"
             ],
             [
              0.3333333333333333,
              "#9c179e"
             ],
             [
              0.4444444444444444,
              "#bd3786"
             ],
             [
              0.5555555555555556,
              "#d8576b"
             ],
             [
              0.6666666666666666,
              "#ed7953"
             ],
             [
              0.7777777777777778,
              "#fb9f3a"
             ],
             [
              0.8888888888888888,
              "#fdca26"
             ],
             [
              1.0,
              "#f0f921"
             ]
            ]
           }
          ],
          "surface": [
           {
            "type": "surface",
            "colorbar": {
             "outlinewidth": 0,
             "ticks": ""
            },
            "colorscale": [
             [
              0.0,
              "#0d0887"
             ],
             [
              0.1111111111111111,
              "#46039f"
             ],
             [
              0.2222222222222222,
              "#7201a8"
             ],
             [
              0.3333333333333333,
              "#9c179e"
             ],
             [
              0.4444444444444444,
              "#bd3786"
             ],
             [
              0.5555555555555556,
              "#d8576b"
             ],
             [
              0.6666666666666666,
              "#ed7953"
             ],
             [
              0.7777777777777778,
              "#fb9f3a"
             ],
             [
              0.8888888888888888,
              "#fdca26"
             ],
             [
              1.0,
              "#f0f921"
             ]
            ]
           }
          ],
          "mesh3d": [
           {
            "type": "mesh3d",
            "colorbar": {
             "outlinewidth": 0,
             "ticks": ""
            }
           }
          ],
          "scatter": [
           {
            "marker": {
             "line": {
              "color": "#283442"
             }
            },
            "type": "scatter"
           }
          ],
          "parcoords": [
           {
            "type": "parcoords",
            "line": {
             "colorbar": {
              "outlinewidth": 0,
              "ticks": ""
             }
            }
           }
          ],
          "scatterpolargl": [
           {
            "type": "scatterpolargl",
            "marker": {
             "colorbar": {
              "outlinewidth": 0,
              "ticks": ""
             }
            }
           }
          ],
          "bar": [
           {
            "error_x": {
             "color": "#f2f5fa"
            },
            "error_y": {
             "color": "#f2f5fa"
            },
            "marker": {
             "line": {
              "color": "rgb(17,17,17)",
              "width": 0.5
             },
             "pattern": {
              "fillmode": "overlay",
              "size": 10,
              "solidity": 0.2
             }
            },
            "type": "bar"
           }
          ],
          "scattergeo": [
           {
            "type": "scattergeo",
            "marker": {
             "colorbar": {
              "outlinewidth": 0,
              "ticks": ""
             }
            }
           }
          ],
          "scatterpolar": [
           {
            "type": "scatterpolar",
            "marker": {
             "colorbar": {
              "outlinewidth": 0,
              "ticks": ""
             }
            }
           }
          ],
          "histogram": [
           {
            "marker": {
             "pattern": {
              "fillmode": "overlay",
              "size": 10,
              "solidity": 0.2
             }
            },
            "type": "histogram"
           }
          ],
          "scattergl": [
           {
            "marker": {
             "line": {
              "color": "#283442"
             }
            },
            "type": "scattergl"
           }
          ],
          "scatter3d": [
           {
            "type": "scatter3d",
            "line": {
             "colorbar": {
              "outlinewidth": 0,
              "ticks": ""
             }
            },
            "marker": {
             "colorbar": {
              "outlinewidth": 0,
              "ticks": ""
             }
            }
           }
          ],
          "scattermap": [
           {
            "type": "scattermap",
            "marker": {
             "colorbar": {
              "outlinewidth": 0,
              "ticks": ""
             }
            }
           }
          ],
          "scattermapbox": [
           {
            "type": "scattermapbox",
            "marker": {
             "colorbar": {
              "outlinewidth": 0,
              "ticks": ""
             }
            }
           }
          ],
          "scatterternary": [
           {
            "type": "scatterternary",
            "marker": {
             "colorbar": {
              "outlinewidth": 0,
              "ticks": ""
             }
            }
           }
          ],
          "scattercarpet": [
           {
            "type": "scattercarpet",
            "marker": {
             "colorbar": {
              "outlinewidth": 0,
              "ticks": ""
             }
            }
           }
          ],
          "carpet": [
           {
            "aaxis": {
             "endlinecolor": "#A2B1C6",
             "gridcolor": "#506784",
             "linecolor": "#506784",
             "minorgridcolor": "#506784",
             "startlinecolor": "#A2B1C6"
            },
            "baxis": {
             "endlinecolor": "#A2B1C6",
             "gridcolor": "#506784",
             "linecolor": "#506784",
             "minorgridcolor": "#506784",
             "startlinecolor": "#A2B1C6"
            },
            "type": "carpet"
           }
          ],
          "table": [
           {
            "cells": {
             "fill": {
              "color": "#506784"
             },
             "line": {
              "color": "rgb(17,17,17)"
             }
            },
            "header": {
             "fill": {
              "color": "#2a3f5f"
             },
             "line": {
              "color": "rgb(17,17,17)"
             }
            },
            "type": "table"
           }
          ],
          "barpolar": [
           {
            "marker": {
             "line": {
              "color": "rgb(17,17,17)",
              "width": 0.5
             },
             "pattern": {
              "fillmode": "overlay",
              "size": 10,
              "solidity": 0.2
             }
            },
            "type": "barpolar"
           }
          ],
          "pie": [
           {
            "automargin": true,
            "type": "pie"
           }
          ]
         },
         "layout": {
          "autotypenumbers": "strict",
          "colorway": [
           "#636efa",
           "#EF553B",
           "#00cc96",
           "#ab63fa",
           "#FFA15A",
           "#19d3f3",
           "#FF6692",
           "#B6E880",
           "#FF97FF",
           "#FECB52"
          ],
          "font": {
           "color": "#f2f5fa"
          },
          "hovermode": "closest",
          "hoverlabel": {
           "align": "left"
          },
          "paper_bgcolor": "rgb(17,17,17)",
          "plot_bgcolor": "rgb(17,17,17)",
          "polar": {
           "bgcolor": "rgb(17,17,17)",
           "angularaxis": {
            "gridcolor": "#506784",
            "linecolor": "#506784",
            "ticks": ""
           },
           "radialaxis": {
            "gridcolor": "#506784",
            "linecolor": "#506784",
            "ticks": ""
           }
          },
          "ternary": {
           "bgcolor": "rgb(17,17,17)",
           "aaxis": {
            "gridcolor": "#506784",
            "linecolor": "#506784",
            "ticks": ""
           },
           "baxis": {
            "gridcolor": "#506784",
            "linecolor": "#506784",
            "ticks": ""
           },
           "caxis": {
            "gridcolor": "#506784",
            "linecolor": "#506784",
            "ticks": ""
           }
          },
          "coloraxis": {
           "colorbar": {
            "outlinewidth": 0,
            "ticks": ""
           }
          },
          "colorscale": {
           "sequential": [
            [
             0.0,
             "#0d0887"
            ],
            [
             0.1111111111111111,
             "#46039f"
            ],
            [
             0.2222222222222222,
             "#7201a8"
            ],
            [
             0.3333333333333333,
             "#9c179e"
            ],
            [
             0.4444444444444444,
             "#bd3786"
            ],
            [
             0.5555555555555556,
             "#d8576b"
            ],
            [
             0.6666666666666666,
             "#ed7953"
            ],
            [
             0.7777777777777778,
             "#fb9f3a"
            ],
            [
             0.8888888888888888,
             "#fdca26"
            ],
            [
             1.0,
             "#f0f921"
            ]
           ],
           "sequentialminus": [
            [
             0.0,
             "#0d0887"
            ],
            [
             0.1111111111111111,
             "#46039f"
            ],
            [
             0.2222222222222222,
             "#7201a8"
            ],
            [
             0.3333333333333333,
             "#9c179e"
            ],
            [
             0.4444444444444444,
             "#bd3786"
            ],
            [
             0.5555555555555556,
             "#d8576b"
            ],
            [
             0.6666666666666666,
             "#ed7953"
            ],
            [
             0.7777777777777778,
             "#fb9f3a"
            ],
            [
             0.8888888888888888,
             "#fdca26"
            ],
            [
             1.0,
             "#f0f921"
            ]
           ],
           "diverging": [
            [
             0,
             "#8e0152"
            ],
            [
             0.1,
             "#c51b7d"
            ],
            [
             0.2,
             "#de77ae"
            ],
            [
             0.3,
             "#f1b6da"
            ],
            [
             0.4,
             "#fde0ef"
            ],
            [
             0.5,
             "#f7f7f7"
            ],
            [
             0.6,
             "#e6f5d0"
            ],
            [
             0.7,
             "#b8e186"
            ],
            [
             0.8,
             "#7fbc41"
            ],
            [
             0.9,
             "#4d9221"
            ],
            [
             1,
             "#276419"
            ]
           ]
          },
          "xaxis": {
           "gridcolor": "#283442",
           "linecolor": "#506784",
           "ticks": "",
           "title": {
            "standoff": 15
           },
           "zerolinecolor": "#283442",
           "automargin": true,
           "zerolinewidth": 2
          },
          "yaxis": {
           "gridcolor": "#283442",
           "linecolor": "#506784",
           "ticks": "",
           "title": {
            "standoff": 15
           },
           "zerolinecolor": "#283442",
           "automargin": true,
           "zerolinewidth": 2
          },
          "scene": {
           "xaxis": {
            "backgroundcolor": "rgb(17,17,17)",
            "gridcolor": "#506784",
            "linecolor": "#506784",
            "showbackground": true,
            "ticks": "",
            "zerolinecolor": "#C8D4E3",
            "gridwidth": 2
           },
           "yaxis": {
            "backgroundcolor": "rgb(17,17,17)",
            "gridcolor": "#506784",
            "linecolor": "#506784",
            "showbackground": true,
            "ticks": "",
            "zerolinecolor": "#C8D4E3",
            "gridwidth": 2
           },
           "zaxis": {
            "backgroundcolor": "rgb(17,17,17)",
            "gridcolor": "#506784",
            "linecolor": "#506784",
            "showbackground": true,
            "ticks": "",
            "zerolinecolor": "#C8D4E3",
            "gridwidth": 2
           }
          },
          "shapedefaults": {
           "line": {
            "color": "#f2f5fa"
           }
          },
          "annotationdefaults": {
           "arrowcolor": "#f2f5fa",
           "arrowhead": 0,
           "arrowwidth": 1
          },
          "geo": {
           "bgcolor": "rgb(17,17,17)",
           "landcolor": "rgb(17,17,17)",
           "subunitcolor": "#506784",
           "showland": true,
           "showlakes": true,
           "lakecolor": "rgb(17,17,17)"
          },
          "title": {
           "x": 0.05
          },
          "updatemenudefaults": {
           "bgcolor": "#506784",
           "borderwidth": 0
          },
          "sliderdefaults": {
           "bgcolor": "#C8D4E3",
           "borderwidth": 1,
           "bordercolor": "rgb(17,17,17)",
           "tickwidth": 0
          },
          "mapbox": {
           "style": "dark"
          }
         }
        },
        "geo": {
         "projection": {
          "type": "natural earth"
         },
         "showland": true,
         "landcolor": "rgb(243, 231, 207)",
         "showcountries": true,
         "countrycolor": "rgb(204, 204, 204)",
         "fitbounds": "locations",
         "showocean": true,
         "oceancolor": "lightblue"
        },
        "margin": {
         "l": 0,
         "r": 0,
         "t": 40,
         "b": 0
        },
        "title": {
         "text": "Travel Map"
        }
       },
       "config": {
        "plotlyServerURL": "https://plot.ly"
       }
      }
     },
     "metadata": {},
     "output_type": "display_data"
    }
   ],
   "execution_count": 19
  },
  {
   "cell_type": "code",
   "id": "f36f8d36575eceac",
   "metadata": {
    "ExecuteTime": {
     "end_time": "2025-07-18T02:25:50.716706Z",
     "start_time": "2025-07-18T02:25:50.575428Z"
    }
   },
   "source": [
    "fig = plot_travel_map(df_geo, line_opacity=0.8)\n",
    "fig.show()\n"
   ],
   "outputs": [
    {
     "data": {
      "application/vnd.plotly.v1+json": {
       "data": [
        {
         "lat": {
          "dtype": "f8",
          "bdata": "wFcZMsOlPcAVavI5HPpAwN0xK8pbjDvAb84tGWwDPcBSfHxCdlg5wODnCZXJsjfAelG7XwXAN8DSGK2jqok0wEmGHFvPQjDA8PTvnxPbLcCSaukb4u0swA=="
         },
         "lon": {
          "dtype": "f8",
          "bdata": "uM1UiAdCYUBk4MojCd9iQEaENYRZ7mBAVvcjoB3YYEDBNuLJLmFgQOm68IMzvGBAcXK/Q1GfYECrCaLuA8hgQF3QjI8grGBA33AfuTWiYED0l8xnb4hgQA=="
         },
         "marker": {
          "color": {
           "dtype": "f8",
           "bdata": "AAAAAAAAAAAyghYeHh6uPzKCFh4eHr4/peGQlpaWxj+l4ZCWlpbWP18RztLS0uI/peGQlpaW5j/rsVNaWlrqPw8aNTw8POw/MoIWHh4e7j9V6vf////vPw=="
          },
          "colorbar": {
           "title": {
            "text": "Date"
           }
          },
          "colorscale": [
           [
            0.0,
            "#440154"
           ],
           [
            0.1111111111111111,
            "#482878"
           ],
           [
            0.2222222222222222,
            "#3e4989"
           ],
           [
            0.3333333333333333,
            "#31688e"
           ],
           [
            0.4444444444444444,
            "#26828e"
           ],
           [
            0.5555555555555556,
            "#1f9e89"
           ],
           [
            0.6666666666666666,
            "#35b779"
           ],
           [
            0.7777777777777778,
            "#6ece58"
           ],
           [
            0.8888888888888888,
            "#b5de2b"
           ],
           [
            1.0,
            "#fde725"
           ]
          ],
          "line": {
           "color": "black",
           "width": 0.5
          },
          "opacity": 0.8,
          "size": {
           "dtype": "f8",
           "bdata": "AAAAAAAAHEAAAAAAAAAcQAAAAAAAABxAAAAAAAAAJkAAAAAAAAAqQAAAAAAAACJAAAAAAAAAIkAAAAAAAAAcQAAAAAAAABxAAAAAAAAAHEAAAAAAAAAiQA=="
          }
         },
         "mode": "markers",
         "name": "Cities",
         "text": [
          "Marree<br>24.06.2025 - 25.06.2025:  1 days",
          "Williams Creek<br>25.06.2025 - 26.06.2025:  1 days",
          "Oodnadatta<br>26.06.2025 - 27.06.2025:  1 days",
          "Coober Pedy<br>27.06.2025 - 30.06.2025:  3 days",
          "Uluru/Ayers Rock<br>30.06.2025 - 04.07.2025:  4 days",
          "Alice Springs<br>04.07.2025 - 06.07.2025:  2 days",
          "West MacDonnell Ranges<br>06.07.2025 - 08.07.2025:  2 days",
          "Devils Marbles<br>08.07.2025 - 09.07.2025:  1 days",
          "Daly Waters<br>09.07.2025 - 10.07.2025:  1 days",
          "Mataranka<br>10.07.2025 - 11.07.2025:  1 days",
          "Katherine<br>11.07.2025 - 13.07.2025:  2 days"
         ],
         "type": "scattergeo"
        },
        {
         "lat": [
          -29.6475097,
          -33.9539864
         ],
         "line": {
          "color": "rgba(69, 11, 93, 0.8)",
          "width": 2
         },
         "lon": [
          138.0634195,
          150.9698657
         ],
         "mode": "lines",
         "opacity": 0.8,
         "showlegend": false,
         "type": "scattergeo"
        },
        {
         "lat": [
          -33.9539864,
          -27.5482756
         ],
         "line": {
          "color": "rgba(70, 32, 112, 0.8)",
          "width": 2
         },
         "lon": [
          150.9698657,
          135.4484273
         ],
         "mode": "lines",
         "opacity": 0.8,
         "showlegend": false,
         "type": "scattergeo"
        },
        {
         "lat": [
          -27.5482756,
          -29.0133682
         ],
         "line": {
          "color": "rgba(68, 50, 125, 0.8)",
          "width": 2
         },
         "lon": [
          135.4484273,
          134.7536164
         ],
         "mode": "lines",
         "opacity": 0.8,
         "showlegend": false,
         "type": "scattergeo"
        },
        {
         "lat": [
          -29.0133682,
          -25.3455545
         ],
         "line": {
          "color": "rgba(56, 84, 136, 0.8)",
          "width": 2
         },
         "lon": [
          134.7536164,
          131.0369615
         ],
         "mode": "lines",
         "opacity": 0.8,
         "showlegend": false,
         "type": "scattergeo"
        },
        {
         "lat": [
          -25.3455545,
          -23.6983884
         ],
         "line": {
          "color": "rgba(42, 137, 137, 0.8)",
          "width": 2
         },
         "lon": [
          131.0369615,
          133.8812885
         ],
         "mode": "lines",
         "opacity": 0.8,
         "showlegend": false,
         "type": "scattergeo"
        },
        {
         "lat": [
          -23.6983884,
          -23.750082
         ],
         "line": {
          "color": "rgba(55, 178, 120, 0.8)",
          "width": 2
         },
         "lon": [
          133.8812885,
          132.97867
         ],
         "mode": "lines",
         "opacity": 0.8,
         "showlegend": false,
         "type": "scattergeo"
        },
        {
         "lat": [
          -23.750082,
          -20.53776
         ],
         "line": {
          "color": "rgba(106, 202, 89, 0.8)",
          "width": 2
         },
         "lon": [
          132.97867,
          134.25048
         ],
         "mode": "lines",
         "opacity": 0.8,
         "showlegend": false,
         "type": "scattergeo"
        },
        {
         "lat": [
          -20.53776,
          -16.2609765
         ],
         "line": {
          "color": "rgba(158, 217, 57, 0.8)",
          "width": 2
         },
         "lon": [
          134.25048,
          133.3789747
         ],
         "mode": "lines",
         "opacity": 0.8,
         "showlegend": false,
         "type": "scattergeo"
        },
        {
         "lat": [
          -16.2609765,
          -14.9278841
         ],
         "line": {
          "color": "rgba(196, 223, 43, 0.8)",
          "width": 2
         },
         "lon": [
          133.3789747,
          133.069058
         ],
         "mode": "lines",
         "opacity": 0.8,
         "showlegend": false,
         "type": "scattergeo"
        },
        {
         "lat": [
          -14.9278841,
          -14.4646157
         ],
         "line": {
          "color": "rgba(234, 228, 38, 0.8)",
          "width": 2
         },
         "lon": [
          133.069058,
          132.2635993
         ],
         "mode": "lines",
         "opacity": 0.8,
         "showlegend": false,
         "type": "scattergeo"
        }
       ],
       "layout": {
        "template": {
         "data": {
          "histogram2dcontour": [
           {
            "type": "histogram2dcontour",
            "colorbar": {
             "outlinewidth": 0,
             "ticks": ""
            },
            "colorscale": [
             [
              0.0,
              "#0d0887"
             ],
             [
              0.1111111111111111,
              "#46039f"
             ],
             [
              0.2222222222222222,
              "#7201a8"
             ],
             [
              0.3333333333333333,
              "#9c179e"
             ],
             [
              0.4444444444444444,
              "#bd3786"
             ],
             [
              0.5555555555555556,
              "#d8576b"
             ],
             [
              0.6666666666666666,
              "#ed7953"
             ],
             [
              0.7777777777777778,
              "#fb9f3a"
             ],
             [
              0.8888888888888888,
              "#fdca26"
             ],
             [
              1.0,
              "#f0f921"
             ]
            ]
           }
          ],
          "choropleth": [
           {
            "type": "choropleth",
            "colorbar": {
             "outlinewidth": 0,
             "ticks": ""
            }
           }
          ],
          "histogram2d": [
           {
            "type": "histogram2d",
            "colorbar": {
             "outlinewidth": 0,
             "ticks": ""
            },
            "colorscale": [
             [
              0.0,
              "#0d0887"
             ],
             [
              0.1111111111111111,
              "#46039f"
             ],
             [
              0.2222222222222222,
              "#7201a8"
             ],
             [
              0.3333333333333333,
              "#9c179e"
             ],
             [
              0.4444444444444444,
              "#bd3786"
             ],
             [
              0.5555555555555556,
              "#d8576b"
             ],
             [
              0.6666666666666666,
              "#ed7953"
             ],
             [
              0.7777777777777778,
              "#fb9f3a"
             ],
             [
              0.8888888888888888,
              "#fdca26"
             ],
             [
              1.0,
              "#f0f921"
             ]
            ]
           }
          ],
          "heatmap": [
           {
            "type": "heatmap",
            "colorbar": {
             "outlinewidth": 0,
             "ticks": ""
            },
            "colorscale": [
             [
              0.0,
              "#0d0887"
             ],
             [
              0.1111111111111111,
              "#46039f"
             ],
             [
              0.2222222222222222,
              "#7201a8"
             ],
             [
              0.3333333333333333,
              "#9c179e"
             ],
             [
              0.4444444444444444,
              "#bd3786"
             ],
             [
              0.5555555555555556,
              "#d8576b"
             ],
             [
              0.6666666666666666,
              "#ed7953"
             ],
             [
              0.7777777777777778,
              "#fb9f3a"
             ],
             [
              0.8888888888888888,
              "#fdca26"
             ],
             [
              1.0,
              "#f0f921"
             ]
            ]
           }
          ],
          "contourcarpet": [
           {
            "type": "contourcarpet",
            "colorbar": {
             "outlinewidth": 0,
             "ticks": ""
            }
           }
          ],
          "contour": [
           {
            "type": "contour",
            "colorbar": {
             "outlinewidth": 0,
             "ticks": ""
            },
            "colorscale": [
             [
              0.0,
              "#0d0887"
             ],
             [
              0.1111111111111111,
              "#46039f"
             ],
             [
              0.2222222222222222,
              "#7201a8"
             ],
             [
              0.3333333333333333,
              "#9c179e"
             ],
             [
              0.4444444444444444,
              "#bd3786"
             ],
             [
              0.5555555555555556,
              "#d8576b"
             ],
             [
              0.6666666666666666,
              "#ed7953"
             ],
             [
              0.7777777777777778,
              "#fb9f3a"
             ],
             [
              0.8888888888888888,
              "#fdca26"
             ],
             [
              1.0,
              "#f0f921"
             ]
            ]
           }
          ],
          "surface": [
           {
            "type": "surface",
            "colorbar": {
             "outlinewidth": 0,
             "ticks": ""
            },
            "colorscale": [
             [
              0.0,
              "#0d0887"
             ],
             [
              0.1111111111111111,
              "#46039f"
             ],
             [
              0.2222222222222222,
              "#7201a8"
             ],
             [
              0.3333333333333333,
              "#9c179e"
             ],
             [
              0.4444444444444444,
              "#bd3786"
             ],
             [
              0.5555555555555556,
              "#d8576b"
             ],
             [
              0.6666666666666666,
              "#ed7953"
             ],
             [
              0.7777777777777778,
              "#fb9f3a"
             ],
             [
              0.8888888888888888,
              "#fdca26"
             ],
             [
              1.0,
              "#f0f921"
             ]
            ]
           }
          ],
          "mesh3d": [
           {
            "type": "mesh3d",
            "colorbar": {
             "outlinewidth": 0,
             "ticks": ""
            }
           }
          ],
          "scatter": [
           {
            "marker": {
             "line": {
              "color": "#283442"
             }
            },
            "type": "scatter"
           }
          ],
          "parcoords": [
           {
            "type": "parcoords",
            "line": {
             "colorbar": {
              "outlinewidth": 0,
              "ticks": ""
             }
            }
           }
          ],
          "scatterpolargl": [
           {
            "type": "scatterpolargl",
            "marker": {
             "colorbar": {
              "outlinewidth": 0,
              "ticks": ""
             }
            }
           }
          ],
          "bar": [
           {
            "error_x": {
             "color": "#f2f5fa"
            },
            "error_y": {
             "color": "#f2f5fa"
            },
            "marker": {
             "line": {
              "color": "rgb(17,17,17)",
              "width": 0.5
             },
             "pattern": {
              "fillmode": "overlay",
              "size": 10,
              "solidity": 0.2
             }
            },
            "type": "bar"
           }
          ],
          "scattergeo": [
           {
            "type": "scattergeo",
            "marker": {
             "colorbar": {
              "outlinewidth": 0,
              "ticks": ""
             }
            }
           }
          ],
          "scatterpolar": [
           {
            "type": "scatterpolar",
            "marker": {
             "colorbar": {
              "outlinewidth": 0,
              "ticks": ""
             }
            }
           }
          ],
          "histogram": [
           {
            "marker": {
             "pattern": {
              "fillmode": "overlay",
              "size": 10,
              "solidity": 0.2
             }
            },
            "type": "histogram"
           }
          ],
          "scattergl": [
           {
            "marker": {
             "line": {
              "color": "#283442"
             }
            },
            "type": "scattergl"
           }
          ],
          "scatter3d": [
           {
            "type": "scatter3d",
            "line": {
             "colorbar": {
              "outlinewidth": 0,
              "ticks": ""
             }
            },
            "marker": {
             "colorbar": {
              "outlinewidth": 0,
              "ticks": ""
             }
            }
           }
          ],
          "scattermap": [
           {
            "type": "scattermap",
            "marker": {
             "colorbar": {
              "outlinewidth": 0,
              "ticks": ""
             }
            }
           }
          ],
          "scattermapbox": [
           {
            "type": "scattermapbox",
            "marker": {
             "colorbar": {
              "outlinewidth": 0,
              "ticks": ""
             }
            }
           }
          ],
          "scatterternary": [
           {
            "type": "scatterternary",
            "marker": {
             "colorbar": {
              "outlinewidth": 0,
              "ticks": ""
             }
            }
           }
          ],
          "scattercarpet": [
           {
            "type": "scattercarpet",
            "marker": {
             "colorbar": {
              "outlinewidth": 0,
              "ticks": ""
             }
            }
           }
          ],
          "carpet": [
           {
            "aaxis": {
             "endlinecolor": "#A2B1C6",
             "gridcolor": "#506784",
             "linecolor": "#506784",
             "minorgridcolor": "#506784",
             "startlinecolor": "#A2B1C6"
            },
            "baxis": {
             "endlinecolor": "#A2B1C6",
             "gridcolor": "#506784",
             "linecolor": "#506784",
             "minorgridcolor": "#506784",
             "startlinecolor": "#A2B1C6"
            },
            "type": "carpet"
           }
          ],
          "table": [
           {
            "cells": {
             "fill": {
              "color": "#506784"
             },
             "line": {
              "color": "rgb(17,17,17)"
             }
            },
            "header": {
             "fill": {
              "color": "#2a3f5f"
             },
             "line": {
              "color": "rgb(17,17,17)"
             }
            },
            "type": "table"
           }
          ],
          "barpolar": [
           {
            "marker": {
             "line": {
              "color": "rgb(17,17,17)",
              "width": 0.5
             },
             "pattern": {
              "fillmode": "overlay",
              "size": 10,
              "solidity": 0.2
             }
            },
            "type": "barpolar"
           }
          ],
          "pie": [
           {
            "automargin": true,
            "type": "pie"
           }
          ]
         },
         "layout": {
          "autotypenumbers": "strict",
          "colorway": [
           "#636efa",
           "#EF553B",
           "#00cc96",
           "#ab63fa",
           "#FFA15A",
           "#19d3f3",
           "#FF6692",
           "#B6E880",
           "#FF97FF",
           "#FECB52"
          ],
          "font": {
           "color": "#f2f5fa"
          },
          "hovermode": "closest",
          "hoverlabel": {
           "align": "left"
          },
          "paper_bgcolor": "rgb(17,17,17)",
          "plot_bgcolor": "rgb(17,17,17)",
          "polar": {
           "bgcolor": "rgb(17,17,17)",
           "angularaxis": {
            "gridcolor": "#506784",
            "linecolor": "#506784",
            "ticks": ""
           },
           "radialaxis": {
            "gridcolor": "#506784",
            "linecolor": "#506784",
            "ticks": ""
           }
          },
          "ternary": {
           "bgcolor": "rgb(17,17,17)",
           "aaxis": {
            "gridcolor": "#506784",
            "linecolor": "#506784",
            "ticks": ""
           },
           "baxis": {
            "gridcolor": "#506784",
            "linecolor": "#506784",
            "ticks": ""
           },
           "caxis": {
            "gridcolor": "#506784",
            "linecolor": "#506784",
            "ticks": ""
           }
          },
          "coloraxis": {
           "colorbar": {
            "outlinewidth": 0,
            "ticks": ""
           }
          },
          "colorscale": {
           "sequential": [
            [
             0.0,
             "#0d0887"
            ],
            [
             0.1111111111111111,
             "#46039f"
            ],
            [
             0.2222222222222222,
             "#7201a8"
            ],
            [
             0.3333333333333333,
             "#9c179e"
            ],
            [
             0.4444444444444444,
             "#bd3786"
            ],
            [
             0.5555555555555556,
             "#d8576b"
            ],
            [
             0.6666666666666666,
             "#ed7953"
            ],
            [
             0.7777777777777778,
             "#fb9f3a"
            ],
            [
             0.8888888888888888,
             "#fdca26"
            ],
            [
             1.0,
             "#f0f921"
            ]
           ],
           "sequentialminus": [
            [
             0.0,
             "#0d0887"
            ],
            [
             0.1111111111111111,
             "#46039f"
            ],
            [
             0.2222222222222222,
             "#7201a8"
            ],
            [
             0.3333333333333333,
             "#9c179e"
            ],
            [
             0.4444444444444444,
             "#bd3786"
            ],
            [
             0.5555555555555556,
             "#d8576b"
            ],
            [
             0.6666666666666666,
             "#ed7953"
            ],
            [
             0.7777777777777778,
             "#fb9f3a"
            ],
            [
             0.8888888888888888,
             "#fdca26"
            ],
            [
             1.0,
             "#f0f921"
            ]
           ],
           "diverging": [
            [
             0,
             "#8e0152"
            ],
            [
             0.1,
             "#c51b7d"
            ],
            [
             0.2,
             "#de77ae"
            ],
            [
             0.3,
             "#f1b6da"
            ],
            [
             0.4,
             "#fde0ef"
            ],
            [
             0.5,
             "#f7f7f7"
            ],
            [
             0.6,
             "#e6f5d0"
            ],
            [
             0.7,
             "#b8e186"
            ],
            [
             0.8,
             "#7fbc41"
            ],
            [
             0.9,
             "#4d9221"
            ],
            [
             1,
             "#276419"
            ]
           ]
          },
          "xaxis": {
           "gridcolor": "#283442",
           "linecolor": "#506784",
           "ticks": "",
           "title": {
            "standoff": 15
           },
           "zerolinecolor": "#283442",
           "automargin": true,
           "zerolinewidth": 2
          },
          "yaxis": {
           "gridcolor": "#283442",
           "linecolor": "#506784",
           "ticks": "",
           "title": {
            "standoff": 15
           },
           "zerolinecolor": "#283442",
           "automargin": true,
           "zerolinewidth": 2
          },
          "scene": {
           "xaxis": {
            "backgroundcolor": "rgb(17,17,17)",
            "gridcolor": "#506784",
            "linecolor": "#506784",
            "showbackground": true,
            "ticks": "",
            "zerolinecolor": "#C8D4E3",
            "gridwidth": 2
           },
           "yaxis": {
            "backgroundcolor": "rgb(17,17,17)",
            "gridcolor": "#506784",
            "linecolor": "#506784",
            "showbackground": true,
            "ticks": "",
            "zerolinecolor": "#C8D4E3",
            "gridwidth": 2
           },
           "zaxis": {
            "backgroundcolor": "rgb(17,17,17)",
            "gridcolor": "#506784",
            "linecolor": "#506784",
            "showbackground": true,
            "ticks": "",
            "zerolinecolor": "#C8D4E3",
            "gridwidth": 2
           }
          },
          "shapedefaults": {
           "line": {
            "color": "#f2f5fa"
           }
          },
          "annotationdefaults": {
           "arrowcolor": "#f2f5fa",
           "arrowhead": 0,
           "arrowwidth": 1
          },
          "geo": {
           "bgcolor": "rgb(17,17,17)",
           "landcolor": "rgb(17,17,17)",
           "subunitcolor": "#506784",
           "showland": true,
           "showlakes": true,
           "lakecolor": "rgb(17,17,17)"
          },
          "title": {
           "x": 0.05
          },
          "updatemenudefaults": {
           "bgcolor": "#506784",
           "borderwidth": 0
          },
          "sliderdefaults": {
           "bgcolor": "#C8D4E3",
           "borderwidth": 1,
           "bordercolor": "rgb(17,17,17)",
           "tickwidth": 0
          },
          "mapbox": {
           "style": "dark"
          }
         }
        },
        "geo": {
         "projection": {
          "type": "natural earth"
         },
         "showland": true,
         "landcolor": "rgb(243, 243, 243)",
         "showcountries": true,
         "countrycolor": "rgb(204, 204, 204)",
         "fitbounds": "locations"
        },
        "margin": {
         "l": 0,
         "r": 0,
         "t": 40,
         "b": 0
        },
        "title": {
         "text": "Travel Map"
        }
       },
       "config": {
        "plotlyServerURL": "https://plot.ly"
       }
      }
     },
     "metadata": {},
     "output_type": "display_data"
    }
   ],
   "execution_count": 41
  },
  {
   "cell_type": "code",
   "execution_count": null,
   "id": "e5f2eacc4fc4501a",
   "metadata": {
    "ExecuteTime": {
     "end_time": "2025-07-12T12:28:24.074245600Z",
     "start_time": "2025-07-12T11:57:09.714939Z"
    }
   },
   "outputs": [],
   "source": [
    "mad_max_colors = [\n",
    "    \"#2c1d0b\",  # dark burnt brown\n",
    "    \"#d94f04\",  # rusty orange\n",
    "    \"#e7a31d\",  # sand yellow\n",
    "    \"#726250\",  # dusty grey-brown\n",
    "    \"#3b3b3b\",  # dark steel grey\n",
    "    \"#9c1c13\",  # blood red\n",
    "    \"#c85d17\",  # burnt copper\n",
    "]\n",
    "\n",
    "\n",
    "def build_continuous_scale(hex_colors):\n",
    "    \"\"\"Convert hex color list to Plotly continuous color scale format.\"\"\"\n",
    "    n = len(hex_colors)\n",
    "    return [[i / (n - 1), color] for i, color in enumerate(hex_colors)]\n",
    "\n",
    "mad_max_scale = build_continuous_scale(mad_max_colors)\n",
    "\n",
    "import plotly.graph_objects as go\n",
    "import numpy as np\n",
    "\n",
    "z = np.random.rand(10, 10)\n",
    "\n",
    "fig = go.Figure(data=go.Heatmap(\n",
    "    z=z,\n",
    "    colorscale=mad_max_scale,\n",
    "    colorbar=dict(title=\"Intensity\")\n",
    "))\n",
    "fig.update_layout(title=\"Mad Max Style Heatmap\")\n",
    "fig.show(renderer=\"iframe_connected\")"
   ]
  },
  {
   "cell_type": "code",
   "execution_count": null,
   "id": "d3a5565912476cf5",
   "metadata": {},
   "outputs": [],
   "source": []
  }
 ],
 "metadata": {
  "kernelspec": {
   "display_name": "Python 3 (ipykernel)",
   "language": "python",
   "name": "python3"
  },
  "language_info": {
   "codemirror_mode": {
    "name": "ipython",
    "version": 3
   },
   "file_extension": ".py",
   "mimetype": "text/x-python",
   "name": "python",
   "nbconvert_exporter": "python",
   "pygments_lexer": "ipython3",
   "version": "3.13.3"
  }
 },
 "nbformat": 4,
 "nbformat_minor": 5
}
